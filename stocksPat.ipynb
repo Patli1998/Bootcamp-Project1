{
 "cells": [
  {
   "cell_type": "code",
<<<<<<< HEAD
   "execution_count": 4,
=======
   "execution_count": 1,
>>>>>>> main
   "metadata": {},
   "outputs": [],
   "source": [
    "# Import Dependencies\n",
    "import numpy as np\n",
    "import pandas as pd\n",
    "import os\n",
    "\n",
    "import yfinance as yf\n",
    "yf.pdr_override()\n",
    "from pandas_datareader import data as pdr\n",
    "import os\n",
    "import csv\n",
    "from matplotlib import pyplot as plt\n",
<<<<<<< HEAD
    "import scipy.stats as st\n",
    "import seaborn as sns"
=======
    "import scipy.stats as st"
>>>>>>> main
   ]
  },
  {
   "cell_type": "code",
<<<<<<< HEAD
   "execution_count": 5,
=======
   "execution_count": 2,
>>>>>>> main
   "metadata": {},
   "outputs": [
    {
     "name": "stdout",
     "output_type": "stream",
     "text": [
      "[*********************100%***********************]  1 of 1 completed\n",
      "[*********************100%***********************]  1 of 1 completed\n",
      "[*********************100%***********************]  1 of 1 completed\n",
      "[*********************100%***********************]  1 of 1 completed\n",
      "[*********************100%***********************]  1 of 1 completed\n",
      "[*********************100%***********************]  1 of 1 completed\n",
      "[*********************100%***********************]  1 of 1 completed\n",
      "[*********************100%***********************]  1 of 1 completed\n",
      "[*********************100%***********************]  1 of 1 completed\n",
      "[*********************100%***********************]  1 of 1 completed\n",
      "[*********************100%***********************]  1 of 1 completed\n",
      "[*********************100%***********************]  1 of 1 completed\n"
     ]
    }
   ],
   "source": [
    "# Best S&P500 ETF to show performance of the S&P500\n",
    "SPY = pdr.get_data_yahoo('SPY', start='2012-01-01', end='2022-01-01')\n",
    "# Best NASDAQ ETF to show performance of the NASDAQ\n",
    "QQQ = pdr.get_data_yahoo('QQQ', start='2012-01-01', end='2022-01-01')\n",
    "# Best DOW ETF to show performance of the DOW\n",
    "VTI = pdr.get_data_yahoo('VTI', start='2012-01-01', end='2022-01-01')\n",
    "\n",
    "# Grabbing a list of all SECTOR ETFS from https://etfdb.com/etfs/sector/ to keep it Standardized.\n",
    "# Technology, Healthcare, Energy, Real Estate, Materials, Financials, Industrials, Utilities, Consumer Staples, Consumer Discretionary.\n",
    "# Are the main 11 Sectors in the US Economy.\n",
    "\n",
    "# QQQ is already the Technology NASDAQ best fit.\n",
    "# Import the XLK (Biggest Technology ETF Fund)\n",
    "XLK = pdr.get_data_yahoo('XLK', start='2012-01-01', end='2022-01-01')\n",
    "# XLY (Consumer Cyclical/Consumer Discretionary ETF)\n",
    "XLY = pdr.get_data_yahoo('XLY', start='2012-01-01', end='2022-01-01')\n",
    "# XLP (Consumer Defensive/Consumer Staples ETF)\n",
    "XLP = pdr.get_data_yahoo('XLP', start='2012-01-01', end='2022-01-01')\n",
    "# XLV (Healthcare ETF)\n",
    "XLV = pdr.get_data_yahoo('XLV', start='2012-01-01', end='2022-01-01')\n",
    "# XLI (Industrials ETF)\n",
    "XLI = pdr.get_data_yahoo('XLI', start='2012-01-01', end='2022-01-01')\n",
    "# XLF (Financials ETF)\n",
    "XLF = pdr.get_data_yahoo('XLF', start='2012-01-01', end='2022-01-01')\n",
    "# VNQ (Real Estate ETF)\n",
    "VNQ = pdr.get_data_yahoo('VNQ', start='2012-01-01', end='2022-01-01')\n",
    "# XLE (Energy ETF)\n",
    "XLE = pdr.get_data_yahoo('XLE', start='2012-01-01', end='2022-01-01')\n",
    "# XLU (Utilities ETF)\n",
    "XLU = pdr.get_data_yahoo('XLU', start='2012-01-01', end='2022-01-01')"
   ]
  },
  {
   "cell_type": "code",
<<<<<<< HEAD
   "execution_count": 6,
=======
   "execution_count": 3,
>>>>>>> main
   "metadata": {},
   "outputs": [],
   "source": [
    "# Not all Data is equal length. Might want to look for other ETFs to get longer span of Index.\n",
    "# QQQ.to_csv(r'F:\\CODE\\Bootcamp-Project1\\DATA\\QQQ.csv', index=False)\n",
    "# SPY.to_csv(r'F:\\CODE\\Bootcamp-Project1\\DATA\\SPY.csv', index=False)\n",
    "# VTI.to_csv(r'F:\\CODE\\Bootcamp-Project1\\DATA\\VTI.csv', index=False)\n",
    "# XLK.to_csv(r'F:\\CODE\\Bootcamp-Project1\\DATA\\XLK.csv', index=False)\n",
    "# XLC.to_csv(r'F:\\CODE\\Bootcamp-Project1\\DATA\\XLC.csv', index=False)\n",
    "# XLY.to_csv(r'F:\\CODE\\Bootcamp-Project1\\DATA\\XLY.csv', index=False)\n",
    "# XLP.to_csv(r'F:\\CODE\\Bootcamp-Project1\\DATA\\XLP.csv', index=False)\n",
    "# XLV.to_csv(r'F:\\CODE\\Bootcamp-Project1\\DATA\\XLV.csv', index=False)\n",
    "# XLI.to_csv(r'F:\\CODE\\Bootcamp-Project1\\DATA\\XLI.csv', index=False)\n",
    "# XLF.to_csv(r'F:\\CODE\\Bootcamp-Project1\\DATA\\XLF.csv', index=False)\n",
    "# VNQ.to_csv(r'F:\\CODE\\Bootcamp-Project1\\DATA\\VNQ.csv', index=False)\n",
    "# XLE.to_csv(r'F:\\CODE\\Bootcamp-Project1\\DATA\\XLE.csv', index=False)\n",
    "# XLU.to_csv(r'F:\\CODE\\Bootcamp-Project1\\DATA\\XLU.csv', index=False)\n",
    "\n",
    "# folder = 'data'\n",
    "# if not os.path.exists(folder):\n",
    "#     os.makedirs(folder)\n",
    "\n",
    "# files = ['QQQ', 'SPY', 'VTI', 'XLK', 'XLC', 'XLY', 'XLP', 'XLV', 'XLI', 'XLF', 'VNQ', 'XLE', 'XLU']\n",
    "# file_paths = [f'{folder}/{file}.csv' for file in files]\n",
    "\n",
    "# for file, file_path in zip(files, file_paths):\n",
    "#     locals()[file].to_csv(file_path, index=True)"
   ]
  },
  {
   "cell_type": "code",
<<<<<<< HEAD
=======
   "execution_count": 4,
   "metadata": {},
   "outputs": [
    {
     "data": {
      "text/html": [
       "<div>\n",
       "<style scoped>\n",
       "    .dataframe tbody tr th:only-of-type {\n",
       "        vertical-align: middle;\n",
       "    }\n",
       "\n",
       "    .dataframe tbody tr th {\n",
       "        vertical-align: top;\n",
       "    }\n",
       "\n",
       "    .dataframe thead th {\n",
       "        text-align: right;\n",
       "    }\n",
       "</style>\n",
       "<table border=\"1\" class=\"dataframe\">\n",
       "  <thead>\n",
       "    <tr style=\"text-align: right;\">\n",
       "      <th></th>\n",
       "      <th>Open</th>\n",
       "      <th>High</th>\n",
       "      <th>Low</th>\n",
       "      <th>Close</th>\n",
       "      <th>Adj Close</th>\n",
       "      <th>Volume</th>\n",
       "    </tr>\n",
       "    <tr>\n",
       "      <th>Date</th>\n",
       "      <th></th>\n",
       "      <th></th>\n",
       "      <th></th>\n",
       "      <th></th>\n",
       "      <th></th>\n",
       "      <th></th>\n",
       "    </tr>\n",
       "  </thead>\n",
       "  <tbody>\n",
       "    <tr>\n",
       "      <th>2012-01-03 00:00:00-05:00</th>\n",
       "      <td>25.870001</td>\n",
       "      <td>26.020000</td>\n",
       "      <td>25.790001</td>\n",
       "      <td>25.809999</td>\n",
       "      <td>21.923479</td>\n",
       "      <td>26839900</td>\n",
       "    </tr>\n",
       "    <tr>\n",
       "      <th>2012-01-04 00:00:00-05:00</th>\n",
       "      <td>25.799999</td>\n",
       "      <td>25.930000</td>\n",
       "      <td>25.660000</td>\n",
       "      <td>25.879999</td>\n",
       "      <td>21.982939</td>\n",
       "      <td>4744300</td>\n",
       "    </tr>\n",
       "    <tr>\n",
       "      <th>2012-01-05 00:00:00-05:00</th>\n",
       "      <td>25.850000</td>\n",
       "      <td>26.010000</td>\n",
       "      <td>25.730000</td>\n",
       "      <td>25.959999</td>\n",
       "      <td>22.050890</td>\n",
       "      <td>6756900</td>\n",
       "    </tr>\n",
       "    <tr>\n",
       "      <th>2012-01-06 00:00:00-05:00</th>\n",
       "      <td>25.980000</td>\n",
       "      <td>26.030001</td>\n",
       "      <td>25.850000</td>\n",
       "      <td>25.969999</td>\n",
       "      <td>22.059385</td>\n",
       "      <td>4989200</td>\n",
       "    </tr>\n",
       "    <tr>\n",
       "      <th>2012-01-09 00:00:00-05:00</th>\n",
       "      <td>26.059999</td>\n",
       "      <td>26.080000</td>\n",
       "      <td>25.860001</td>\n",
       "      <td>25.930000</td>\n",
       "      <td>22.025412</td>\n",
       "      <td>4086600</td>\n",
       "    </tr>\n",
       "  </tbody>\n",
       "</table>\n",
       "</div>"
      ],
      "text/plain": [
       "                                Open       High        Low      Close  \\\n",
       "Date                                                                    \n",
       "2012-01-03 00:00:00-05:00  25.870001  26.020000  25.790001  25.809999   \n",
       "2012-01-04 00:00:00-05:00  25.799999  25.930000  25.660000  25.879999   \n",
       "2012-01-05 00:00:00-05:00  25.850000  26.010000  25.730000  25.959999   \n",
       "2012-01-06 00:00:00-05:00  25.980000  26.030001  25.850000  25.969999   \n",
       "2012-01-09 00:00:00-05:00  26.059999  26.080000  25.860001  25.930000   \n",
       "\n",
       "                           Adj Close    Volume  \n",
       "Date                                            \n",
       "2012-01-03 00:00:00-05:00  21.923479  26839900  \n",
       "2012-01-04 00:00:00-05:00  21.982939   4744300  \n",
       "2012-01-05 00:00:00-05:00  22.050890   6756900  \n",
       "2012-01-06 00:00:00-05:00  22.059385   4989200  \n",
       "2012-01-09 00:00:00-05:00  22.025412   4086600  "
      ]
     },
     "execution_count": 4,
     "metadata": {},
     "output_type": "execute_result"
    }
   ],
   "source": [
    "XLK.head()"
   ]
  },
  {
   "cell_type": "code",
   "execution_count": 5,
   "metadata": {},
   "outputs": [
    {
     "data": {
      "text/html": [
       "<div>\n",
       "<style scoped>\n",
       "    .dataframe tbody tr th:only-of-type {\n",
       "        vertical-align: middle;\n",
       "    }\n",
       "\n",
       "    .dataframe tbody tr th {\n",
       "        vertical-align: top;\n",
       "    }\n",
       "\n",
       "    .dataframe thead th {\n",
       "        text-align: right;\n",
       "    }\n",
       "</style>\n",
       "<table border=\"1\" class=\"dataframe\">\n",
       "  <thead>\n",
       "    <tr style=\"text-align: right;\">\n",
       "      <th></th>\n",
       "      <th>Open</th>\n",
       "      <th>High</th>\n",
       "      <th>Low</th>\n",
       "      <th>Close</th>\n",
       "      <th>Adj Close</th>\n",
       "      <th>Volume</th>\n",
       "    </tr>\n",
       "    <tr>\n",
       "      <th>Date</th>\n",
       "      <th></th>\n",
       "      <th></th>\n",
       "      <th></th>\n",
       "      <th></th>\n",
       "      <th></th>\n",
       "      <th></th>\n",
       "    </tr>\n",
       "  </thead>\n",
       "  <tbody>\n",
       "    <tr>\n",
       "      <th>2021-12-27 00:00:00-05:00</th>\n",
       "      <td>173.630005</td>\n",
       "      <td>176.690002</td>\n",
       "      <td>173.589996</td>\n",
       "      <td>176.649994</td>\n",
       "      <td>174.931717</td>\n",
       "      <td>6633300</td>\n",
       "    </tr>\n",
       "    <tr>\n",
       "      <th>2021-12-28 00:00:00-05:00</th>\n",
       "      <td>176.979996</td>\n",
       "      <td>177.039993</td>\n",
       "      <td>175.289993</td>\n",
       "      <td>175.729996</td>\n",
       "      <td>174.020676</td>\n",
       "      <td>5711100</td>\n",
       "    </tr>\n",
       "    <tr>\n",
       "      <th>2021-12-29 00:00:00-05:00</th>\n",
       "      <td>175.789993</td>\n",
       "      <td>176.589996</td>\n",
       "      <td>174.970001</td>\n",
       "      <td>175.880005</td>\n",
       "      <td>174.169235</td>\n",
       "      <td>4843900</td>\n",
       "    </tr>\n",
       "    <tr>\n",
       "      <th>2021-12-30 00:00:00-05:00</th>\n",
       "      <td>175.949997</td>\n",
       "      <td>176.539993</td>\n",
       "      <td>174.509995</td>\n",
       "      <td>174.720001</td>\n",
       "      <td>173.020493</td>\n",
       "      <td>5263200</td>\n",
       "    </tr>\n",
       "    <tr>\n",
       "      <th>2021-12-31 00:00:00-05:00</th>\n",
       "      <td>174.550003</td>\n",
       "      <td>174.970001</td>\n",
       "      <td>173.789993</td>\n",
       "      <td>173.869995</td>\n",
       "      <td>172.178772</td>\n",
       "      <td>5121500</td>\n",
       "    </tr>\n",
       "  </tbody>\n",
       "</table>\n",
       "</div>"
      ],
      "text/plain": [
       "                                 Open        High         Low       Close  \\\n",
       "Date                                                                        \n",
       "2021-12-27 00:00:00-05:00  173.630005  176.690002  173.589996  176.649994   \n",
       "2021-12-28 00:00:00-05:00  176.979996  177.039993  175.289993  175.729996   \n",
       "2021-12-29 00:00:00-05:00  175.789993  176.589996  174.970001  175.880005   \n",
       "2021-12-30 00:00:00-05:00  175.949997  176.539993  174.509995  174.720001   \n",
       "2021-12-31 00:00:00-05:00  174.550003  174.970001  173.789993  173.869995   \n",
       "\n",
       "                            Adj Close   Volume  \n",
       "Date                                            \n",
       "2021-12-27 00:00:00-05:00  174.931717  6633300  \n",
       "2021-12-28 00:00:00-05:00  174.020676  5711100  \n",
       "2021-12-29 00:00:00-05:00  174.169235  4843900  \n",
       "2021-12-30 00:00:00-05:00  173.020493  5263200  \n",
       "2021-12-31 00:00:00-05:00  172.178772  5121500  "
      ]
     },
     "execution_count": 5,
     "metadata": {},
     "output_type": "execute_result"
    }
   ],
   "source": [
    "XLK.tail()"
   ]
  },
  {
   "cell_type": "code",
   "execution_count": 6,
   "metadata": {},
   "outputs": [],
   "source": [
    "# XLV.head()"
   ]
  },
  {
   "cell_type": "code",
>>>>>>> main
   "execution_count": 7,
   "metadata": {},
   "outputs": [
    {
     "data": {
      "text/html": [
       "<div>\n",
       "<style scoped>\n",
       "    .dataframe tbody tr th:only-of-type {\n",
       "        vertical-align: middle;\n",
       "    }\n",
       "\n",
       "    .dataframe tbody tr th {\n",
       "        vertical-align: top;\n",
       "    }\n",
       "\n",
       "    .dataframe thead th {\n",
       "        text-align: right;\n",
       "    }\n",
       "</style>\n",
       "<table border=\"1\" class=\"dataframe\">\n",
       "  <thead>\n",
       "    <tr style=\"text-align: right;\">\n",
       "      <th></th>\n",
       "      <th>Open</th>\n",
       "      <th>High</th>\n",
       "      <th>Low</th>\n",
       "      <th>Close</th>\n",
       "      <th>Adj Close</th>\n",
       "      <th>Volume</th>\n",
       "    </tr>\n",
       "    <tr>\n",
       "      <th>Date</th>\n",
       "      <th></th>\n",
       "      <th></th>\n",
       "      <th></th>\n",
       "      <th></th>\n",
       "      <th></th>\n",
       "      <th></th>\n",
       "    </tr>\n",
       "  </thead>\n",
       "  <tbody>\n",
       "    <tr>\n",
       "      <th>2012-01-03 00:00:00-05:00</th>\n",
<<<<<<< HEAD
       "      <td>25.870001</td>\n",
       "      <td>26.020000</td>\n",
       "      <td>25.790001</td>\n",
       "      <td>25.809999</td>\n",
       "      <td>21.923481</td>\n",
       "      <td>26839900</td>\n",
       "    </tr>\n",
       "    <tr>\n",
       "      <th>2012-01-04 00:00:00-05:00</th>\n",
       "      <td>25.799999</td>\n",
       "      <td>25.930000</td>\n",
       "      <td>25.660000</td>\n",
       "      <td>25.879999</td>\n",
       "      <td>21.982937</td>\n",
       "      <td>4744300</td>\n",
       "    </tr>\n",
       "    <tr>\n",
       "      <th>2012-01-05 00:00:00-05:00</th>\n",
       "      <td>25.850000</td>\n",
       "      <td>26.010000</td>\n",
       "      <td>25.730000</td>\n",
       "      <td>25.959999</td>\n",
       "      <td>22.050884</td>\n",
       "      <td>6756900</td>\n",
       "    </tr>\n",
       "    <tr>\n",
       "      <th>2012-01-06 00:00:00-05:00</th>\n",
       "      <td>25.980000</td>\n",
       "      <td>26.030001</td>\n",
       "      <td>25.850000</td>\n",
       "      <td>25.969999</td>\n",
       "      <td>22.059385</td>\n",
       "      <td>4989200</td>\n",
       "    </tr>\n",
       "    <tr>\n",
       "      <th>2012-01-09 00:00:00-05:00</th>\n",
       "      <td>26.059999</td>\n",
       "      <td>26.080000</td>\n",
       "      <td>25.860001</td>\n",
       "      <td>25.930000</td>\n",
       "      <td>22.025406</td>\n",
       "      <td>4086600</td>\n",
       "    </tr>\n",
       "  </tbody>\n",
       "</table>\n",
       "</div>"
      ],
      "text/plain": [
       "                                Open       High        Low      Close  \\\n",
       "Date                                                                    \n",
       "2012-01-03 00:00:00-05:00  25.870001  26.020000  25.790001  25.809999   \n",
       "2012-01-04 00:00:00-05:00  25.799999  25.930000  25.660000  25.879999   \n",
       "2012-01-05 00:00:00-05:00  25.850000  26.010000  25.730000  25.959999   \n",
       "2012-01-06 00:00:00-05:00  25.980000  26.030001  25.850000  25.969999   \n",
       "2012-01-09 00:00:00-05:00  26.059999  26.080000  25.860001  25.930000   \n",
       "\n",
       "                           Adj Close    Volume  \n",
       "Date                                            \n",
       "2012-01-03 00:00:00-05:00  21.923481  26839900  \n",
       "2012-01-04 00:00:00-05:00  21.982937   4744300  \n",
       "2012-01-05 00:00:00-05:00  22.050884   6756900  \n",
       "2012-01-06 00:00:00-05:00  22.059385   4989200  \n",
       "2012-01-09 00:00:00-05:00  22.025406   4086600  "
      ]
     },
     "execution_count": 7,
     "metadata": {},
     "output_type": "execute_result"
    }
   ],
   "source": [
    "XLK.head()"
   ]
  },
  {
   "cell_type": "code",
   "execution_count": 8,
   "metadata": {},
   "outputs": [
    {
     "data": {
      "text/html": [
       "<div>\n",
       "<style scoped>\n",
       "    .dataframe tbody tr th:only-of-type {\n",
       "        vertical-align: middle;\n",
       "    }\n",
       "\n",
       "    .dataframe tbody tr th {\n",
       "        vertical-align: top;\n",
       "    }\n",
       "\n",
       "    .dataframe thead th {\n",
       "        text-align: right;\n",
       "    }\n",
       "</style>\n",
       "<table border=\"1\" class=\"dataframe\">\n",
       "  <thead>\n",
       "    <tr style=\"text-align: right;\">\n",
       "      <th></th>\n",
       "      <th>Open</th>\n",
       "      <th>High</th>\n",
       "      <th>Low</th>\n",
       "      <th>Close</th>\n",
       "      <th>Adj Close</th>\n",
       "      <th>Volume</th>\n",
       "    </tr>\n",
       "    <tr>\n",
       "      <th>Date</th>\n",
       "      <th></th>\n",
       "      <th></th>\n",
       "      <th></th>\n",
       "      <th></th>\n",
       "      <th></th>\n",
       "      <th></th>\n",
       "    </tr>\n",
       "  </thead>\n",
       "  <tbody>\n",
       "    <tr>\n",
       "      <th>2021-12-27 00:00:00-05:00</th>\n",
       "      <td>173.630005</td>\n",
       "      <td>176.690002</td>\n",
       "      <td>173.589996</td>\n",
       "      <td>176.649994</td>\n",
       "      <td>174.931747</td>\n",
       "      <td>6633300</td>\n",
       "    </tr>\n",
       "    <tr>\n",
       "      <th>2021-12-28 00:00:00-05:00</th>\n",
       "      <td>176.979996</td>\n",
       "      <td>177.039993</td>\n",
       "      <td>175.289993</td>\n",
       "      <td>175.729996</td>\n",
       "      <td>174.020660</td>\n",
       "      <td>5711100</td>\n",
       "    </tr>\n",
       "    <tr>\n",
       "      <th>2021-12-29 00:00:00-05:00</th>\n",
       "      <td>175.789993</td>\n",
       "      <td>176.589996</td>\n",
       "      <td>174.970001</td>\n",
       "      <td>175.880005</td>\n",
       "      <td>174.169220</td>\n",
       "      <td>4843900</td>\n",
       "    </tr>\n",
       "    <tr>\n",
       "      <th>2021-12-30 00:00:00-05:00</th>\n",
       "      <td>175.949997</td>\n",
       "      <td>176.539993</td>\n",
       "      <td>174.509995</td>\n",
       "      <td>174.720001</td>\n",
       "      <td>173.020508</td>\n",
       "      <td>5263200</td>\n",
       "    </tr>\n",
       "    <tr>\n",
       "      <th>2021-12-31 00:00:00-05:00</th>\n",
       "      <td>174.550003</td>\n",
       "      <td>174.970001</td>\n",
       "      <td>173.789993</td>\n",
       "      <td>173.869995</td>\n",
       "      <td>172.178787</td>\n",
       "      <td>5121500</td>\n",
       "    </tr>\n",
       "  </tbody>\n",
       "</table>\n",
       "</div>"
      ],
      "text/plain": [
       "                                 Open        High         Low       Close  \\\n",
       "Date                                                                        \n",
       "2021-12-27 00:00:00-05:00  173.630005  176.690002  173.589996  176.649994   \n",
       "2021-12-28 00:00:00-05:00  176.979996  177.039993  175.289993  175.729996   \n",
       "2021-12-29 00:00:00-05:00  175.789993  176.589996  174.970001  175.880005   \n",
       "2021-12-30 00:00:00-05:00  175.949997  176.539993  174.509995  174.720001   \n",
       "2021-12-31 00:00:00-05:00  174.550003  174.970001  173.789993  173.869995   \n",
       "\n",
       "                            Adj Close   Volume  \n",
       "Date                                            \n",
       "2021-12-27 00:00:00-05:00  174.931747  6633300  \n",
       "2021-12-28 00:00:00-05:00  174.020660  5711100  \n",
       "2021-12-29 00:00:00-05:00  174.169220  4843900  \n",
       "2021-12-30 00:00:00-05:00  173.020508  5263200  \n",
       "2021-12-31 00:00:00-05:00  172.178787  5121500  "
      ]
     },
     "execution_count": 8,
     "metadata": {},
     "output_type": "execute_result"
    }
   ],
   "source": [
    "XLK.tail()"
   ]
  },
  {
   "cell_type": "code",
   "execution_count": 9,
   "metadata": {},
   "outputs": [],
   "source": [
    "# XLV.head()"
   ]
  },
  {
   "cell_type": "code",
   "execution_count": 10,
   "metadata": {},
   "outputs": [
    {
     "data": {
      "text/html": [
       "<div>\n",
       "<style scoped>\n",
       "    .dataframe tbody tr th:only-of-type {\n",
       "        vertical-align: middle;\n",
       "    }\n",
       "\n",
       "    .dataframe tbody tr th {\n",
       "        vertical-align: top;\n",
       "    }\n",
       "\n",
       "    .dataframe thead th {\n",
       "        text-align: right;\n",
       "    }\n",
       "</style>\n",
       "<table border=\"1\" class=\"dataframe\">\n",
       "  <thead>\n",
       "    <tr style=\"text-align: right;\">\n",
       "      <th></th>\n",
       "      <th>Open</th>\n",
       "      <th>High</th>\n",
       "      <th>Low</th>\n",
       "      <th>Close</th>\n",
       "      <th>Adj Close</th>\n",
       "      <th>Volume</th>\n",
       "    </tr>\n",
       "    <tr>\n",
       "      <th>Date</th>\n",
       "      <th></th>\n",
       "      <th></th>\n",
       "      <th></th>\n",
       "      <th></th>\n",
       "      <th></th>\n",
       "      <th></th>\n",
       "    </tr>\n",
       "  </thead>\n",
       "  <tbody>\n",
       "    <tr>\n",
       "      <th>2012-01-03 00:00:00-05:00</th>\n",
=======
>>>>>>> main
       "      <td>127.760002</td>\n",
       "      <td>128.380005</td>\n",
       "      <td>127.430000</td>\n",
       "      <td>127.500000</td>\n",
<<<<<<< HEAD
       "      <td>103.596191</td>\n",
=======
       "      <td>103.596207</td>\n",
>>>>>>> main
       "      <td>193697900</td>\n",
       "    </tr>\n",
       "    <tr>\n",
       "      <th>2012-01-04 00:00:00-05:00</th>\n",
       "      <td>127.199997</td>\n",
       "      <td>127.809998</td>\n",
       "      <td>126.709999</td>\n",
       "      <td>127.699997</td>\n",
<<<<<<< HEAD
       "      <td>103.758675</td>\n",
=======
       "      <td>103.758713</td>\n",
>>>>>>> main
       "      <td>127186500</td>\n",
       "    </tr>\n",
       "    <tr>\n",
       "      <th>2012-01-05 00:00:00-05:00</th>\n",
       "      <td>127.010002</td>\n",
       "      <td>128.229996</td>\n",
       "      <td>126.430000</td>\n",
       "      <td>128.039993</td>\n",
<<<<<<< HEAD
       "      <td>104.034943</td>\n",
=======
       "      <td>104.034935</td>\n",
>>>>>>> main
       "      <td>173895000</td>\n",
       "    </tr>\n",
       "    <tr>\n",
       "      <th>2012-01-06 00:00:00-05:00</th>\n",
       "      <td>128.199997</td>\n",
       "      <td>128.220001</td>\n",
       "      <td>127.290001</td>\n",
       "      <td>127.709999</td>\n",
<<<<<<< HEAD
       "      <td>103.766815</td>\n",
=======
       "      <td>103.766823</td>\n",
>>>>>>> main
       "      <td>148050000</td>\n",
       "    </tr>\n",
       "    <tr>\n",
       "      <th>2012-01-09 00:00:00-05:00</th>\n",
       "      <td>128.000000</td>\n",
       "      <td>128.179993</td>\n",
       "      <td>127.410004</td>\n",
       "      <td>128.020004</td>\n",
<<<<<<< HEAD
       "      <td>104.018692</td>\n",
=======
       "      <td>104.018700</td>\n",
>>>>>>> main
       "      <td>99530200</td>\n",
       "    </tr>\n",
       "  </tbody>\n",
       "</table>\n",
       "</div>"
      ],
      "text/plain": [
       "                                 Open        High         Low       Close  \\\n",
       "Date                                                                        \n",
       "2012-01-03 00:00:00-05:00  127.760002  128.380005  127.430000  127.500000   \n",
       "2012-01-04 00:00:00-05:00  127.199997  127.809998  126.709999  127.699997   \n",
       "2012-01-05 00:00:00-05:00  127.010002  128.229996  126.430000  128.039993   \n",
       "2012-01-06 00:00:00-05:00  128.199997  128.220001  127.290001  127.709999   \n",
       "2012-01-09 00:00:00-05:00  128.000000  128.179993  127.410004  128.020004   \n",
       "\n",
       "                            Adj Close     Volume  \n",
       "Date                                              \n",
<<<<<<< HEAD
       "2012-01-03 00:00:00-05:00  103.596191  193697900  \n",
       "2012-01-04 00:00:00-05:00  103.758675  127186500  \n",
       "2012-01-05 00:00:00-05:00  104.034943  173895000  \n",
       "2012-01-06 00:00:00-05:00  103.766815  148050000  \n",
       "2012-01-09 00:00:00-05:00  104.018692   99530200  "
      ]
     },
     "execution_count": 10,
=======
       "2012-01-03 00:00:00-05:00  103.596207  193697900  \n",
       "2012-01-04 00:00:00-05:00  103.758713  127186500  \n",
       "2012-01-05 00:00:00-05:00  104.034935  173895000  \n",
       "2012-01-06 00:00:00-05:00  103.766823  148050000  \n",
       "2012-01-09 00:00:00-05:00  104.018700   99530200  "
      ]
     },
     "execution_count": 7,
>>>>>>> main
     "metadata": {},
     "output_type": "execute_result"
    }
   ],
   "source": [
    "# Show that that DataFrame SPY imported OK\n",
    "SPY.head()"
   ]
  },
  {
   "cell_type": "code",
<<<<<<< HEAD
   "execution_count": 11,
=======
   "execution_count": 8,
>>>>>>> main
   "metadata": {},
   "outputs": [],
   "source": [
    "# SPY.tail()"
   ]
  },
  {
   "cell_type": "code",
<<<<<<< HEAD
   "execution_count": 12,
=======
   "execution_count": 9,
>>>>>>> main
   "metadata": {},
   "outputs": [],
   "source": [
    "# Show that that DataFrame QQQ imported OK\n",
    "# QQQ.head()"
   ]
  },
  {
   "cell_type": "code",
<<<<<<< HEAD
   "execution_count": 13,
=======
   "execution_count": 10,
>>>>>>> main
   "metadata": {},
   "outputs": [],
   "source": [
    "# QQQ.tail()"
   ]
  },
  {
   "cell_type": "code",
<<<<<<< HEAD
   "execution_count": 14,
=======
   "execution_count": 11,
>>>>>>> main
   "metadata": {},
   "outputs": [
    {
     "data": {
      "text/html": [
       "<div>\n",
       "<style scoped>\n",
       "    .dataframe tbody tr th:only-of-type {\n",
       "        vertical-align: middle;\n",
       "    }\n",
       "\n",
       "    .dataframe tbody tr th {\n",
       "        vertical-align: top;\n",
       "    }\n",
       "\n",
       "    .dataframe thead th {\n",
       "        text-align: right;\n",
       "    }\n",
       "</style>\n",
       "<table border=\"1\" class=\"dataframe\">\n",
       "  <thead>\n",
       "    <tr style=\"text-align: right;\">\n",
       "      <th></th>\n",
       "      <th>Open</th>\n",
       "      <th>High</th>\n",
       "      <th>Low</th>\n",
       "      <th>Close</th>\n",
       "      <th>Adj Close</th>\n",
       "      <th>Volume</th>\n",
       "    </tr>\n",
       "    <tr>\n",
       "      <th>Date</th>\n",
       "      <th></th>\n",
       "      <th></th>\n",
       "      <th></th>\n",
       "      <th></th>\n",
       "      <th></th>\n",
       "      <th></th>\n",
       "    </tr>\n",
       "  </thead>\n",
       "  <tbody>\n",
       "    <tr>\n",
       "      <th>2012-01-03 00:00:00-05:00</th>\n",
       "      <td>65.410004</td>\n",
       "      <td>65.720001</td>\n",
       "      <td>65.139999</td>\n",
       "      <td>65.209999</td>\n",
<<<<<<< HEAD
       "      <td>53.269043</td>\n",
=======
       "      <td>53.269047</td>\n",
>>>>>>> main
       "      <td>2230400</td>\n",
       "    </tr>\n",
       "    <tr>\n",
       "      <th>2012-01-04 00:00:00-05:00</th>\n",
       "      <td>65.150002</td>\n",
       "      <td>65.349998</td>\n",
       "      <td>64.769997</td>\n",
       "      <td>65.239998</td>\n",
<<<<<<< HEAD
       "      <td>53.293552</td>\n",
=======
       "      <td>53.293549</td>\n",
>>>>>>> main
       "      <td>1647400</td>\n",
       "    </tr>\n",
       "    <tr>\n",
       "      <th>2012-01-05 00:00:00-05:00</th>\n",
       "      <td>64.940002</td>\n",
       "      <td>65.599998</td>\n",
       "      <td>64.580002</td>\n",
       "      <td>65.529999</td>\n",
<<<<<<< HEAD
       "      <td>53.530441</td>\n",
=======
       "      <td>53.530437</td>\n",
>>>>>>> main
       "      <td>1146300</td>\n",
       "    </tr>\n",
       "    <tr>\n",
       "      <th>2012-01-06 00:00:00-05:00</th>\n",
       "      <td>65.559998</td>\n",
       "      <td>65.599998</td>\n",
       "      <td>65.099998</td>\n",
       "      <td>65.379997</td>\n",
<<<<<<< HEAD
       "      <td>53.407906</td>\n",
=======
       "      <td>53.407921</td>\n",
>>>>>>> main
       "      <td>1640000</td>\n",
       "    </tr>\n",
       "    <tr>\n",
       "      <th>2012-01-09 00:00:00-05:00</th>\n",
       "      <td>65.529999</td>\n",
       "      <td>65.620003</td>\n",
       "      <td>65.190002</td>\n",
       "      <td>65.529999</td>\n",
<<<<<<< HEAD
       "      <td>53.530441</td>\n",
=======
       "      <td>53.530437</td>\n",
>>>>>>> main
       "      <td>1978900</td>\n",
       "    </tr>\n",
       "  </tbody>\n",
       "</table>\n",
       "</div>"
      ],
      "text/plain": [
       "                                Open       High        Low      Close  \\\n",
       "Date                                                                    \n",
       "2012-01-03 00:00:00-05:00  65.410004  65.720001  65.139999  65.209999   \n",
       "2012-01-04 00:00:00-05:00  65.150002  65.349998  64.769997  65.239998   \n",
       "2012-01-05 00:00:00-05:00  64.940002  65.599998  64.580002  65.529999   \n",
       "2012-01-06 00:00:00-05:00  65.559998  65.599998  65.099998  65.379997   \n",
       "2012-01-09 00:00:00-05:00  65.529999  65.620003  65.190002  65.529999   \n",
       "\n",
       "                           Adj Close   Volume  \n",
       "Date                                           \n",
<<<<<<< HEAD
       "2012-01-03 00:00:00-05:00  53.269043  2230400  \n",
       "2012-01-04 00:00:00-05:00  53.293552  1647400  \n",
       "2012-01-05 00:00:00-05:00  53.530441  1146300  \n",
       "2012-01-06 00:00:00-05:00  53.407906  1640000  \n",
       "2012-01-09 00:00:00-05:00  53.530441  1978900  "
      ]
     },
     "execution_count": 14,
=======
       "2012-01-03 00:00:00-05:00  53.269047  2230400  \n",
       "2012-01-04 00:00:00-05:00  53.293549  1647400  \n",
       "2012-01-05 00:00:00-05:00  53.530437  1146300  \n",
       "2012-01-06 00:00:00-05:00  53.407921  1640000  \n",
       "2012-01-09 00:00:00-05:00  53.530437  1978900  "
      ]
     },
     "execution_count": 11,
>>>>>>> main
     "metadata": {},
     "output_type": "execute_result"
    }
   ],
   "source": [
    "# Show that that DataFrame VTI imported OK\n",
    "VTI.head()"
   ]
  },
  {
   "cell_type": "code",
<<<<<<< HEAD
   "execution_count": 15,
=======
   "execution_count": 12,
>>>>>>> main
   "metadata": {},
   "outputs": [],
   "source": [
    "# VTI.tail()"
   ]
  },
  {
   "cell_type": "code",
<<<<<<< HEAD
   "execution_count": 16,
=======
   "execution_count": 13,
>>>>>>> main
   "metadata": {},
   "outputs": [],
   "source": [
    "#QQQ', 'SPY', 'VTI', 'XLK', 'XLC', 'XLY', 'XLP', 'XLV', 'XLI', 'XLF', 'VNQ', 'XLE', 'XLU'\n",
    "\n",
    "VTI = VTI.reset_index()\n",
    "QQQ = QQQ.reset_index()\n",
    "SPY = SPY.reset_index()\n",
    "XLK = XLK.reset_index()\n",
    "XLY = XLY.reset_index()\n",
    "XLP = XLP.reset_index()\n",
    "XLV = XLV.reset_index()\n",
    "XLI = XLI.reset_index()\n",
    "XLF = XLF.reset_index()\n",
    "VNQ = VNQ.reset_index()\n",
    "XLE = XLE.reset_index()\n",
    "XLU = XLU.reset_index()\n"
   ]
  },
  {
   "cell_type": "code",
<<<<<<< HEAD
   "execution_count": 17,
=======
   "execution_count": 14,
>>>>>>> main
   "metadata": {},
   "outputs": [
    {
     "data": {
      "text/html": [
       "<div>\n",
       "<style scoped>\n",
       "    .dataframe tbody tr th:only-of-type {\n",
       "        vertical-align: middle;\n",
       "    }\n",
       "\n",
       "    .dataframe tbody tr th {\n",
       "        vertical-align: top;\n",
       "    }\n",
       "\n",
       "    .dataframe thead th {\n",
       "        text-align: right;\n",
       "    }\n",
       "</style>\n",
       "<table border=\"1\" class=\"dataframe\">\n",
       "  <thead>\n",
       "    <tr style=\"text-align: right;\">\n",
       "      <th></th>\n",
       "      <th>Date</th>\n",
       "      <th>Open</th>\n",
       "      <th>High</th>\n",
       "      <th>Low</th>\n",
       "      <th>Close</th>\n",
       "      <th>Adj Close</th>\n",
       "      <th>Volume</th>\n",
       "      <th>Ticker</th>\n",
       "    </tr>\n",
       "  </thead>\n",
       "  <tbody>\n",
       "    <tr>\n",
       "      <th>0</th>\n",
       "      <td>2012-01-03 00:00:00-05:00</td>\n",
       "      <td>65.410004</td>\n",
       "      <td>65.720001</td>\n",
       "      <td>65.139999</td>\n",
       "      <td>65.209999</td>\n",
<<<<<<< HEAD
       "      <td>53.269043</td>\n",
=======
       "      <td>53.269047</td>\n",
>>>>>>> main
       "      <td>2230400</td>\n",
       "      <td>VTI</td>\n",
       "    </tr>\n",
       "    <tr>\n",
       "      <th>1</th>\n",
       "      <td>2012-01-04 00:00:00-05:00</td>\n",
       "      <td>65.150002</td>\n",
       "      <td>65.349998</td>\n",
       "      <td>64.769997</td>\n",
       "      <td>65.239998</td>\n",
<<<<<<< HEAD
       "      <td>53.293552</td>\n",
=======
       "      <td>53.293549</td>\n",
>>>>>>> main
       "      <td>1647400</td>\n",
       "      <td>VTI</td>\n",
       "    </tr>\n",
       "    <tr>\n",
       "      <th>2</th>\n",
       "      <td>2012-01-05 00:00:00-05:00</td>\n",
       "      <td>64.940002</td>\n",
       "      <td>65.599998</td>\n",
       "      <td>64.580002</td>\n",
       "      <td>65.529999</td>\n",
<<<<<<< HEAD
       "      <td>53.530441</td>\n",
=======
       "      <td>53.530437</td>\n",
>>>>>>> main
       "      <td>1146300</td>\n",
       "      <td>VTI</td>\n",
       "    </tr>\n",
       "    <tr>\n",
       "      <th>3</th>\n",
       "      <td>2012-01-06 00:00:00-05:00</td>\n",
       "      <td>65.559998</td>\n",
       "      <td>65.599998</td>\n",
       "      <td>65.099998</td>\n",
       "      <td>65.379997</td>\n",
<<<<<<< HEAD
       "      <td>53.407906</td>\n",
=======
       "      <td>53.407921</td>\n",
>>>>>>> main
       "      <td>1640000</td>\n",
       "      <td>VTI</td>\n",
       "    </tr>\n",
       "    <tr>\n",
       "      <th>4</th>\n",
       "      <td>2012-01-09 00:00:00-05:00</td>\n",
       "      <td>65.529999</td>\n",
       "      <td>65.620003</td>\n",
       "      <td>65.190002</td>\n",
       "      <td>65.529999</td>\n",
<<<<<<< HEAD
       "      <td>53.530441</td>\n",
=======
       "      <td>53.530437</td>\n",
>>>>>>> main
       "      <td>1978900</td>\n",
       "      <td>VTI</td>\n",
       "    </tr>\n",
       "  </tbody>\n",
       "</table>\n",
       "</div>"
      ],
      "text/plain": [
       "                       Date       Open       High        Low      Close  \\\n",
       "0 2012-01-03 00:00:00-05:00  65.410004  65.720001  65.139999  65.209999   \n",
       "1 2012-01-04 00:00:00-05:00  65.150002  65.349998  64.769997  65.239998   \n",
       "2 2012-01-05 00:00:00-05:00  64.940002  65.599998  64.580002  65.529999   \n",
       "3 2012-01-06 00:00:00-05:00  65.559998  65.599998  65.099998  65.379997   \n",
       "4 2012-01-09 00:00:00-05:00  65.529999  65.620003  65.190002  65.529999   \n",
       "\n",
       "   Adj Close   Volume Ticker  \n",
<<<<<<< HEAD
       "0  53.269043  2230400    VTI  \n",
       "1  53.293552  1647400    VTI  \n",
       "2  53.530441  1146300    VTI  \n",
       "3  53.407906  1640000    VTI  \n",
       "4  53.530441  1978900    VTI  "
      ]
     },
     "execution_count": 17,
=======
       "0  53.269047  2230400    VTI  \n",
       "1  53.293549  1647400    VTI  \n",
       "2  53.530437  1146300    VTI  \n",
       "3  53.407921  1640000    VTI  \n",
       "4  53.530437  1978900    VTI  "
      ]
     },
     "execution_count": 14,
>>>>>>> main
     "metadata": {},
     "output_type": "execute_result"
    }
   ],
   "source": [
    "VTI[\"Ticker\"] = \"VTI\"\n",
    "QQQ[\"Ticker\"] = \"QQQ\"\n",
    "SPY[\"Ticker\"] = \"SPY\"\n",
    "XLK[\"Ticker\"] = \"XLK\"\n",
    "XLY[\"Ticker\"] = \"XLY\"\n",
    "XLP[\"Ticker\"] = \"XLP\"\n",
    "XLV[\"Ticker\"] = \"XLV\"\n",
    "XLI[\"Ticker\"] = \"XLI\"\n",
    "XLF[\"Ticker\"] = \"XLF\"\n",
    "VNQ[\"Ticker\"] = \"VNQ\"\n",
    "XLE[\"Ticker\"] = \"XLE\"\n",
    "XLU[\"Ticker\"] = \"XLU\"\n",
    "\n",
    "VTI.head()"
   ]
  },
  {
   "cell_type": "code",
<<<<<<< HEAD
   "execution_count": 18,
=======
   "execution_count": 15,
>>>>>>> main
   "metadata": {},
   "outputs": [
    {
     "data": {
      "text/html": [
       "<div>\n",
       "<style scoped>\n",
       "    .dataframe tbody tr th:only-of-type {\n",
       "        vertical-align: middle;\n",
       "    }\n",
       "\n",
       "    .dataframe tbody tr th {\n",
       "        vertical-align: top;\n",
       "    }\n",
       "\n",
       "    .dataframe thead th {\n",
       "        text-align: right;\n",
       "    }\n",
       "</style>\n",
       "<table border=\"1\" class=\"dataframe\">\n",
       "  <thead>\n",
       "    <tr style=\"text-align: right;\">\n",
       "      <th></th>\n",
       "      <th>Date</th>\n",
       "      <th>Open</th>\n",
       "      <th>High</th>\n",
       "      <th>Low</th>\n",
       "      <th>Close</th>\n",
       "      <th>Adj Close</th>\n",
       "      <th>Volume</th>\n",
       "      <th>Ticker</th>\n",
       "    </tr>\n",
       "  </thead>\n",
       "  <tbody>\n",
       "    <tr>\n",
       "      <th>2512</th>\n",
       "      <td>2021-12-27 00:00:00-05:00</td>\n",
       "      <td>240.479996</td>\n",
       "      <td>242.960007</td>\n",
       "      <td>240.339996</td>\n",
       "      <td>242.960007</td>\n",
       "      <td>239.067947</td>\n",
       "      <td>4395100</td>\n",
       "      <td>VTI</td>\n",
       "    </tr>\n",
       "    <tr>\n",
       "      <th>2513</th>\n",
       "      <td>2021-12-28 00:00:00-05:00</td>\n",
       "      <td>243.059998</td>\n",
       "      <td>243.779999</td>\n",
       "      <td>242.039993</td>\n",
       "      <td>242.460007</td>\n",
<<<<<<< HEAD
       "      <td>238.575958</td>\n",
=======
       "      <td>238.575974</td>\n",
>>>>>>> main
       "      <td>3960900</td>\n",
       "      <td>VTI</td>\n",
       "    </tr>\n",
       "    <tr>\n",
       "      <th>2514</th>\n",
       "      <td>2021-12-29 00:00:00-05:00</td>\n",
       "      <td>242.550003</td>\n",
       "      <td>243.160004</td>\n",
       "      <td>241.710007</td>\n",
       "      <td>242.600006</td>\n",
<<<<<<< HEAD
       "      <td>238.713715</td>\n",
=======
       "      <td>238.713699</td>\n",
>>>>>>> main
       "      <td>3044300</td>\n",
       "      <td>VTI</td>\n",
       "    </tr>\n",
       "    <tr>\n",
       "      <th>2515</th>\n",
       "      <td>2021-12-30 00:00:00-05:00</td>\n",
       "      <td>243.110001</td>\n",
       "      <td>243.690002</td>\n",
       "      <td>242.000000</td>\n",
       "      <td>242.210007</td>\n",
       "      <td>238.329971</td>\n",
       "      <td>4501500</td>\n",
       "      <td>VTI</td>\n",
       "    </tr>\n",
       "    <tr>\n",
       "      <th>2516</th>\n",
       "      <td>2021-12-31 00:00:00-05:00</td>\n",
       "      <td>242.089996</td>\n",
       "      <td>242.690002</td>\n",
       "      <td>241.440002</td>\n",
       "      <td>241.440002</td>\n",
<<<<<<< HEAD
       "      <td>237.572296</td>\n",
=======
       "      <td>237.572311</td>\n",
>>>>>>> main
       "      <td>3499900</td>\n",
       "      <td>VTI</td>\n",
       "    </tr>\n",
       "  </tbody>\n",
       "</table>\n",
       "</div>"
      ],
      "text/plain": [
       "                          Date        Open        High         Low  \\\n",
       "2512 2021-12-27 00:00:00-05:00  240.479996  242.960007  240.339996   \n",
       "2513 2021-12-28 00:00:00-05:00  243.059998  243.779999  242.039993   \n",
       "2514 2021-12-29 00:00:00-05:00  242.550003  243.160004  241.710007   \n",
       "2515 2021-12-30 00:00:00-05:00  243.110001  243.690002  242.000000   \n",
       "2516 2021-12-31 00:00:00-05:00  242.089996  242.690002  241.440002   \n",
       "\n",
       "           Close   Adj Close   Volume Ticker  \n",
       "2512  242.960007  239.067947  4395100    VTI  \n",
<<<<<<< HEAD
       "2513  242.460007  238.575958  3960900    VTI  \n",
       "2514  242.600006  238.713715  3044300    VTI  \n",
       "2515  242.210007  238.329971  4501500    VTI  \n",
       "2516  241.440002  237.572296  3499900    VTI  "
      ]
     },
     "execution_count": 18,
=======
       "2513  242.460007  238.575974  3960900    VTI  \n",
       "2514  242.600006  238.713699  3044300    VTI  \n",
       "2515  242.210007  238.329971  4501500    VTI  \n",
       "2516  241.440002  237.572311  3499900    VTI  "
      ]
     },
     "execution_count": 15,
>>>>>>> main
     "metadata": {},
     "output_type": "execute_result"
    }
   ],
   "source": [
    "VTI.tail()"
   ]
  },
  {
   "cell_type": "code",
<<<<<<< HEAD
   "execution_count": 19,
=======
   "execution_count": 16,
>>>>>>> main
   "metadata": {},
   "outputs": [],
   "source": [
    "VTI[\"DayChange\"] = int(\"0\")\n",
    "VTI[\"CumulativeChange\"] = int(\"0\")\n",
    "QQQ[\"DayChange\"] = int(\"0\")\n",
    "QQQ[\"CumulativeChange\"] = int(\"0\")\n",
    "SPY[\"DayChange\"] = int(\"0\")\n",
    "SPY[\"CumulativeChange\"] = int(\"0\")\n",
    "XLK[\"DayChange\"] = int(\"0\")\n",
    "XLK[\"CumulativeChange\"] = int(\"0\")\n",
    "XLY[\"DayChange\"] = int(\"0\")\n",
    "XLY[\"CumulativeChange\"] = int(\"0\")\n",
    "XLP[\"DayChange\"] = int(\"0\")\n",
    "XLP[\"CumulativeChange\"] = int(\"0\")\n",
    "XLV[\"DayChange\"] = int(\"0\")\n",
    "XLV[\"CumulativeChange\"] = int(\"0\")\n",
    "XLI[\"DayChange\"] = int(\"0\")\n",
    "XLI[\"CumulativeChange\"] = int(\"0\")\n",
    "XLF[\"DayChange\"] = int(\"0\")\n",
    "XLF[\"CumulativeChange\"] = int(\"0\")\n",
    "VNQ[\"DayChange\"] = int(\"0\")\n",
    "VNQ[\"CumulativeChange\"] = int(\"0\")\n",
    "XLE[\"DayChange\"] = int(\"0\")\n",
    "XLE[\"CumulativeChange\"] = int(\"0\")\n",
    "XLU[\"DayChange\"] = int(\"0\")\n",
    "XLU[\"CumulativeChange\"] = int(\"0\")"
   ]
  },
  {
   "cell_type": "code",
<<<<<<< HEAD
   "execution_count": 20,
=======
   "execution_count": 17,
>>>>>>> main
   "metadata": {},
   "outputs": [
    {
     "data": {
      "text/plain": [
       "Date                datetime64[ns, America/New_York]\n",
       "Open                                         float64\n",
       "High                                         float64\n",
       "Low                                          float64\n",
       "Close                                        float64\n",
       "Adj Close                                    float64\n",
       "Volume                                         int64\n",
       "Ticker                                        object\n",
       "DayChange                                      int64\n",
       "CumulativeChange                               int64\n",
       "dtype: object"
      ]
     },
<<<<<<< HEAD
     "execution_count": 20,
=======
     "execution_count": 17,
>>>>>>> main
     "metadata": {},
     "output_type": "execute_result"
    }
   ],
   "source": [
    "#checking DTypes\n",
    "VTI.dtypes"
   ]
  },
  {
   "cell_type": "code",
<<<<<<< HEAD
   "execution_count": 21,
=======
   "execution_count": 18,
>>>>>>> main
   "metadata": {},
   "outputs": [
    {
     "name": "stdout",
     "output_type": "stream",
     "text": [
      "2517\n"
     ]
    },
    {
     "data": {
      "text/plain": [
       "dtype('int64')"
      ]
     },
<<<<<<< HEAD
     "execution_count": 21,
=======
     "execution_count": 18,
>>>>>>> main
     "metadata": {},
     "output_type": "execute_result"
    }
   ],
   "source": [
    "count = VTI[\"Open\"].count()\n",
    "print(count)\n",
    "count.dtype"
   ]
  },
  {
   "cell_type": "code",
<<<<<<< HEAD
   "execution_count": 22,
=======
   "execution_count": 19,
>>>>>>> main
   "metadata": {},
   "outputs": [],
   "source": [
    "# Run through all tickers to update percent change field\n",
    "changing = 0\n",
    "tickers1 = [QQQ, SPY, VTI, XLK, XLY, XLP, XLV, XLI, XLF, VNQ, XLE, XLU]\n",
    "for x in tickers1:\n",
    "    x[\"DayChange\"] = x.groupby(\"Ticker\").Close.pct_change()*100\n",
    "    x[\"CumulativeChange\"] = x.groupby(\"Ticker\").DayChange.cumsum()"
   ]
  },
  {
   "cell_type": "code",
<<<<<<< HEAD
   "execution_count": 23,
=======
   "execution_count": 20,
>>>>>>> main
   "metadata": {},
   "outputs": [
    {
     "data": {
      "text/html": [
       "<div>\n",
       "<style scoped>\n",
       "    .dataframe tbody tr th:only-of-type {\n",
       "        vertical-align: middle;\n",
       "    }\n",
       "\n",
       "    .dataframe tbody tr th {\n",
       "        vertical-align: top;\n",
       "    }\n",
       "\n",
       "    .dataframe thead th {\n",
       "        text-align: right;\n",
       "    }\n",
       "</style>\n",
       "<table border=\"1\" class=\"dataframe\">\n",
       "  <thead>\n",
       "    <tr style=\"text-align: right;\">\n",
       "      <th></th>\n",
       "      <th>Date</th>\n",
       "      <th>Open</th>\n",
       "      <th>High</th>\n",
       "      <th>Low</th>\n",
       "      <th>Close</th>\n",
       "      <th>Adj Close</th>\n",
       "      <th>Volume</th>\n",
       "      <th>Ticker</th>\n",
       "      <th>DayChange</th>\n",
       "      <th>CumulativeChange</th>\n",
       "    </tr>\n",
       "  </thead>\n",
       "  <tbody>\n",
       "    <tr>\n",
       "      <th>0</th>\n",
       "      <td>2012-01-03 00:00:00-05:00</td>\n",
       "      <td>65.410004</td>\n",
       "      <td>65.720001</td>\n",
       "      <td>65.139999</td>\n",
       "      <td>65.209999</td>\n",
<<<<<<< HEAD
       "      <td>53.269043</td>\n",
=======
       "      <td>53.269047</td>\n",
>>>>>>> main
       "      <td>2230400</td>\n",
       "      <td>VTI</td>\n",
       "      <td>NaN</td>\n",
       "      <td>NaN</td>\n",
       "    </tr>\n",
       "    <tr>\n",
       "      <th>1</th>\n",
       "      <td>2012-01-04 00:00:00-05:00</td>\n",
       "      <td>65.150002</td>\n",
       "      <td>65.349998</td>\n",
       "      <td>64.769997</td>\n",
       "      <td>65.239998</td>\n",
<<<<<<< HEAD
       "      <td>53.293552</td>\n",
=======
       "      <td>53.293549</td>\n",
>>>>>>> main
       "      <td>1647400</td>\n",
       "      <td>VTI</td>\n",
       "      <td>0.046003</td>\n",
       "      <td>0.046003</td>\n",
       "    </tr>\n",
       "    <tr>\n",
       "      <th>2</th>\n",
       "      <td>2012-01-05 00:00:00-05:00</td>\n",
       "      <td>64.940002</td>\n",
       "      <td>65.599998</td>\n",
       "      <td>64.580002</td>\n",
       "      <td>65.529999</td>\n",
<<<<<<< HEAD
       "      <td>53.530441</td>\n",
=======
       "      <td>53.530437</td>\n",
>>>>>>> main
       "      <td>1146300</td>\n",
       "      <td>VTI</td>\n",
       "      <td>0.444514</td>\n",
       "      <td>0.490517</td>\n",
       "    </tr>\n",
       "    <tr>\n",
       "      <th>3</th>\n",
       "      <td>2012-01-06 00:00:00-05:00</td>\n",
       "      <td>65.559998</td>\n",
       "      <td>65.599998</td>\n",
       "      <td>65.099998</td>\n",
       "      <td>65.379997</td>\n",
<<<<<<< HEAD
       "      <td>53.407906</td>\n",
=======
       "      <td>53.407921</td>\n",
>>>>>>> main
       "      <td>1640000</td>\n",
       "      <td>VTI</td>\n",
       "      <td>-0.228905</td>\n",
       "      <td>0.261612</td>\n",
       "    </tr>\n",
       "    <tr>\n",
       "      <th>4</th>\n",
       "      <td>2012-01-09 00:00:00-05:00</td>\n",
       "      <td>65.529999</td>\n",
       "      <td>65.620003</td>\n",
       "      <td>65.190002</td>\n",
       "      <td>65.529999</td>\n",
<<<<<<< HEAD
       "      <td>53.530441</td>\n",
=======
       "      <td>53.530437</td>\n",
>>>>>>> main
       "      <td>1978900</td>\n",
       "      <td>VTI</td>\n",
       "      <td>0.229430</td>\n",
       "      <td>0.491043</td>\n",
       "    </tr>\n",
       "  </tbody>\n",
       "</table>\n",
       "</div>"
      ],
      "text/plain": [
       "                       Date       Open       High        Low      Close  \\\n",
       "0 2012-01-03 00:00:00-05:00  65.410004  65.720001  65.139999  65.209999   \n",
       "1 2012-01-04 00:00:00-05:00  65.150002  65.349998  64.769997  65.239998   \n",
       "2 2012-01-05 00:00:00-05:00  64.940002  65.599998  64.580002  65.529999   \n",
       "3 2012-01-06 00:00:00-05:00  65.559998  65.599998  65.099998  65.379997   \n",
       "4 2012-01-09 00:00:00-05:00  65.529999  65.620003  65.190002  65.529999   \n",
       "\n",
       "   Adj Close   Volume Ticker  DayChange  CumulativeChange  \n",
<<<<<<< HEAD
       "0  53.269043  2230400    VTI        NaN               NaN  \n",
       "1  53.293552  1647400    VTI   0.046003          0.046003  \n",
       "2  53.530441  1146300    VTI   0.444514          0.490517  \n",
       "3  53.407906  1640000    VTI  -0.228905          0.261612  \n",
       "4  53.530441  1978900    VTI   0.229430          0.491043  "
      ]
     },
     "execution_count": 23,
=======
       "0  53.269047  2230400    VTI        NaN               NaN  \n",
       "1  53.293549  1647400    VTI   0.046003          0.046003  \n",
       "2  53.530437  1146300    VTI   0.444514          0.490517  \n",
       "3  53.407921  1640000    VTI  -0.228905          0.261612  \n",
       "4  53.530437  1978900    VTI   0.229430          0.491043  "
      ]
     },
     "execution_count": 20,
>>>>>>> main
     "metadata": {},
     "output_type": "execute_result"
    }
   ],
   "source": [
    "VTI.head()"
   ]
  },
  {
   "cell_type": "code",
<<<<<<< HEAD
   "execution_count": 24,
=======
   "execution_count": 21,
>>>>>>> main
   "metadata": {},
   "outputs": [
    {
     "data": {
      "text/html": [
       "<div>\n",
       "<style scoped>\n",
       "    .dataframe tbody tr th:only-of-type {\n",
       "        vertical-align: middle;\n",
       "    }\n",
       "\n",
       "    .dataframe tbody tr th {\n",
       "        vertical-align: top;\n",
       "    }\n",
       "\n",
       "    .dataframe thead th {\n",
       "        text-align: right;\n",
       "    }\n",
       "</style>\n",
       "<table border=\"1\" class=\"dataframe\">\n",
       "  <thead>\n",
       "    <tr style=\"text-align: right;\">\n",
       "      <th></th>\n",
       "      <th>Date</th>\n",
       "      <th>Open</th>\n",
       "      <th>High</th>\n",
       "      <th>Low</th>\n",
       "      <th>Close</th>\n",
       "      <th>Adj Close</th>\n",
       "      <th>Volume</th>\n",
       "      <th>Ticker</th>\n",
       "      <th>DayChange</th>\n",
       "      <th>CumulativeChange</th>\n",
       "    </tr>\n",
       "  </thead>\n",
       "  <tbody>\n",
       "    <tr>\n",
       "      <th>2512</th>\n",
       "      <td>2021-12-27 00:00:00-05:00</td>\n",
       "      <td>240.479996</td>\n",
       "      <td>242.960007</td>\n",
       "      <td>240.339996</td>\n",
       "      <td>242.960007</td>\n",
       "      <td>239.067947</td>\n",
       "      <td>4395100</td>\n",
       "      <td>VTI</td>\n",
       "      <td>0.951514</td>\n",
       "      <td>145.136778</td>\n",
       "    </tr>\n",
       "    <tr>\n",
       "      <th>2513</th>\n",
       "      <td>2021-12-28 00:00:00-05:00</td>\n",
       "      <td>243.059998</td>\n",
       "      <td>243.779999</td>\n",
       "      <td>242.039993</td>\n",
       "      <td>242.460007</td>\n",
<<<<<<< HEAD
       "      <td>238.575958</td>\n",
=======
       "      <td>238.575974</td>\n",
>>>>>>> main
       "      <td>3960900</td>\n",
       "      <td>VTI</td>\n",
       "      <td>-0.205795</td>\n",
       "      <td>144.930983</td>\n",
       "    </tr>\n",
       "    <tr>\n",
       "      <th>2514</th>\n",
       "      <td>2021-12-29 00:00:00-05:00</td>\n",
       "      <td>242.550003</td>\n",
       "      <td>243.160004</td>\n",
       "      <td>241.710007</td>\n",
       "      <td>242.600006</td>\n",
<<<<<<< HEAD
       "      <td>238.713715</td>\n",
=======
       "      <td>238.713699</td>\n",
>>>>>>> main
       "      <td>3044300</td>\n",
       "      <td>VTI</td>\n",
       "      <td>0.057741</td>\n",
       "      <td>144.988724</td>\n",
       "    </tr>\n",
       "    <tr>\n",
       "      <th>2515</th>\n",
       "      <td>2021-12-30 00:00:00-05:00</td>\n",
       "      <td>243.110001</td>\n",
       "      <td>243.690002</td>\n",
       "      <td>242.000000</td>\n",
       "      <td>242.210007</td>\n",
       "      <td>238.329971</td>\n",
       "      <td>4501500</td>\n",
       "      <td>VTI</td>\n",
       "      <td>-0.160758</td>\n",
       "      <td>144.827966</td>\n",
       "    </tr>\n",
       "    <tr>\n",
       "      <th>2516</th>\n",
       "      <td>2021-12-31 00:00:00-05:00</td>\n",
       "      <td>242.089996</td>\n",
       "      <td>242.690002</td>\n",
       "      <td>241.440002</td>\n",
       "      <td>241.440002</td>\n",
<<<<<<< HEAD
       "      <td>237.572296</td>\n",
=======
       "      <td>237.572311</td>\n",
>>>>>>> main
       "      <td>3499900</td>\n",
       "      <td>VTI</td>\n",
       "      <td>-0.317908</td>\n",
       "      <td>144.510058</td>\n",
       "    </tr>\n",
       "  </tbody>\n",
       "</table>\n",
       "</div>"
      ],
      "text/plain": [
       "                          Date        Open        High         Low  \\\n",
       "2512 2021-12-27 00:00:00-05:00  240.479996  242.960007  240.339996   \n",
       "2513 2021-12-28 00:00:00-05:00  243.059998  243.779999  242.039993   \n",
       "2514 2021-12-29 00:00:00-05:00  242.550003  243.160004  241.710007   \n",
       "2515 2021-12-30 00:00:00-05:00  243.110001  243.690002  242.000000   \n",
       "2516 2021-12-31 00:00:00-05:00  242.089996  242.690002  241.440002   \n",
       "\n",
       "           Close   Adj Close   Volume Ticker  DayChange  CumulativeChange  \n",
       "2512  242.960007  239.067947  4395100    VTI   0.951514        145.136778  \n",
<<<<<<< HEAD
       "2513  242.460007  238.575958  3960900    VTI  -0.205795        144.930983  \n",
       "2514  242.600006  238.713715  3044300    VTI   0.057741        144.988724  \n",
       "2515  242.210007  238.329971  4501500    VTI  -0.160758        144.827966  \n",
       "2516  241.440002  237.572296  3499900    VTI  -0.317908        144.510058  "
      ]
     },
     "execution_count": 24,
=======
       "2513  242.460007  238.575974  3960900    VTI  -0.205795        144.930983  \n",
       "2514  242.600006  238.713699  3044300    VTI   0.057741        144.988724  \n",
       "2515  242.210007  238.329971  4501500    VTI  -0.160758        144.827966  \n",
       "2516  241.440002  237.572311  3499900    VTI  -0.317908        144.510058  "
      ]
     },
     "execution_count": 21,
>>>>>>> main
     "metadata": {},
     "output_type": "execute_result"
    }
   ],
   "source": [
    "VTI.tail()"
   ]
  },
  {
   "cell_type": "code",
<<<<<<< HEAD
   "execution_count": 25,
=======
   "execution_count": 22,
>>>>>>> main
   "metadata": {},
   "outputs": [
    {
     "data": {
      "text/html": [
       "<div>\n",
       "<style scoped>\n",
       "    .dataframe tbody tr th:only-of-type {\n",
       "        vertical-align: middle;\n",
       "    }\n",
       "\n",
       "    .dataframe tbody tr th {\n",
       "        vertical-align: top;\n",
       "    }\n",
       "\n",
       "    .dataframe thead th {\n",
       "        text-align: right;\n",
       "    }\n",
       "</style>\n",
       "<table border=\"1\" class=\"dataframe\">\n",
       "  <thead>\n",
       "    <tr style=\"text-align: right;\">\n",
       "      <th></th>\n",
       "      <th>Date</th>\n",
       "      <th>Open</th>\n",
       "      <th>High</th>\n",
       "      <th>Low</th>\n",
       "      <th>Close</th>\n",
       "      <th>Adj Close</th>\n",
       "      <th>Volume</th>\n",
       "      <th>Ticker</th>\n",
       "      <th>DayChange</th>\n",
       "      <th>CumulativeChange</th>\n",
       "    </tr>\n",
       "  </thead>\n",
       "  <tbody>\n",
       "    <tr>\n",
       "      <th>0</th>\n",
       "      <td>2012-01-03 00:00:00-05:00</td>\n",
       "      <td>56.910000</td>\n",
       "      <td>57.189999</td>\n",
       "      <td>56.750000</td>\n",
       "      <td>56.900002</td>\n",
<<<<<<< HEAD
       "      <td>51.284279</td>\n",
=======
       "      <td>51.284267</td>\n",
>>>>>>> main
       "      <td>39514100</td>\n",
       "      <td>QQQ</td>\n",
       "      <td>NaN</td>\n",
       "      <td>NaN</td>\n",
       "    </tr>\n",
       "    <tr>\n",
       "      <th>1</th>\n",
       "      <td>2012-01-04 00:00:00-05:00</td>\n",
       "      <td>56.810001</td>\n",
       "      <td>57.220001</td>\n",
       "      <td>56.560001</td>\n",
       "      <td>57.139999</td>\n",
<<<<<<< HEAD
       "      <td>51.500591</td>\n",
=======
       "      <td>51.500584</td>\n",
>>>>>>> main
       "      <td>29403400</td>\n",
       "      <td>QQQ</td>\n",
       "      <td>0.421789</td>\n",
       "      <td>0.421789</td>\n",
       "    </tr>\n",
       "    <tr>\n",
       "      <th>2</th>\n",
       "      <td>2012-01-05 00:00:00-05:00</td>\n",
       "      <td>57.020000</td>\n",
       "      <td>57.660000</td>\n",
       "      <td>56.799999</td>\n",
       "      <td>57.610001</td>\n",
       "      <td>51.924206</td>\n",
       "      <td>41260600</td>\n",
       "      <td>QQQ</td>\n",
       "      <td>0.822543</td>\n",
       "      <td>1.244332</td>\n",
       "    </tr>\n",
       "    <tr>\n",
       "      <th>3</th>\n",
       "      <td>2012-01-06 00:00:00-05:00</td>\n",
       "      <td>57.619999</td>\n",
       "      <td>57.939999</td>\n",
       "      <td>57.400002</td>\n",
       "      <td>57.810001</td>\n",
<<<<<<< HEAD
       "      <td>52.104454</td>\n",
=======
       "      <td>52.104465</td>\n",
>>>>>>> main
       "      <td>46325200</td>\n",
       "      <td>QQQ</td>\n",
       "      <td>0.347163</td>\n",
       "      <td>1.591495</td>\n",
       "    </tr>\n",
       "    <tr>\n",
       "      <th>4</th>\n",
       "      <td>2012-01-09 00:00:00-05:00</td>\n",
       "      <td>57.959999</td>\n",
       "      <td>57.980000</td>\n",
       "      <td>57.430000</td>\n",
       "      <td>57.619999</td>\n",
<<<<<<< HEAD
       "      <td>51.933212</td>\n",
=======
       "      <td>51.933216</td>\n",
>>>>>>> main
       "      <td>39195500</td>\n",
       "      <td>QQQ</td>\n",
       "      <td>-0.328667</td>\n",
       "      <td>1.262828</td>\n",
       "    </tr>\n",
       "  </tbody>\n",
       "</table>\n",
       "</div>"
      ],
      "text/plain": [
       "                       Date       Open       High        Low      Close  \\\n",
       "0 2012-01-03 00:00:00-05:00  56.910000  57.189999  56.750000  56.900002   \n",
       "1 2012-01-04 00:00:00-05:00  56.810001  57.220001  56.560001  57.139999   \n",
       "2 2012-01-05 00:00:00-05:00  57.020000  57.660000  56.799999  57.610001   \n",
       "3 2012-01-06 00:00:00-05:00  57.619999  57.939999  57.400002  57.810001   \n",
       "4 2012-01-09 00:00:00-05:00  57.959999  57.980000  57.430000  57.619999   \n",
       "\n",
       "   Adj Close    Volume Ticker  DayChange  CumulativeChange  \n",
<<<<<<< HEAD
       "0  51.284279  39514100    QQQ        NaN               NaN  \n",
       "1  51.500591  29403400    QQQ   0.421789          0.421789  \n",
       "2  51.924206  41260600    QQQ   0.822543          1.244332  \n",
       "3  52.104454  46325200    QQQ   0.347163          1.591495  \n",
       "4  51.933212  39195500    QQQ  -0.328667          1.262828  "
      ]
     },
     "execution_count": 25,
=======
       "0  51.284267  39514100    QQQ        NaN               NaN  \n",
       "1  51.500584  29403400    QQQ   0.421789          0.421789  \n",
       "2  51.924206  41260600    QQQ   0.822543          1.244332  \n",
       "3  52.104465  46325200    QQQ   0.347163          1.591495  \n",
       "4  51.933216  39195500    QQQ  -0.328667          1.262828  "
      ]
     },
     "execution_count": 22,
>>>>>>> main
     "metadata": {},
     "output_type": "execute_result"
    }
   ],
   "source": [
    "QQQ.head()"
   ]
  },
  {
   "cell_type": "code",
<<<<<<< HEAD
   "execution_count": 26,
=======
   "execution_count": 23,
>>>>>>> main
   "metadata": {},
   "outputs": [
    {
     "data": {
      "text/html": [
       "<div>\n",
       "<style scoped>\n",
       "    .dataframe tbody tr th:only-of-type {\n",
       "        vertical-align: middle;\n",
       "    }\n",
       "\n",
       "    .dataframe tbody tr th {\n",
       "        vertical-align: top;\n",
       "    }\n",
       "\n",
       "    .dataframe thead th {\n",
       "        text-align: right;\n",
       "    }\n",
       "</style>\n",
       "<table border=\"1\" class=\"dataframe\">\n",
       "  <thead>\n",
       "    <tr style=\"text-align: right;\">\n",
       "      <th></th>\n",
       "      <th>Date</th>\n",
       "      <th>Open</th>\n",
       "      <th>High</th>\n",
       "      <th>Low</th>\n",
       "      <th>Close</th>\n",
       "      <th>Adj Close</th>\n",
       "      <th>Volume</th>\n",
       "      <th>Ticker</th>\n",
       "      <th>DayChange</th>\n",
       "      <th>CumulativeChange</th>\n",
       "    </tr>\n",
       "  </thead>\n",
       "  <tbody>\n",
       "    <tr>\n",
<<<<<<< HEAD
       "      <th>2147</th>\n",
       "      <td>2020-07-16 00:00:00-04:00</td>\n",
       "      <td>104.529999</td>\n",
       "      <td>104.540001</td>\n",
       "      <td>103.720001</td>\n",
       "      <td>104.459999</td>\n",
       "      <td>100.543686</td>\n",
       "      <td>6412200</td>\n",
       "      <td>XLV</td>\n",
       "      <td>-0.162476</td>\n",
       "      <td>121.070760</td>\n",
       "    </tr>\n",
       "    <tr>\n",
       "      <th>2033</th>\n",
       "      <td>2020-02-03 00:00:00-05:00</td>\n",
       "      <td>99.830002</td>\n",
       "      <td>100.760002</td>\n",
       "      <td>99.830002</td>\n",
       "      <td>100.040001</td>\n",
       "      <td>95.420113</td>\n",
       "      <td>11850600</td>\n",
       "      <td>XLV</td>\n",
       "      <td>0.907809</td>\n",
       "      <td>112.737497</td>\n",
       "    </tr>\n",
       "    <tr>\n",
       "      <th>2497</th>\n",
       "      <td>2021-12-03 00:00:00-05:00</td>\n",
       "      <td>131.039993</td>\n",
       "      <td>131.539993</td>\n",
       "      <td>129.289993</td>\n",
       "      <td>130.369995</td>\n",
       "      <td>127.884140</td>\n",
       "      <td>22111900</td>\n",
       "      <td>XLV</td>\n",
       "      <td>0.184423</td>\n",
       "      <td>144.486688</td>\n",
       "    </tr>\n",
       "    <tr>\n",
       "      <th>2470</th>\n",
       "      <td>2021-10-26 00:00:00-04:00</td>\n",
       "      <td>132.130005</td>\n",
       "      <td>132.860001</td>\n",
       "      <td>131.410004</td>\n",
       "      <td>132.479996</td>\n",
       "      <td>129.953903</td>\n",
       "      <td>9271600</td>\n",
       "      <td>XLV</td>\n",
       "      <td>0.493055</td>\n",
       "      <td>146.035981</td>\n",
       "    </tr>\n",
       "    <tr>\n",
       "      <th>2454</th>\n",
       "      <td>2021-10-04 00:00:00-04:00</td>\n",
       "      <td>63.810001</td>\n",
       "      <td>64.940002</td>\n",
       "      <td>63.779999</td>\n",
       "      <td>64.760002</td>\n",
       "      <td>62.385281</td>\n",
       "      <td>20201300</td>\n",
       "      <td>XLU</td>\n",
       "      <td>1.377585</td>\n",
       "      <td>76.087649</td>\n",
       "    </tr>\n",
       "    <tr>\n",
       "      <th>603</th>\n",
       "      <td>2014-05-29 00:00:00-04:00</td>\n",
       "      <td>99.260002</td>\n",
       "      <td>99.559998</td>\n",
       "      <td>99.000000</td>\n",
       "      <td>99.559998</td>\n",
       "      <td>85.095016</td>\n",
       "      <td>1320000</td>\n",
       "      <td>VTI</td>\n",
       "      <td>0.535190</td>\n",
       "      <td>44.121098</td>\n",
       "    </tr>\n",
       "    <tr>\n",
       "      <th>687</th>\n",
       "      <td>2014-09-26 00:00:00-04:00</td>\n",
       "      <td>98.059998</td>\n",
       "      <td>98.959999</td>\n",
       "      <td>97.889999</td>\n",
       "      <td>98.779999</td>\n",
       "      <td>92.250153</td>\n",
       "      <td>56106200</td>\n",
       "      <td>QQQ</td>\n",
       "      <td>1.064048</td>\n",
       "      <td>57.719886</td>\n",
       "    </tr>\n",
       "    <tr>\n",
       "      <th>30</th>\n",
       "      <td>2012-02-15 00:00:00-05:00</td>\n",
       "      <td>135.630005</td>\n",
       "      <td>135.830002</td>\n",
       "      <td>134.289993</td>\n",
       "      <td>134.559998</td>\n",
       "      <td>109.332581</td>\n",
       "      <td>195195100</td>\n",
       "      <td>SPY</td>\n",
       "      <td>-0.466014</td>\n",
       "      <td>5.431766</td>\n",
       "    </tr>\n",
       "    <tr>\n",
       "      <th>421</th>\n",
       "      <td>2013-09-06 00:00:00-04:00</td>\n",
       "      <td>39.810001</td>\n",
       "      <td>39.950001</td>\n",
       "      <td>39.389999</td>\n",
       "      <td>39.770000</td>\n",
       "      <td>30.926468</td>\n",
       "      <td>6976700</td>\n",
       "      <td>XLP</td>\n",
       "      <td>0.252085</td>\n",
       "      <td>21.234627</td>\n",
       "    </tr>\n",
       "    <tr>\n",
       "      <th>1537</th>\n",
       "      <td>2018-02-12 00:00:00-05:00</td>\n",
       "      <td>54.020000</td>\n",
       "      <td>54.520000</td>\n",
       "      <td>53.889999</td>\n",
       "      <td>54.259998</td>\n",
       "      <td>47.413956</td>\n",
       "      <td>21013600</td>\n",
       "      <td>XLP</td>\n",
       "      <td>1.024016</td>\n",
       "      <td>55.098131</td>\n",
=======
       "      <th>2406</th>\n",
       "      <td>2021-07-27 00:00:00-04:00</td>\n",
       "      <td>154.250000</td>\n",
       "      <td>154.300003</td>\n",
       "      <td>151.050003</td>\n",
       "      <td>152.979996</td>\n",
       "      <td>150.940430</td>\n",
       "      <td>9044900</td>\n",
       "      <td>XLK</td>\n",
       "      <td>-0.945355</td>\n",
       "      <td>197.535912</td>\n",
       "    </tr>\n",
       "    <tr>\n",
       "      <th>726</th>\n",
       "      <td>2014-11-20 00:00:00-05:00</td>\n",
       "      <td>41.259998</td>\n",
       "      <td>41.610001</td>\n",
       "      <td>41.180000</td>\n",
       "      <td>41.610001</td>\n",
       "      <td>37.118996</td>\n",
       "      <td>4897400</td>\n",
       "      <td>XLK</td>\n",
       "      <td>0.507244</td>\n",
       "      <td>50.191600</td>\n",
       "    </tr>\n",
       "    <tr>\n",
       "      <th>548</th>\n",
       "      <td>2014-03-11 00:00:00-04:00</td>\n",
       "      <td>39.939999</td>\n",
       "      <td>40.000000</td>\n",
       "      <td>39.599998</td>\n",
       "      <td>39.779999</td>\n",
       "      <td>29.536448</td>\n",
       "      <td>7921000</td>\n",
       "      <td>XLU</td>\n",
       "      <td>-0.275760</td>\n",
       "      <td>13.174036</td>\n",
       "    </tr>\n",
       "    <tr>\n",
       "      <th>2207</th>\n",
       "      <td>2020-10-09 00:00:00-04:00</td>\n",
       "      <td>31.570000</td>\n",
       "      <td>31.650000</td>\n",
       "      <td>30.740000</td>\n",
       "      <td>30.790001</td>\n",
       "      <td>27.840128</td>\n",
       "      <td>25517900</td>\n",
       "      <td>XLE</td>\n",
       "      <td>-1.597955</td>\n",
       "      <td>-52.022274</td>\n",
       "    </tr>\n",
       "    <tr>\n",
       "      <th>1437</th>\n",
       "      <td>2017-09-19 00:00:00-04:00</td>\n",
       "      <td>66.260002</td>\n",
       "      <td>66.489998</td>\n",
       "      <td>66.129997</td>\n",
       "      <td>66.389999</td>\n",
       "      <td>51.513229</td>\n",
       "      <td>10504300</td>\n",
       "      <td>XLE</td>\n",
       "      <td>0.408343</td>\n",
       "      <td>4.389908</td>\n",
       "    </tr>\n",
       "    <tr>\n",
       "      <th>68</th>\n",
       "      <td>2012-04-11 00:00:00-04:00</td>\n",
       "      <td>70.370003</td>\n",
       "      <td>70.500000</td>\n",
       "      <td>70.099998</td>\n",
       "      <td>70.180000</td>\n",
       "      <td>57.574863</td>\n",
       "      <td>2120500</td>\n",
       "      <td>VTI</td>\n",
       "      <td>0.833336</td>\n",
       "      <td>7.504274</td>\n",
       "    </tr>\n",
       "    <tr>\n",
       "      <th>1037</th>\n",
       "      <td>2016-02-18 00:00:00-05:00</td>\n",
       "      <td>51.480000</td>\n",
       "      <td>51.610001</td>\n",
       "      <td>51.230000</td>\n",
       "      <td>51.419998</td>\n",
       "      <td>45.089611</td>\n",
       "      <td>9587800</td>\n",
       "      <td>XLI</td>\n",
       "      <td>-0.058314</td>\n",
       "      <td>44.532032</td>\n",
       "    </tr>\n",
       "    <tr>\n",
       "      <th>1288</th>\n",
       "      <td>2017-02-15 00:00:00-05:00</td>\n",
       "      <td>86.180000</td>\n",
       "      <td>86.800003</td>\n",
       "      <td>86.029999</td>\n",
       "      <td>86.769997</td>\n",
       "      <td>81.329330</td>\n",
       "      <td>4754900</td>\n",
       "      <td>XLY</td>\n",
       "      <td>0.521312</td>\n",
       "      <td>84.177550</td>\n",
       "    </tr>\n",
       "    <tr>\n",
       "      <th>1171</th>\n",
       "      <td>2016-08-29 00:00:00-04:00</td>\n",
       "      <td>58.669998</td>\n",
       "      <td>59.090000</td>\n",
       "      <td>58.669998</td>\n",
       "      <td>59.080002</td>\n",
       "      <td>52.359489</td>\n",
       "      <td>7628200</td>\n",
       "      <td>XLI</td>\n",
       "      <td>0.715994</td>\n",
       "      <td>58.900146</td>\n",
       "    </tr>\n",
       "    <tr>\n",
       "      <th>141</th>\n",
       "      <td>2012-07-25 00:00:00-04:00</td>\n",
       "      <td>11.616572</td>\n",
       "      <td>11.657189</td>\n",
       "      <td>11.527214</td>\n",
       "      <td>11.592201</td>\n",
       "      <td>9.486242</td>\n",
       "      <td>55276209</td>\n",
       "      <td>XLF</td>\n",
       "      <td>0.351614</td>\n",
       "      <td>7.762070</td>\n",
>>>>>>> main
       "    </tr>\n",
       "  </tbody>\n",
       "</table>\n",
       "</div>"
      ],
      "text/plain": [
       "                          Date        Open        High         Low  \\\n",
<<<<<<< HEAD
       "2147 2020-07-16 00:00:00-04:00  104.529999  104.540001  103.720001   \n",
       "2033 2020-02-03 00:00:00-05:00   99.830002  100.760002   99.830002   \n",
       "2497 2021-12-03 00:00:00-05:00  131.039993  131.539993  129.289993   \n",
       "2470 2021-10-26 00:00:00-04:00  132.130005  132.860001  131.410004   \n",
       "2454 2021-10-04 00:00:00-04:00   63.810001   64.940002   63.779999   \n",
       "603  2014-05-29 00:00:00-04:00   99.260002   99.559998   99.000000   \n",
       "687  2014-09-26 00:00:00-04:00   98.059998   98.959999   97.889999   \n",
       "30   2012-02-15 00:00:00-05:00  135.630005  135.830002  134.289993   \n",
       "421  2013-09-06 00:00:00-04:00   39.810001   39.950001   39.389999   \n",
       "1537 2018-02-12 00:00:00-05:00   54.020000   54.520000   53.889999   \n",
       "\n",
       "           Close   Adj Close     Volume Ticker  DayChange  CumulativeChange  \n",
       "2147  104.459999  100.543686    6412200    XLV  -0.162476        121.070760  \n",
       "2033  100.040001   95.420113   11850600    XLV   0.907809        112.737497  \n",
       "2497  130.369995  127.884140   22111900    XLV   0.184423        144.486688  \n",
       "2470  132.479996  129.953903    9271600    XLV   0.493055        146.035981  \n",
       "2454   64.760002   62.385281   20201300    XLU   1.377585         76.087649  \n",
       "603    99.559998   85.095016    1320000    VTI   0.535190         44.121098  \n",
       "687    98.779999   92.250153   56106200    QQQ   1.064048         57.719886  \n",
       "30    134.559998  109.332581  195195100    SPY  -0.466014          5.431766  \n",
       "421    39.770000   30.926468    6976700    XLP   0.252085         21.234627  \n",
       "1537   54.259998   47.413956   21013600    XLP   1.024016         55.098131  "
      ]
     },
     "execution_count": 26,
=======
       "2406 2021-07-27 00:00:00-04:00  154.250000  154.300003  151.050003   \n",
       "726  2014-11-20 00:00:00-05:00   41.259998   41.610001   41.180000   \n",
       "548  2014-03-11 00:00:00-04:00   39.939999   40.000000   39.599998   \n",
       "2207 2020-10-09 00:00:00-04:00   31.570000   31.650000   30.740000   \n",
       "1437 2017-09-19 00:00:00-04:00   66.260002   66.489998   66.129997   \n",
       "68   2012-04-11 00:00:00-04:00   70.370003   70.500000   70.099998   \n",
       "1037 2016-02-18 00:00:00-05:00   51.480000   51.610001   51.230000   \n",
       "1288 2017-02-15 00:00:00-05:00   86.180000   86.800003   86.029999   \n",
       "1171 2016-08-29 00:00:00-04:00   58.669998   59.090000   58.669998   \n",
       "141  2012-07-25 00:00:00-04:00   11.616572   11.657189   11.527214   \n",
       "\n",
       "           Close   Adj Close    Volume Ticker  DayChange  CumulativeChange  \n",
       "2406  152.979996  150.940430   9044900    XLK  -0.945355        197.535912  \n",
       "726    41.610001   37.118996   4897400    XLK   0.507244         50.191600  \n",
       "548    39.779999   29.536448   7921000    XLU  -0.275760         13.174036  \n",
       "2207   30.790001   27.840128  25517900    XLE  -1.597955        -52.022274  \n",
       "1437   66.389999   51.513229  10504300    XLE   0.408343          4.389908  \n",
       "68     70.180000   57.574863   2120500    VTI   0.833336          7.504274  \n",
       "1037   51.419998   45.089611   9587800    XLI  -0.058314         44.532032  \n",
       "1288   86.769997   81.329330   4754900    XLY   0.521312         84.177550  \n",
       "1171   59.080002   52.359489   7628200    XLI   0.715994         58.900146  \n",
       "141    11.592201    9.486242  55276209    XLF   0.351614          7.762070  "
      ]
     },
     "execution_count": 23,
>>>>>>> main
     "metadata": {},
     "output_type": "execute_result"
    }
   ],
   "source": [
    "#Check to see if the data merged.\n",
    "data = pd.concat([SPY, QQQ, VTI, XLK, XLY, XLP, XLV, XLI, XLF, VNQ, XLE, XLU])\n",
    "data.sample(10)"
   ]
  },
  {
   "cell_type": "code",
<<<<<<< HEAD
   "execution_count": 27,
=======
   "execution_count": 24,
>>>>>>> main
   "metadata": {},
   "outputs": [],
   "source": [
    "# Test of how to get daily percent change\n",
    "# data['Change %'] = data.groupby('Ticker').Close.pct_change()"
   ]
  },
  {
   "cell_type": "code",
<<<<<<< HEAD
   "execution_count": 28,
=======
   "execution_count": 25,
>>>>>>> main
   "metadata": {},
   "outputs": [
    {
     "name": "stdout",
     "output_type": "stream",
     "text": [
      "12\n"
     ]
    }
   ],
   "source": [
    "#Test that we have the correct amount of Unique tickers added to the DataFrame\n",
    "Ticker_count = len(data.groupby(\"Ticker\").nunique())\n",
    "print(Ticker_count)"
   ]
  },
  {
   "cell_type": "code",
<<<<<<< HEAD
   "execution_count": 29,
=======
   "execution_count": 26,
>>>>>>> main
   "metadata": {},
   "outputs": [
    {
     "data": {
      "text/plain": [
       "<bound method DataFrame.value_counts of                           Date        Open        High         Low  \\\n",
       "0    2012-01-03 00:00:00-05:00  127.760002  128.380005  127.430000   \n",
       "1    2012-01-04 00:00:00-05:00  127.199997  127.809998  126.709999   \n",
       "2    2012-01-05 00:00:00-05:00  127.010002  128.229996  126.430000   \n",
       "3    2012-01-06 00:00:00-05:00  128.199997  128.220001  127.290001   \n",
       "4    2012-01-09 00:00:00-05:00  128.000000  128.179993  127.410004   \n",
       "...                        ...         ...         ...         ...   \n",
       "2512 2021-12-27 00:00:00-05:00   69.750000   70.059998   69.540001   \n",
       "2513 2021-12-28 00:00:00-05:00   70.160004   70.709999   70.110001   \n",
       "2514 2021-12-29 00:00:00-05:00   70.769997   71.180000   70.650002   \n",
       "2515 2021-12-30 00:00:00-05:00   71.260002   71.400002   70.809998   \n",
       "2516 2021-12-31 00:00:00-05:00   71.180000   71.830002   71.040001   \n",
       "\n",
       "           Close   Adj Close     Volume Ticker  DayChange  CumulativeChange  \n",
<<<<<<< HEAD
       "0     127.500000  103.596191  193697900    SPY        NaN               NaN  \n",
       "1     127.699997  103.758675  127186500    SPY   0.156860          0.156860  \n",
       "2     128.039993  104.034943  173895000    SPY   0.266246          0.423107  \n",
       "3     127.709999  103.766815  148050000    SPY  -0.257727          0.165379  \n",
       "4     128.020004  104.018692   99530200    SPY   0.242742          0.408121  \n",
       "...          ...         ...        ...    ...        ...               ...  \n",
       "2512   70.059998   68.021416    7853700    XLU   0.487660         84.206763  \n",
       "2513   70.690002   68.633087    8052000    XLU   0.899236         85.105999  \n",
       "2514   71.070000   69.002029    6877700    XLU   0.537554         85.643553  \n",
       "2515   71.330002   69.254463    9336200    XLU   0.365840         86.009393  \n",
=======
       "0     127.500000  103.596207  193697900    SPY        NaN               NaN  \n",
       "1     127.699997  103.758713  127186500    SPY   0.156860          0.156860  \n",
       "2     128.039993  104.034935  173895000    SPY   0.266246          0.423107  \n",
       "3     127.709999  103.766823  148050000    SPY  -0.257727          0.165379  \n",
       "4     128.020004  104.018700   99530200    SPY   0.242742          0.408121  \n",
       "...          ...         ...        ...    ...        ...               ...  \n",
       "2512   70.059998   68.021416    7853700    XLU   0.487660         84.206763  \n",
       "2513   70.690002   68.633087    8052000    XLU   0.899236         85.105999  \n",
       "2514   71.070000   69.002037    6877700    XLU   0.537554         85.643553  \n",
       "2515   71.330002   69.254471    9336200    XLU   0.365840         86.009393  \n",
>>>>>>> main
       "2516   71.580002   69.497192    9309400    XLU   0.350484         86.359876  \n",
       "\n",
       "[30204 rows x 10 columns]>"
      ]
     },
<<<<<<< HEAD
     "execution_count": 29,
=======
     "execution_count": 26,
>>>>>>> main
     "metadata": {},
     "output_type": "execute_result"
    }
   ],
   "source": [
    "data.value_counts"
   ]
  },
  {
   "cell_type": "code",
<<<<<<< HEAD
   "execution_count": 30,
=======
   "execution_count": 27,
>>>>>>> main
   "metadata": {},
   "outputs": [
    {
     "data": {
      "text/html": [
       "<div>\n",
       "<style scoped>\n",
       "    .dataframe tbody tr th:only-of-type {\n",
       "        vertical-align: middle;\n",
       "    }\n",
       "\n",
       "    .dataframe tbody tr th {\n",
       "        vertical-align: top;\n",
       "    }\n",
       "\n",
       "    .dataframe thead th {\n",
       "        text-align: right;\n",
       "    }\n",
       "</style>\n",
       "<table border=\"1\" class=\"dataframe\">\n",
       "  <thead>\n",
       "    <tr style=\"text-align: right;\">\n",
       "      <th></th>\n",
       "      <th>Open</th>\n",
       "      <th>High</th>\n",
       "      <th>Low</th>\n",
       "      <th>Close</th>\n",
       "      <th>Adj Close</th>\n",
       "      <th>Volume</th>\n",
       "      <th>DayChange</th>\n",
       "      <th>CumulativeChange</th>\n",
       "    </tr>\n",
       "  </thead>\n",
       "  <tbody>\n",
       "    <tr>\n",
       "      <th>count</th>\n",
       "      <td>30204.000000</td>\n",
       "      <td>30204.000000</td>\n",
       "      <td>30204.000000</td>\n",
       "      <td>30204.000000</td>\n",
       "      <td>30204.000000</td>\n",
       "      <td>3.020400e+04</td>\n",
       "      <td>30192.000000</td>\n",
       "      <td>30192.000000</td>\n",
       "    </tr>\n",
       "    <tr>\n",
       "      <th>mean</th>\n",
       "      <td>91.909244</td>\n",
       "      <td>92.442872</td>\n",
       "      <td>91.324879</td>\n",
       "      <td>91.922110</td>\n",
       "      <td>83.007658</td>\n",
       "      <td>2.360991e+07</td>\n",
       "      <td>0.053352</td>\n",
       "      <td>62.252498</td>\n",
       "    </tr>\n",
       "    <tr>\n",
       "      <th>std</th>\n",
       "      <td>70.938949</td>\n",
       "      <td>71.310774</td>\n",
       "      <td>70.515301</td>\n",
       "      <td>70.951362</td>\n",
       "      <td>69.416935</td>\n",
       "      <td>3.350156e+07</td>\n",
       "      <td>1.198535</td>\n",
       "      <td>44.591879</td>\n",
       "    </tr>\n",
       "    <tr>\n",
       "      <th>min</th>\n",
       "      <td>10.706742</td>\n",
       "      <td>10.844842</td>\n",
       "      <td>10.658002</td>\n",
       "      <td>10.804224</td>\n",
<<<<<<< HEAD
       "      <td>8.771097</td>\n",
=======
       "      <td>8.771104</td>\n",
>>>>>>> main
       "      <td>5.524000e+05</td>\n",
       "      <td>-20.141180</td>\n",
       "      <td>-86.914252</td>\n",
       "    </tr>\n",
       "    <tr>\n",
       "      <th>25%</th>\n",
       "      <td>49.847499</td>\n",
       "      <td>50.169998</td>\n",
       "      <td>49.509998</td>\n",
       "      <td>49.830002</td>\n",
<<<<<<< HEAD
       "      <td>42.269084</td>\n",
=======
       "      <td>42.269088</td>\n",
>>>>>>> main
       "      <td>5.554200e+06</td>\n",
       "      <td>-0.440806</td>\n",
       "      <td>28.847307</td>\n",
       "    </tr>\n",
       "    <tr>\n",
       "      <th>50%</th>\n",
       "      <td>71.220001</td>\n",
       "      <td>71.645000</td>\n",
       "      <td>70.769997</td>\n",
       "      <td>71.239998</td>\n",
<<<<<<< HEAD
       "      <td>60.642246</td>\n",
=======
       "      <td>60.642250</td>\n",
>>>>>>> main
       "      <td>1.055640e+07</td>\n",
       "      <td>0.083279</td>\n",
       "      <td>55.331253</td>\n",
       "    </tr>\n",
       "    <tr>\n",
       "      <th>75%</th>\n",
       "      <td>105.220001</td>\n",
       "      <td>105.860001</td>\n",
       "      <td>104.652502</td>\n",
       "      <td>105.260002</td>\n",
       "      <td>98.596527</td>\n",
       "      <td>2.551400e+07</td>\n",
       "      <td>0.614291</td>\n",
       "      <td>88.141822</td>\n",
       "    </tr>\n",
       "    <tr>\n",
       "      <th>max</th>\n",
       "      <td>477.929993</td>\n",
       "      <td>479.000000</td>\n",
       "      <td>476.059998</td>\n",
       "      <td>477.480011</td>\n",
       "      <td>469.857361</td>\n",
       "      <td>5.072443e+08</td>\n",
       "      <td>16.037339</td>\n",
       "      <td>214.274135</td>\n",
       "    </tr>\n",
       "  </tbody>\n",
       "</table>\n",
       "</div>"
      ],
      "text/plain": [
       "               Open          High           Low         Close     Adj Close  \\\n",
       "count  30204.000000  30204.000000  30204.000000  30204.000000  30204.000000   \n",
       "mean      91.909244     92.442872     91.324879     91.922110     83.007658   \n",
       "std       70.938949     71.310774     70.515301     70.951362     69.416935   \n",
<<<<<<< HEAD
       "min       10.706742     10.844842     10.658002     10.804224      8.771097   \n",
       "25%       49.847499     50.169998     49.509998     49.830002     42.269084   \n",
       "50%       71.220001     71.645000     70.769997     71.239998     60.642246   \n",
=======
       "min       10.706742     10.844842     10.658002     10.804224      8.771104   \n",
       "25%       49.847499     50.169998     49.509998     49.830002     42.269088   \n",
       "50%       71.220001     71.645000     70.769997     71.239998     60.642250   \n",
>>>>>>> main
       "75%      105.220001    105.860001    104.652502    105.260002     98.596527   \n",
       "max      477.929993    479.000000    476.059998    477.480011    469.857361   \n",
       "\n",
       "             Volume     DayChange  CumulativeChange  \n",
       "count  3.020400e+04  30192.000000      30192.000000  \n",
       "mean   2.360991e+07      0.053352         62.252498  \n",
       "std    3.350156e+07      1.198535         44.591879  \n",
       "min    5.524000e+05    -20.141180        -86.914252  \n",
       "25%    5.554200e+06     -0.440806         28.847307  \n",
       "50%    1.055640e+07      0.083279         55.331253  \n",
       "75%    2.551400e+07      0.614291         88.141822  \n",
       "max    5.072443e+08     16.037339        214.274135  "
      ]
     },
<<<<<<< HEAD
     "execution_count": 30,
=======
     "execution_count": 27,
>>>>>>> main
     "metadata": {},
     "output_type": "execute_result"
    }
   ],
   "source": [
    "#Describe the Data to see what pops out if anything.\n",
    "data.describe()"
   ]
  },
  {
   "cell_type": "code",
<<<<<<< HEAD
   "execution_count": 31,
=======
   "execution_count": 28,
>>>>>>> main
   "metadata": {},
   "outputs": [
    {
     "data": {
<<<<<<< HEAD
      "image/png": "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",
      "text/plain": [
       "<Figure size 432x288 with 1 Axes>"
      ]
     },
     "metadata": {
      "needs_background": "light"
     },
=======
      "image/png": "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",
      "text/plain": [
       "<Figure size 640x480 with 1 Axes>"
      ]
     },
     "metadata": {},
>>>>>>> main
     "output_type": "display_data"
    }
   ],
   "source": [
    "#Plot out the initial info we have to see what we are working with.\n",
    "SPY_line = data.loc[data[\"Ticker\"] == \"SPY\"]\n",
    "QQQ_line = data.loc[data[\"Ticker\"] == \"QQQ\"]\n",
    "VTI_line = data.loc[data[\"Ticker\"] == \"VTI\"]\n",
    "plt.plot(SPY_line[\"Date\"], SPY_line[\"Close\"], marker = 'o', markersize=1)\n",
    "plt.plot(QQQ_line[\"Date\"], QQQ_line[\"Close\"], marker = 'x', markersize=1)\n",
    "plt.plot(VTI_line[\"Date\"], VTI_line[\"Close\"], marker = 'v', markersize=1)\n",
    "plt.xlabel(\"Time - Daily Stock Movement since 2001 \")\n",
    "plt.ylabel(\"Closing Price\")\n",
    "plt.title(f\"The journey of the stock market - SPY vs QQQ vs VTI\")\n",
    "plt.legend([\"SPY\", \"QQQ\", \"VTI\"], loc=\"best\")\n",
    "plt.grid(linestyle='-', linewidth=1, alpha = 0.35)\n",
    "plt.show()"
   ]
  },
  {
   "cell_type": "code",
<<<<<<< HEAD
   "execution_count": 32,
=======
   "execution_count": 29,
>>>>>>> main
   "metadata": {},
   "outputs": [
    {
     "data": {
<<<<<<< HEAD
      "image/png": "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",
      "text/plain": [
       "<Figure size 432x288 with 1 Axes>"
      ]
     },
     "metadata": {
      "needs_background": "light"
     },
=======
      "image/png": "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",
      "text/plain": [
       "<Figure size 640x480 with 1 Axes>"
      ]
     },
     "metadata": {},
>>>>>>> main
     "output_type": "display_data"
    }
   ],
   "source": [
    "#Plot out the new Cumulative change we calcuated into a Graph that starts at the same point.\n",
    "SPY_line = data.loc[data[\"Ticker\"] == \"SPY\"]\n",
    "QQQ_line = data.loc[data[\"Ticker\"] == \"QQQ\"]\n",
    "VTI_line = data.loc[data[\"Ticker\"] == \"VTI\"]\n",
    "plt.plot(SPY_line[\"Date\"], SPY_line[\"CumulativeChange\"], marker = 'o', markersize=0.5)\n",
    "plt.plot(QQQ_line[\"Date\"], QQQ_line[\"CumulativeChange\"], marker = 'x', markersize=0.5)\n",
    "plt.plot(VTI_line[\"Date\"], VTI_line[\"CumulativeChange\"], marker = 'v', markersize=0.5)\n",
    "plt.xlabel(\"Time - Daily Stock Movement since 2001 \")\n",
    "plt.ylabel(\"Percentage Change (%)\")\n",
    "plt.title(f\"The journey of the stock market - SPY vs QQQ vs VTI\")\n",
    "plt.grid(linestyle='-', linewidth=1, alpha = 0.35)\n",
    "plt.legend([\"SPY\", \"QQQ\", \"VTI\"], loc=\"best\")\n",
    "plt.show()"
   ]
  },
  {
   "attachments": {},
   "cell_type": "markdown",
   "metadata": {},
   "source": [
    "The takeaway from merging the graphs by cumulative change is that we noticed that VTI and SPY both track almost the identical stocks since the lines are identical to one another."
   ]
  },
  {
   "cell_type": "code",
<<<<<<< HEAD
   "execution_count": 38,
=======
   "execution_count": 30,
>>>>>>> main
   "metadata": {},
   "outputs": [
    {
     "data": {
<<<<<<< HEAD
      "image/png": "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",
      "text/plain": [
       "<Figure size 432x288 with 1 Axes>"
      ]
     },
     "metadata": {
      "needs_background": "light"
     },
=======
      "image/png": "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",
      "text/plain": [
       "<Figure size 640x480 with 1 Axes>"
      ]
     },
     "metadata": {},
>>>>>>> main
     "output_type": "display_data"
    }
   ],
   "source": [
    "# Starting graphing cumulative change line for all ETFs by different sectors since 2012/01/01\n",
    "# SPY, QQQ, VTI, XLK, XLC, XLY, XLP, XLV, XLI, XLF, VNQ, XLE, XLU\n",
    "SPY_line = data.loc[data[\"Ticker\"] == \"SPY\"]\n",
    "QQQ_line = data.loc[data[\"Ticker\"] == \"QQQ\"]\n",
    "VTI_line = data.loc[data[\"Ticker\"] == \"VTI\"]\n",
    "XLK_line = data.loc[data[\"Ticker\"] == \"XLK\"]\n",
    "XLY_line = data.loc[data[\"Ticker\"] == \"XLY\"]\n",
    "XLP_line = data.loc[data[\"Ticker\"] == \"XLP\"]\n",
    "XLV_line = data.loc[data[\"Ticker\"] == \"XLV\"]\n",
    "XLI_line = data.loc[data[\"Ticker\"] == \"XLI\"]\n",
    "XLF_line = data.loc[data[\"Ticker\"] == \"XLF\"]\n",
    "VNQ_line = data.loc[data[\"Ticker\"] == \"VNQ\"]\n",
    "XLU_line = data.loc[data[\"Ticker\"] == \"XLU\"]\n",
    "XLE_line = data.loc[data[\"Ticker\"] == \"XLE\"]\n",
    "plt.plot(SPY_line[\"Date\"], SPY_line[\"CumulativeChange\"], marker = 'o', markersize=1)\n",
    "plt.plot(QQQ_line[\"Date\"], QQQ_line[\"CumulativeChange\"], marker = 'o', markersize=1)\n",
    "plt.plot(VTI_line[\"Date\"], VTI_line[\"CumulativeChange\"], marker = 'o', markersize=1)\n",
    "plt.plot(XLK_line[\"Date\"], XLK_line[\"CumulativeChange\"], marker = 'o', markersize=1)\n",
    "plt.plot(XLY_line[\"Date\"], XLY_line[\"CumulativeChange\"], marker = 'o', markersize=1)\n",
    "plt.plot(XLP_line[\"Date\"], XLP_line[\"CumulativeChange\"], marker = 'o', markersize=1)\n",
    "plt.plot(XLV_line[\"Date\"], XLV_line[\"CumulativeChange\"], marker = 'o', markersize=1)\n",
    "plt.plot(XLI_line[\"Date\"], XLI_line[\"CumulativeChange\"], marker = 'o', markersize=1)\n",
    "plt.plot(XLF_line[\"Date\"], XLF_line[\"CumulativeChange\"], marker = 'o', markersize=1)\n",
    "plt.plot(VNQ_line[\"Date\"], VNQ_line[\"CumulativeChange\"], marker = 'o', markersize=1)\n",
    "plt.plot(XLU_line[\"Date\"], XLU_line[\"CumulativeChange\"], marker = 'o', markersize=1)\n",
    "plt.plot(XLE_line[\"Date\"], XLE_line[\"CumulativeChange\"], marker = 'o', markersize=1)\n",
    "plt.xlabel(\"Time - Daily Stock Movement since 2001 \")\n",
    "plt.ylabel(\"Percentage Change (%)\")\n",
    "plt.title(f\"The journey of the stock market - SPY vs QQQ vs VTI\")\n",
    "plt.grid(linestyle='-', linewidth=1, alpha = 0.35)\n",
    "# plt.legend([\"SPY\", \"QQQ\", \"VTI\", \"XLK\", \"XLC\", \"XLY\" ,\"XLP\", \"XLV\", \"XLI\", \"XLF\", \"VNQ\", \"XLU\", \"XLE\"], loc=\"best\")\n",
    "plt.show()"
   ]
  },
  {
   "cell_type": "code",
   "execution_count": null,
   "metadata": {},
   "outputs": [],
   "source": []
  },
  {
   "cell_type": "code",
   "execution_count": null,
   "metadata": {},
   "outputs": [],
   "source": []
  },
  {
   "cell_type": "code",
<<<<<<< HEAD
   "execution_count": 34,
=======
   "execution_count": 31,
>>>>>>> main
   "metadata": {},
   "outputs": [
    {
     "name": "stdout",
     "output_type": "stream",
     "text": [
      "<class 'pandas.core.frame.DataFrame'>\n",
      "Int64Index: 30204 entries, 0 to 2516\n",
      "Data columns (total 10 columns):\n",
      " #   Column            Non-Null Count  Dtype                           \n",
      "---  ------            --------------  -----                           \n",
      " 0   Date              30204 non-null  datetime64[ns, America/New_York]\n",
      " 1   Open              30204 non-null  float64                         \n",
      " 2   High              30204 non-null  float64                         \n",
      " 3   Low               30204 non-null  float64                         \n",
      " 4   Close             30204 non-null  float64                         \n",
      " 5   Adj Close         30204 non-null  float64                         \n",
      " 6   Volume            30204 non-null  int64                           \n",
      " 7   Ticker            30204 non-null  object                          \n",
      " 8   DayChange         30192 non-null  float64                         \n",
      " 9   CumulativeChange  30192 non-null  float64                         \n",
      "dtypes: datetime64[ns, America/New_York](1), float64(7), int64(1), object(1)\n",
      "memory usage: 2.5+ MB\n"
     ]
    }
   ],
   "source": [
    "data.info()"
   ]
  },
  {
   "cell_type": "code",
<<<<<<< HEAD
   "execution_count": 35,
=======
   "execution_count": 32,
>>>>>>> main
   "metadata": {},
   "outputs": [
    {
     "data": {
      "text/plain": [
       "Date                30204\n",
       "Open                30204\n",
       "High                30204\n",
       "Low                 30204\n",
       "Close               30204\n",
       "Adj Close           30204\n",
       "Volume              30204\n",
       "Ticker              30204\n",
       "DayChange           30192\n",
       "CumulativeChange    30192\n",
       "dtype: int64"
      ]
     },
<<<<<<< HEAD
     "execution_count": 35,
=======
     "execution_count": 32,
>>>>>>> main
     "metadata": {},
     "output_type": "execute_result"
    }
   ],
   "source": [
    "#Seems like we have all of the data points matching one another meaning that our initial 3 ETFs representing the Stock Market, DOW, NASDAQ and S&P500 are most likely in line with one another.\n",
    "data.count()"
   ]
  },
  {
   "cell_type": "code",
<<<<<<< HEAD
   "execution_count": 36,
=======
   "execution_count": 33,
>>>>>>> main
   "metadata": {},
   "outputs": [
    {
     "data": {
      "text/plain": [
       "Ticker\n",
       "QQQ     92844825600\n",
       "SPY    255384731400\n",
       "VNQ     10915268600\n",
       "VTI      7376731300\n",
       "XLE     45659010000\n",
       "XLF    147718597737\n",
       "XLI     29505512200\n",
       "XLK     26103890200\n",
       "XLP     26990486000\n",
       "XLU     33853130900\n",
       "XLV     22985373200\n",
       "XLY     13776206500\n",
       "Name: Volume, dtype: int64"
      ]
     },
<<<<<<< HEAD
     "execution_count": 36,
=======
     "execution_count": 33,
>>>>>>> main
     "metadata": {},
     "output_type": "execute_result"
    }
   ],
   "source": [
    "count = data.groupby(\"Ticker\")\n",
    "count1 = count[\"Volume\"].sum()\n",
    "count1"
   ]
  },
  {
   "cell_type": "code",
<<<<<<< HEAD
   "execution_count": 37,
=======
   "execution_count": 35,
>>>>>>> main
   "metadata": {},
   "outputs": [
    {
     "data": {
<<<<<<< HEAD
      "image/png": "iVBORw0KGgoAAAANSUhEUgAAAVcAAAD3CAYAAACpWhdCAAAABHNCSVQICAgIfAhkiAAAAAlwSFlzAAALEgAACxIB0t1+/AAAADh0RVh0U29mdHdhcmUAbWF0cGxvdGxpYiB2ZXJzaW9uMy4yLjIsIGh0dHA6Ly9tYXRwbG90bGliLm9yZy+WH4yJAAAgAElEQVR4nOydd3wcxfn/38/d6dR1au7duIIrYGzADVMCGEIvoUMo/gYChBaHKggQU0MzofwSaqgJNXQwNh1sY4yxKbZxk7slS1a7srvP749d2SfpZEm2Tqeyb73upd2d2Zln22dnnpmdEVXFxcXFxaV58STaABcXF5f2iCuuLi4uLnHAFVcXFxeXOOCKq4uLi0sccMXVxcXFJQ644uri4uISB9qcuIpIgYg86yz3FREVEV8z5zFZRAqbM822bEdTEJHjRGSNiJSLyOhE2+PikigaJa4ico6ILBKRShHZICL/EJHseBu3O4jIeyJyS4ztxzjH0KyC3NoRkSdFJOyIXvVvoYhMiFqvcF5W0XF6i8hsEQnW2r5/PVndDVyiqhmquqCFj3GciHwgIsUisllEXhaRblHhIiJ3iEiR87tTRCQq/K/OfW6ISEGttKeKyGciUuLcP4+LSGatOH4R2SIiGSKSLCL/EpFtTvwrasV9TER+FhFLRM6p53jeF5HDnOU/OemUOukmR8W7RETmiUhIRJ5s4BydIyKfNXgy69//bBGZ7xxXoXMOfVHhuSLyqnMvrRKR06LCGro+V4vIDyJSJiIrROTqGPkfICJfOMt9ReRjR5d+EpFDouJ1E5E3RGSdc0/3jZFWs16v2jQoriJyJXAHcDUQAMYBfYAPRMTfmEwaSzML3pPAmdEPj8OZwL9V1WjGvNoKdzqiV/0bqaqfVq8DeznxsqPirHa2XVJr3y/ryaMPsDhWQAu80HKAx4C+jh1lwBNR4RcCxwIjgRHAUcBFUeHLgGuAt2KkHQBuBboDQ4GewF214kwEvlPVcqAAGOjYcRBwjYgcHhV3IfAH4NtYByIi6cA+wBwR+Q0wHTjYObb+wM1R0dc5tv0rVlrNTBpwOZAPjHVsuioqfCYQBroApwP/EJHq+6qh6yPAWU68w4FLROTUWvkfCbztLD8PLADygOuA/4hIJyfMAt4FTtjJsTTb9YqJqtb7A7KAcuDkWtszgE3Aedg3WxWQGxU+GtgCJDnr5wE/AluB94A+UXEVuBhYCqxwtt0PrAG2AfOBCVHxC4BnneW+zv6+GLanAqXAxKhtOUAQ++FKBu7DvjHXOcvJTrzJQGEtGwdErT8J3BodF/uh3ASsx36AjwR+AYqBa6P29WA/KMuBIuCl6HNX6xiq077WOZ8rgdOdsDHAxuhjx76Rvqsnre027+R6xzyfwGzg/Ab2TXbuFQUqgOXO9pXAn4HvgRDgA36LLcAlTtpDo9JZif0i/95J55/YD+o72A/jh0DOzmyJSmtvoCxq/Qvgwqj13wNfxdjvWaCggbSPBxbV2nYvcIWzvBY4LCrsr8ALMdL5DDgnxvbfAm84y88Bt0eFHQxsiLHPrcCTO7F5KPb9bzrXqsTZHgCeBjYDq4DrAU8jz/EVwJvOcjq2sA6KCn8GmNGY6xMj/AHgwVrbvnX2G+TcT5lRYZ8C02rF9zn3ZN8Y6Tfb9Yr1a6jkegCQArwSvVFtpX8HOFRV1wFfUvMNcRrwH1WNiMix2OJwPNDJOQHP18rnWOy34J7O+lxgFJCLfWO9LCIpDdhaA1Wtwhaus6I2nwz8pKoLsd9045x8RgL7Yd9Uu0JX7PPUA7gReBw4A7vkMQG4UUT6O3EvxT7eSdgvpq3Yb/udpZ3vpH028JiIDFbVudjifGhU3DOwb+YWR1VDapd+AUaq6h5Rwb8DpgLZ2KWu57FLP52wSyFv1qoFnYB9XIOAo7HvtWuxz4MH+xw2honULEXvhV0CqWYhO0rrTaV22mC/UN8SkRzsa7s7eR3JjhJ0LLu7iEheUwxW1R+BacCXatc+ql17D2ILbH/s+/Is4NxGJht9HgYBpqr+UsvW+o471jkEbBcO9rOzOGpbN+wX7QInzV9VtayRecWiOa9XHRoS13xgi8auQq93wsEWwN/B9pNyqrMN7GrX31T1Ryed24FRItInKq2/qWqxI4io6rOqWqSqhqreg10qGrwLx/cUcJKIpDrrZznbwK6y3KKqm1R1M3Y168xdyAMgAtymqhHgBezzcr+qlqnqYuwbZIQT9yLgOlUtVNUQdkn8xAaqzDc44jUH+4E7Oer4zgDb1wX8hh3nPRZXOT7D6t9TO4lbmwei9mt81cjZV1XXONf3FOAtVf3AOV93Y9cyDoiK/6CqblTVtdgv469VdYFzvl7FrhntFBEZgf2ii/bbZWDXZqopBTJiuI4aSvtQ7BfdjVHb+mPX1H528qlOPzqvGj7aBjiCHdXfWHbTxPRiIiJe7GvyF+d+XQncQyOeBRE5F9gX+xrGsrPa1jp21nN9oinA1qdot8GRwLtqFyEbnVc9tjf39apDQ+K6Bciv58Hv5oQD/AfYX0S6Y7+NFPuhANuHcX/1g4ldTRbsklg1a6ITFpErReRHx3lfgv1WzaeJqOpn2FWdY5yTOYYd4tMduwpUzSpn265QpKqms1zl/N8YFV7FjgvYB3g16nz8iF1N61JP2ltVtaIeO58FjhaRDGzB/VRV1+/EzrtVNTvqd3ajjs7m0qj99m7CflDz+tY476pqOeHR90Ptc1ffuYyJiAzALu1epqqfRgWVY7u6qskCyp2HtVGIyDjse+jEWiW0qewQw/Ko9KPzii5l7SyP4cA2Va0+b7HsprHpNUA+4Kfus9AjdvTtNh4LzACOUNVqHahtJ8Q47p1cn+rwS7ALQlOdF2o10f7WRuW1E5rtetVHQ+L6JbZf4/jojY6z/QjgIwBVLQHex37ATwOej7ph1wAX1XqoU1X1i6gkNSrtCdg+upOxfWvZ2G+RJpUuonga+0KdCbyvqtUP6jpsoaumt7MtFpXYjvxquu6iLWCfjyNqnY8Up5QWixznfNex09nnS+A47ONLiEugEUSLV43z7pQae2H7vHYbp0b0IfBXVa19PhZju4CqGUk91dJ60h4NvAGcp6of1QreXo1X1a3YNbtdzSvaJVCf3RtVtaixtkdR+0WyBbvmVftZqPd6OA09jwNHq+qiqKBfAJ+IDKxla3TVfmfXBxE5D6fxTlULo7YnYbssPnA2LQb6S80eG7t0jpvhesVkp+KqqqXY1eUHReRwEUlyujS8jN3QEn1ynsMWsROoWTV9BPhLdYuhiARE5KSdZJsJGNglTp+I3EjdN1RTeBo4BLiAHS4BsP1+14tIJxHJx66iPFtPGt8Bp4mI17mxJu2GPY8At1W7RZz8j2lgn5udbiMTsFu4X44Kexq7MW04dpW5tfMSMFVEDnYemCuxX+Bf7Hy3hhGRHsAsYKaqPhIjytPAFSLSw6llXYnd0Fe9f5Lj2/dg33spTrUZERmG3fr8R1V9s1a+qdg++9m18rpeRHJEZAj2/Redl9/JS4AkJ6/q5zG6VFWd1u9FZE/HP3h9rbR8TlpewOukVZ+baSPQs9rH7dS4XsK+JzOd+/IK6nkWRGQK8G/gBFX9JjrMqWG9AtwiIukiciBwDI5ONHR9ROR0bLfhoar6a63gCcD3qrrNyesX7OfyJud4j8N2vf03Kr0UbJciQHJ1u00crldsGtPqhd2q+gM7qmiPUqvFFttvVgYsjrH/mcAi7Nb/NcC/osJqt8R7sVuIt2G/Ta7BbkE+xAkvoBG9BWrlPxu74Sg5alsKdmvkeuf3AJDihE2mZm+BfbHfYmXYN8rz1OotEBW3TuskdgvjGc6yB/vm/dlJbzlRLcG17J6M/RK7DruEsRo4s1acNOdcPdXAOXgSuyW3POq3pVacmOeTRvQW2Mn13H7torYdByzBrpHMAfaqLz61Wu6B84EP68n7Jif/6GMsjwoX4E5s11Sxsyy1zpHW+p3jhD2B3b0nOu3FTthRwP9q2ZKM3TVqG/Yzc0WMc1o7r8nYLrDNMa7BFU462xxbou/lghhpFdRzjvzYJbbi6uuP3YvmWSffNdgFjZi9BYCPsQs/0efhnajwXOA17J4eq4HTmnB9VmCXoqPDH3HC7gauinG/zsbWpZ+pe5/VPifa3NdrZ8+CODu6tGFEZDm26+XDRNvSERGRh4EfVPXhZkjrZGx/7skNRu5AiMgS7POypBnSarbrtTM61FdK7REROQH7LTor0bZ0YL4D3mwwVuMoAf7eTGm1CxwXxtPNIawOzXm96sUtubZhRGQ2dt/gM1X1vQSb4+LiEoUrri4uLi5xoM2NiuXi4uLSFnDF1cXFxSUOuOLq4uLiEgdccXVxcXGJA664uri4uMQBV1xdXFxc4oArri4uLi5xwBVXFxcXlzjgiquLi4tLHHDF1cXFxSUOuOLq4uLiEgdccXVxcXGJA664uri4uMQBV1xdXFxc4oArri4uLi5xwBVXFxcXlzjgiquLi4tLHHDFtQMgIteJyGIR+V5EvhORsSIyW0R+FpGFIvK5iAwWkc9E5Iio/U4WkXcTabuLS1vFnaCwnSMi+2NPJby3qoZEJB97emWA01V1nohcCNwFTANeFpGPsac4vw04PBF2u7i0dVxxbf90w56fPgSgqlsARCQ6zifA5ar6g4i8CfwZSMeecXN5C9vr4tIucMW1/fM+cKOI/AJ8CLyoqnNqxTkaWOQs3wx8C4SBfVvMSheXdoYrru0cVS0XkX2ACcBBwIsiMt0J/reIVAErgT868StE5EWgvLq06+Li0nRcce0AqKoJzAZmi8gi4Gwn6HRVnRdjF8v5ubi47CKuuLZzRGQwYKnqUmfTKGAVMCxxVjkUBLzAHkBfoCvQxflVL2dhN775gSTn58cW/nKgzPlVLxcBa7CPbxWwGthIQam21CG5uFTjimv7JwN4UESyAQNYBlwI/KdFrSgIDAD2BvZ0fkOBQezouRAvghQEVmD7lL8HFgDzKCjdFOd8XTo4ouq+1F2aGbtEOhoYH/XrklCb6rIG+Ar4CPiQglK3V4RLs+KKq0vzUBDoBPwWOAa74SwjsQY1mRXYvSk+BD6goHRrgu1xaeO44uqy6xQE9gCOdX4H0H6++IsAHwAvAK9RUFqWYHtc2iCuuLo0jYJANvA74Bxgv8Qa0yIEgbexhfYNCkrd7mkujcIVV5fGURAYD1wEnAikJNiaRLEFeBz4BwWlaxJtjEvrxhVXl/opCPiwS6lXA8MTbE1rwgReBx6koHR2gm1xaaW44upSl4JACnAetqj2TawxrZ7vgb8C/3X707pE44qryw4KAhnAxcDl2B35XRrPQqCAgtLXEm2IS+vAFVcXKAh4gN9jl8BaW3/UtsZ84CYKSt9KtCEuicUV145OQeBg4F5gRKJNaWd8DFxCQemSRBvikhhcce2oFAQGA/cAUxNtSjsmAtwP3ExBaXmijXFpWVxx7WjYPQCuBm4CkhNsTUdhLXAVBaUvJNoQl5bDFdeOREFgOPAEsE+iTemgvAucS0HphkQb4hJ/XHHtCBQEkoBrgeuwh+1zSRxbgAspKH010Ya4xBdXXNs7BYH+wMvYw/25tB7+BVzm+mLbL664tmcKAscCTwKBBFviEpvlwGkUlH6TaENcmh9XXNsjdqPV34CrEm2KS4OEgGkUlD6ZaENcmhdXXNsbBYFuwIvYExK6tB0eAK6koNRItCEuzYMrru2JgsAw4B2gZ6JNcdklPgJOpqC0ONGGuOw+rri2FwoCBwGv4vpX2zorgKkUlP6YaENcdo/2MnJ8x6Yg8DvsPpSusLZ9+gGfUhAYm2hDXHYPV1zbOgWBa4B/E/9ZVF1ajjzgoxnXXTQ50Ya47DquuLZlCgK3AHcAkmhTXJqXd8wx8x4xf/tu3+lvHZVoW1x2DVdc2yoFgRuBGxJthkvz85U1dM7/Rf40CXvsh1f6Tn/rhETb5NJ03AattkhB4FrgtkSb4dL8/Gj1/uyI8N8OBImujZjAGStnTHUHfmlDuOLa1rB9rHck2gyX5me11emryeG/j7HweGMER4DDV86YOqul7XLZNVxxbUsUBP4PeDjRZrg0P1s069sDQg/uFSZpZ8NAlgIHrpwxdXFL2eWy67ji2lYoCBwBvAnEKtW4tGG2aeoP40Iz+1WSkt6I6KuBcStnTF0fb7tcdg9XXNsC9jisnwOZiTbFpXmpUv8v40IPdS4lI7sJu80HJq2cMbUiXna57D5ub4HWTkGgK/A/XGFtd4TVu2pS6O85TRRWsAc7f6Hv9LfcWkwrxhXX1kxBIBV4A+idaFNcmhdDPesPCd/t3UROp11M4ijswV5cWimuuLZuHgHGJNoIl+bFUik6Knx71WrtsrsD7Pyh7/S3LmkWo1yaHdfn2lopCJwPPJ5oM6oJGsrEJyoImWBYcOJQHzcflELB7CCPfxuhU5rdLfP2g5M5cmDdmWT+/mWI/7cgggDDu3h44phUUnzCnz8I8s4yg1FdvTx9XCoAzywMU1ylXDau/c2fqMq2k8I3rZ2ng4c2U5JBYMzKGVN/aKb0XJoJV1xbI/bQgXOBlESbUo2qUhGBDL8QMZXxT1Rw/+EpvLvMIMMvXHVA/UK4dpvF+CcqWPKHDFKThJNfruTIgT6OG5LEUc9X8um56Zz+SiXTD0xmQK6Ho56v5N3T00jytq+velWpOi9y9S8fW6NHNnPS3wP7rZwxNdTM6brsBq5boLVREEgBXqAVCSuAiJDht8UuYkHEbNqABoYFVQYYllIZge6ZHjwCYVNRVaoikOSFu74Ic+l+/vYorJE/Rf6wOA7CCjACuD0O6brsBq64tj7uAfZKtBGxMC1l1CPldL6rjEP7+xjb0wfAQ9+EGfGPcs57vYqtVXVrQj2yPFy1v5/efy+j2z3lBFLgsD18ZCYLJwxNYvSjFfTL9hBIFuauMzlmSPuaoFYV6xbjzHmvWeP3jWM2f+o7/a2D45i+SxNx3QKtCXvA61b/eWNJUDnuxUoePCKFTmlCfpogAjfMCrG+XPnXMak14m+tUk54qZIXT0wlO0U46eUqTtzTxxkjao6SeP4bVVw8xs/89SbvLzcY0cXL9RPbvt/1QePYT+8xTm6JaXfWAsNXzpi6tQXycmkAt+TaWrDdAY8l2ozGkJ0iTO7j491lBl0yPHg9gkeEC/bx881as078D3816JftoVO6hySvcPxQH1+sqRlvwXp7fVCeh6cXRnjppDR+2GSytKhuem2J542D5rSQsAL0AB5tobxcGsAV19bDjcCARBtRH5srLEqCdi2nKqJ8uMJgSL6H9WXW9jiv/hhhWOe6t1TvgPDVWpPKiO1f/WiFydD8mv3fb/g4xC0HJROxwHQqUx6Bykj8jinefGDuM+cvxgWTWjjbk/pOf+vMFs7TJQa+RBvgQvXnra16Guz15crZr1ViWmApnLxXEkcNSuLMV6v4boOJAH2zPTx6lN0Ot67M4vw3grx9ehpje/o4caiPvR+twOeB0d28XLjPDr/qaz9FGNPdS/dMW5j37+ll+D/KGdHFw8iubfMjpLnWoE8uiFzZ0sJazV19p7/16soZU8sTlL8Lrs818RQEPMAXgDtnUjvhZ6vn578J33FArTFZW5rbVs6Yen0C8+/wuG6BxHMurrC2Gwo1/+sjw38bm2BhBbii7/S3eiXYhg6NK66JxB474OZEm+HSPBRp5oIpoXtGmXhbg7stFbfva0JxxTWxXIbdwuvSxinT1MUTQ/cNbGCw65bm9L7T32py31oR6Skir4vIUhH5VUQeEpFkJ2y8iHwjIj+JyM8icnGtfS90wn4SkXkiMrmZjqXN4YproigI5AJ/TrQZLrtPUJOWTgjd172C1IxE21ILAe5t0g4iArwCvKaqA4GB2KXgO0WkK/AcME1VhwAHAueJyHHOvkcBFwHjnfALgWdFpEMWIFxxTRzXAk0dx9OllRFR76rJob9nlZCZk2hb6mFC3+lvHd+E+FOAoKo+AaCqJvAn4CzswsCTqvqtE7YFuAa42tn3z8DVznaceE8ANUq3HQVXXBNBQaAH4A4V18Yx1bP+kPBd3g3kdkm0LQ0wo+/0txr7rO+FPdPBdlR1G7ASGFk7DJgH7FnfvrXCOxSuuCaGS7HnpHdpo1gqxUeHb61cpV13d0zWlmAg0NjSqwCx+mfKTsIaSq9D4oprS1MQyMT2S7m0UVQpOzV8/YYl2nePRNvSBBr7kcpioEYjmIhkAV2Ab2uHYU85M89ZXuKsR7N3VHiHwhXXlud8IJBoI1x2DVWC50euXP6NDm1rVd2xfae/Nb4R8T4C0kTkLAAR8WKP1PYQcDdwjoiMcsLygNuAvzr73gnc4WzHiXccHXS8A1dcW5KCgBe7+5VLG0SVyFWRaYs+svYZlWhbdpErG4qg9iebxwEnishSoAiwVPU2VV0PnAE8JiI/A+uAB1R1jrPvG8A/gc9FZBnwGXCsqm6Oz+G0btzPX1uSgsCpwPOJNsOl6ahi3Wqc8dU/zSMPSLQtu4EJ9Fs5Y+qaxu4gIgdg37PHq+r8WmEXA9OAiaq6tVaYD7ungAc4Qzug0Lgl15bl/xJtgMuu8Yh59GdtXFgBvDTR36+qX6hqn9rC6oTNVNXhtYXVCTNU9UxVPb0jCiu4JdeWoyDQD1hOB249bau8ZEycfY0xbXKi7WgmNgK9Vs6Y2oYHc2wbuCXXluMsXGFtc8wyR81pR8IKdqv/cYk2oiPgimtLUBAQbHF1aUN8aw345LzINYkakzWenJRoAzoCrri2DOOB/ok2wqXxLLW6f35CuKAxXZfaIkf0nf5Wq5pduD3iimvL4E670YZYp7nfHB6+Y6ziaa/PRzpwaKKNaO+015un9WC7BI5JtBkujaNYM787KHTviFYyJms8cf2uccYV1/gzBuicaCNcGqZcU5ZMCN23Rwh/R6gyH913+lttc4KyNkJ7fzu3BqYm2gCXhglq0vIJofu6VpCa2VDcLW/fR9XyuXjTAnT//cMAlHzyDJXLvgYRvGnZ5B15Ob7MvDr7Vv06n+KPHgPLImPkYQTG2W1LW2c/QdWv8/F37kf+UfaHVOU/zMIKlpG1b1wqPvnABGB2PBJ3cUuuLYErrq2ciHrXHBS6N30rWbmNiZ8x/BA6n1Rzdp6ssSfQ/byH6H7ug6TuMYbSL+p+iKeWSfEH/6DzSTfT/fyHqVgyh/CW1VihCkJrf6T7eQ+hahHevBIrEqLihw/JHB3X28d1DcQRV1zjSUGgK/aoQC6tFFNl42HhO3Q9eV0bu09Kr2F4axVwPclp25c1EiRWl+bw+l/wZXcjKbsr4k0ifehEqpZ+BQhqGqgqaoQRj5dt37xC5j6/ReLr+nXFNY644hpfjsD9cKDVYilbfxu+tWyFdu/dHOlt/eRpCh8+h4ols8mecEadcKOsCF9Wp+3r3sx8zPIiPMlppA0+gPVPXoov0AVJTie8/hfSBo5rDrN2Rq++098aEu9MOiquzzW+HJhoA1xio0r5aZHr1i3Wfns1V5o5E88iZ+JZlH75EmXz/0f2hNMbsZf97g2MPZHA2BMBKHrnAbInnEHZwvcIrlhAUue+ZB9wanOZWZsxwE/xSrwj45Zc40vcix4uTUeV4EWRPy39ytqr2YQ1mvQ9J1P5y+d1tvsy8zC27Rh9zyzbgjejpps3vHG5HTenBxU/zKLTsdOJbF5FpHhtPEwFW1xd4oArrvGiIJAFDE20GS41UcX4s3HB9+9bY0Y3Z7rR4le57GuScuvO/uLvNghj6zoiJRtQM0LFj5+QOmBsjTglnz5LYPzpYBmglr1RPKgRak5zo9kvXgl3dFy3QPzYD/fl1apQRWcYv/v6JfOg3XLXbH7jTkKrF2FWbaNw5tkExp9O8Nd5RIoLQTz4sjqR+xt7wlOjrIiidx+gy0k3Ix4vuYdOY9NLN4JaZAw/FH+nPtvTrfzlS/xdB27vwpXcfQjr/nkxSZ374u8ct6+nR/Wd/laSO0pW8+MOORgvCgLXAbcm2gyXHTxmHPnJ7cYZExNtRytkn5Uzpn6baCPaG27JKn641a1WxCvm+NmusNaL63eNA664xg+3i0srYY45YvYVkT9MTrQdrRhXXOOAK67xwJ6IsF+izXCBhVb/T8+OTJ+caDtaOa64xgFXXONDPyAp0UZ0dH61un1xbPgWt69xw7hjDccBV1zjw8BEG9DR2aA5cw8L3zGmHY/J2pxk9J3+VlaijWhvuDdefHDFNYFs1YyFk0P3DjPwubWHxtM90Qa0N1xxjQ8DEm1AR6VCU36cELqvX5Dk1ETb0sZwxbWZccU1PnRLtAEdkZAmLZ8Q+nvnctLcKm7T6ZFoA9ob7UpcReQkEcl0lq8XkVdEJBFD/rkzD7QwEfUWHhS6J62YQN0Rql0ag1tybWbalbgCN6hqmYiMB34DPAX8o6WN+CAttWR+cvJPq32+wnKRspbOv6Nhqmw6PDzDXEe+W2PYdVxxbWba29gCpvN/KpAHBAF/daCIXA4chj3O6qWq+qCz/SFgnqo+KSICXAecDSiwHvijqn7fWCOu6NJpLNBl+wbVsAdKfEpZilrlGZYGA5YVzjNNs5Np0skwfV1M09fFMFI7mWZ6vmll5ZhmTpLbnatBLKXkuPAtpcu1h9uIuHu4boFmpr2J61oReRQ4BHgQOI2apfNTgauBfYDLRORRVQ3XSuNi4ABgpKpWishhwJsisqeqVjTSjpwaayJ+CzqHhc5hvGzzwrrGpKJa7oUSv2pZmqWVmZYVWvhwYf9NP1flpaV5Indd13VBF8NI7mSaqZ1MMyPPtALf/hoOHPtCpfTLtg/7+KFJ3Dgpmc0VFse9WEVJULl1SjLHDrF1+5gXKvnH1BS6Z7a9SowqFWdGri38XvcYlmhb2gGNnonBpXG0N3E9GTgcuBsoBm4AzgIQkb7YVZ9CYDPwOXbp9PFaafwZmKyqlQCq+r6IfAKcDjzWkAHDnxruI6q0vFuIZJiQUSVClQeK8OI7ojM9j/VQ+Hhh0n252XU6yJdXlFvWwC2G58o+hSmWVnyiVuUJphVe8cbmroG9k8zfjU0vuuyhDcMz9s5atmBBZec+Xbo/PXUAACAASURBVHxZuVleH6ptqnVdldDFkct+/twa5k6j0zy0qevfFmgX4ioix6vqK05J82NV3eps/4odx3gq8CJ2VR9gBvCOiPwrKp0sIF1Vl9fKYh6wZyPNieu0zOmD0wlvrl3YjkLwiFc8EZF+Ea9QhoeNPijKS2GDCRsyM9iS4efy/PzRKxeupM/l/RmT7AHVoAe2+lXLUlUrMiwrGDAtI88yzU6GKV1M09vFMP2dTDO1k2Gm55tmVrZl5XihxadnVsW81vj9d29bY8c2HNulkbQLLWhNtJcTej3wirP8ETsmBXweW1Rfd/6fV72Dqq4QkW+wXQcN0ZR5sJKbEDcuVC6rZNkNy/Bl++h6aldSeqSQPS6bNY+sYevnW+l6cleKZxWTfWA2nmTHHSCSYkG3oEi3ILDV62VNQx5fe7zKUh+UJquWp1lWZZaloRzTNPJNUzuZpqez7U9O7myYaZ1MMzPHNAOZqg1OX11/lujdxslfPm8ePH5X03CJievfb2bai7hKPcuvAfc63bFSVfVbxz1Qze3Af4BPAFR1m4hUiEh/Vf01Kt7ewPuNtCWu57Twn4WUfVuGFbJihqf0SSFrvywqFlcQWh9i5T0rGXLvENRQrCoLjShGicG277bR+4+9+fnKn0nukUzn33YmbUBazDTrxW78CxgQMESo8HiwJzFp4DlVjQiUJCnbohr4IrmmaXQyTTobpreLaSZ1NszUTqaZlm+aWTmmmeMH/xPm4Z/MNI+d1DRDW44tb99H1fK5eNMCdP/9w3XCzWA5RW/fh1GyAfElkXfEZfg79cWsLGXzK7dhhcrJnnAmaYP2B2DTf/9K7mF/2D6AdhxpL1rQamgvJzRVREZjN16lOMvVIvsd8C/sUmwNVPUnEVkCHAV842y+C3hARE5S1SoROQTYC7gw3gfRGHLG55C1dxZrZq6JGV61tIrIlggD7xhI1fIqVsxYgVFmUPp1KdkHZhMYG2DpX5bSa1ovNr68kZSeKfSc1pPV96+m3/R++EyN+EzCPoNIkun8DAyf/d/0mxhJhpp+AzPJoPq/+g0sv4Hlj6gmGVhJJuo3IMkAvwFJpr2cZKr4TPCZeJyfiHq1KjnPCKXkhoMp+WY4OVe3+fOk2Je9bYkvM9nypG81jHU/WFUf+5cfNHL9hPIf3xiwdVXKQC2UPTzrPD1kS1ouZTkphPNIgJsimo9HGb6M/dBzXi/MWJx8emnt8D/NrkrL6Cr619+lVC3eZHoueeeyjI/Pzth277ehlNQR6Okj/KHfPDsj68vhGdte/SmS9G030/fX/Eur4m23hZTB1nhn06FoL+K6HrjXWd4QtQx2l6zh2G6BavqJyG9U9T3gNmAB8FsRuQYIA4OAbSKi2D7a/bD9ro1plTajV7ymGj6TcJJJxBEo+7+JmWRg+I0dYuU3MJ3tlj/iiJWhWi1etkCl8GNhWWCmqSOve8H8xGcoSY5I+Uzk5iVFg47PSi89fqa5dWFpJONSQ4fe+VD4p49KjWzLwjv644rw5dusbq+86t/421/LOv8uOyd8wj2GXlBopr7wN0Owi527XUU0Pf7KUHKgOJicUxpMyasIpuSFqlLyrKqUHA35s5IMX3qa6U3OtDy+HCDHKQXXwTKLV0XKXlmr1tYpgBy02v/m4glLUh/z/t9A3RjZ7FtZFpIyY0+BgBfT6CmbNwyQtVuGyuqKwZ41kX6ywdtVitOzqMhPwuwq0kyNjfVwcH8vK0ssvAIe0dza4cuKLf4y3o9HNHV4Fw+F2yw2V5i56UkQsRTDstL9XrDUyn14bog3f5eGR+Lf2OhBNzccy6UptItpXkRknKp+1YT4FwHjVPXcqG1fAVer6qci8iTwP+Bd4FXgF2CSqjYornNHDc1MD7Ieu8eAT5rmr22Qq9at5cuKCrZaFl18Pi7JyyfitNGdmp3Db1f8SqVlken1kiyCqcpNXbvSJ8nP1evX8V1VFdM7d6HMMhGFt8vKKLNM/pifz2GZ9X81qqCGL70kmJy9NZiSuy2YklcVTMkLV6XkEkrO9kT8mf6ILy3d8iRlqXjzEEnfneNUq3xTuPzNn9Rcvz9RYj+p66mzP+m2MK3vvh/m3ey5fdNG6bY/loa96ysXeleWh6XcGC4Q80AEy+rK1k17eNZtHiKry4Z41oT7yzpPdylKy6E8x0+kmwhN9I3UZWWJxVHPVfLDHzLqhF37UZCgAff+JoVv1poc8M8Kvj4/nQG5Hk57pYqN5RZ3HJLC4s0mgWTh7FFxfRdEs4SC0gZnwxWRXthutH1UtVhEcoBvgXOAmao6zOkr/ilwm6q+4+x3MnCeqh4etyNoZbSXkuvD7GjEagz/AW4VkWRVDUV10/osOpKqlgOHOuGN8vNlBAkBuyUsO+Pu7j1YGwnzf4WFvNGv7jCc3ZOSuCA3j33SbI04d81qBCHT6+WRnr0AKDVNrly3lr/37GV8b1iRYksMI3dI4cpuw4uDKXlGMCWHkD/giyRlJBu+lEzLkxQAycN+kHLqZNqMqIa2RSre/daKLB8D1JmWZUPlcv9eZaPNJYvKQveMuGTkfznls1flpNFmj/QxZo90MDXkXV/5jXdluSEVxnCB7Y1niseznryu6628rp8xvFYdwyaX0qI9ZP2mIZ41pYNldWiAZx09ZXNKLttyUgl3ESGwO8c3fXwyl70bZNQj5Qzv4mV0Nw8+DwRShLdOs6/Z1irljs9DvHJKGhe8UcXWoHLl/n727xXXx7WyMZFUdY2I/AO7t82Fzv/HgFVRcVREpgEvi8jH2K6a27C7SXYY2ou4Nql0qKpFTk+Bw9nRk+BFbYZi/NCffgz/OGRohAS1vuYnJRtLSSnplzNkQzAlt+LXVetGbBp08oJg7h6RsD/LbySlpT7zxaP99jnoQs9929ZlpHdR36QBU3j0vRuGXnbgbxNhMgCqRsio/PgrM7xoODC5vniFlUt7TzUP6jG3pMdPy5aOXXTCwBcPGCtfrLpJ/xYMSepQvJJs9kzfz+yZDqYGvesqv/GuKjekwhghULcoWYtiAnnFGsiba8aepSeDym39Zf3GQZ7CrUNkdXCQFGov2eTPl21Z6QS7eETzd5Z+VrLwxDGpzjEr/e4vp19OzQ84bpkT4roJyTy/KMI+3b2cNjyJY16o5OOz4/q4NuUz7b8D850vHscDf6TW57Oq+oOIvIndbzwdeDpGF8d2TXsR134i8kZ9gaoaSzXq7abVDGzD9vXuNgoaScrYGrKr42VVKXmVSw282za+NHzuPtfMDydlJhu+1HTL4w+oeHI7r/467T+LX8vvNOKS/JWbfiQt83O0/28OqG5Z2VRaSGW4ksE992bdohUkeZMRhIixk76zcUTVMo3gV1+awa/7gzZYO6gwSnqq6obxkcEVszeYYzMyiuf06r500mOcHblH/zLne0ZN3O6/9UqK2St9P7OXI7RrK772rqqwpNIYIbtYuygnLet73SPre3OPmOEphKo6BRdtKTTu7zTTOGruIFlj9pGNSZ2lJDODqk7bgmaXDD8ev1f4f99GmNjHR1byjrLB0iKTdeUWk/r6+G5DiNQkQYCgsSvWNoltjY2oqhERuRrbbXaYqobrcZnfjO0yCAP7NouVbYj2Iq6bgXuauE+dblrNaE8xOxFXS7zhsD9QHEzO3hpMzauoSskLBVPyIsHkXAknZ/kiSRmphjc53fIk5YDkIpIL5AI88eGtLF2/kPJgKZe9fs2EI/c9G9Oy67cT9jyavXqPZfHqr7n5hTNJ8qVwxuSra+T95jf/4uj97PfIvgOm8Nh7NzL7h1eYuu85zXj4jcMILfzaqJydD2aT+qxWGqUrB0i3cV/oL98vWzZuUnp6ySdZgc0T/8ytk75h3LcP6BXdVbw1P+f0SorZO2Os2TsDTK3yrq34yruqQqXSGCnsvp+1mjVv3J+6bPWiXmbVNi67/+0JgfGng2UrY+boIzHW/WAUvXm3lYRhds3JKb/xuIE/Lra2Yje6Veb+5aPKXn872O58/LvhSRz7QhX3fx3mlslx7z7d1K4CR2A3JA8DPogVQVUrRORFoFxVQ7tpX5ujvYhruarOacoOqlouIrOpp5vW7rC+y9ivK9K7rg+m5Fmh5GxP2J+VFPGlpZtef6aKLxeRAPa33E3+nvvcQ67fabiIcMqEy+oN//2hN25fzkzN4cpjH2yqCbuNGV7+XaTyHR8a3qUvrDZUrQoNSMphcmQvfd+/kIULDztwv7GvzEtOrtp3P77a+2F+X3yD3vn1FukcO32vpJq9M8bZQmtVegsrv/KuLkcqzRG7I7RqhDFK1uNJC+BJySRt8IFkjjysRpxgyWaf6c/ABN/qcEryNSUnjvf7+0f1c83k+zVHbR2b2bNwiH9N2Tbvi4PvOKXr0jG55b6QVjRbo1sMihobUURGAYcC44DPROSFnUS3nF+Ho72I64pd3O957C+7Tm0oYlP4cehZqcRojOnoWMa6n8Plb5ahFbtVRSys+Dl3QNYoelv5I1PVP79KwvvMn3fM4LHjXv7Z6zUHZ1GWez//N/Z5PePT/3HsvojU35XJ60kz+2SMM/tkgGFVeAsrv/SuLhepMkdKU7+39ybR5dTb8fhTUdNgw7+vIbX/PiT32OG/9QW60uW0GXhTMqhaPo+idx+i21n3UrFkDunDppA+dCKrX74pJzzkrpz3llUR7nk4l6SflkdUuS+P0i17yLpNgz1rtg3Z0eiWmkNZIJVwN5HYvSUaYGNjIjk9Af4BXK6qq0XkLuyxPK7bhTzbNe1FXLd3w3I6/78ctX67ql4baydVfZUYjWGqek6t9ZU0ro9rNWubELfdY5nFqyPlbxSqVbw/zdA1bXNwzSCnl0fylPCw1LeSv8U0kzLnzzsma8x+r64X0W4Av+PZCQfw2fICvc0IS8rgBhP2edLNvhn7m30zwLDKvYUVX3hXV3gdoW1wzAgRQfxOY5VlgGVCLV9kSs+h25f9PYZglm2x9/X6UCOMmhEQQS2Tsnmv0+mEG6lNEYH8Ig3kf2MOrRMGkElFqdPoVjJE1lQNlEJ6yyZ/vpQG0gh18oh2irFb7K9S6nIBsFpVq10BD2N3w+oDDBaRwqi4f2pkmu2S9tLP9VtV3bv2cqz1lmDmtFnXAHe0ZJ6tEbXKN4fL//ejmutq9FVtDo7rfdkivzdlOMCL/s+/LvMExwJkZm7+eeSod3uI7OgZEMEXupPrv1rCsIn1faywUwyrzLumYpFvdYWPoDlSdjJ+hFom65+6HGPrejL3nkrO5HPri0rp169gFBeSd8SlWKEKtrxxF2ZlCdmTziGyZTWe5HQyhh/cZHMbIpVQZR/ZuGGgFBYP8ayuGiyFFvDnQ/768dfNnlkHpr2I6wJVHV17OdZ6SzBz2qzTgWfjnU9lqJzn5tzN+q0rAeH0SVfRv2vdfuCrNv3E3a/9kfMOuZ7R/SdRVlXC4+/fRFWonKPGnMvIfnZ70qPv3sApEy4jO32nvYkaxO6r+t63VmTZGOLU53dS11PmdE3tOwlgi5Qtf83/TT/EHru3c+flcwcN/mJvkZqfwn7B+HkPc1kfFU+sklvjiFjbvGsqFvnWVPgdoY3Zy98KlrPp1dvIPeQi/J361gkPrvqeovcfpusZd+JNrVmLN4PlbHn9Djoddy1bP3ocK1hO1n7Hkdwjdkm1mei+csbU9fHMoKPR9kZIjo3WsxxrvSVY2hKZ/OeLh9iz1xhuOOVJ/nLiY3TN6VMnjmWZvP714wztucPNOX/ZLMYOOowrj32Qjxa+BMCilV/QK3/gbgmrqhGKVHw4J1Qy07AiyyYTx48p1lb8sr30mK+Ze+Ro+pfV65s27TFm7dqhn9fe5wA+2/chLiBHi+bucsZJniyzf+aBoUldx4SmdKuKDMj8XJM9cxUi0dE8KRmk9BpO1a91O6GEN62g6N0H6HzCDXWEFaD08+cJ7H8yFUvm4O86gLwjL2frJ0/vssmNoMIV1uanvYjrSBHZJvZ8VSOc5er14QmwZxExv/9pPqrCFSxfv4j9hxwJgM+bRFpy3T7yc354jZH9JpCZmr19m9fjI2KEMMwIIoJpmXy86BUOGXnyLtmiaplG1ZefhUoeLDLD30/C6TYWT9ZWLu0XvX5wZHgvdIfArfh134klJV3q9CDJpqTTQ1w45nD93yeoBnfLiCRPwNwj68DQ5G5jQlO6VQbzgl8bZtkChYgVCRFc9R1JeT1r7GJs28TmV28nb+qVJOXWnVklUrwWs7yYlN7DUSMEYj+iGt9+yL82HMWlqbQLcVVVr6pmqWqmqvqc5er1Fv9S6uJHplQBP8czj6Jt68lICfDs7DuZ8Z+L+PecuwlFag6eVFKxmYUrP2PCnkfX2L7vgCn8WDiPmW9P58h9zubTxa+z36BD8Sc1fZxvI/T916GSB1cawS/Hg7bYJHdVZnkXS83tjSfZmt67s2Z9GR1n0feHTggG02P6Ec/kiYm38Oc1SRpe1iwGJXkCkRxz7MbXCkavfeFSz7pn/ljp7zlkXeqA/YyyBW9TtuBtAEo/fwGrahvFHzzMuif+yPqnLq+RTMknz5A94QwA0odOomLRh2x45iqy9ju+Wcysh+Y5By41aBc+19bIzGmznsWeGiYurNr8M/e8eglXHPMAfbsM5T+fP0SKP52jxuxoQPnnBzczZcRJ9OuyJ898fAfD+oxjdP+aH0FVhsr414d/5YLDbua/XzxMZaiMKSNOium7jcYM/7owUvm2Bw0nomYAwBE9zv8iy593QPV6OcENLyR/no3saNn3eIzKseNeXunzGTFnkgiTFPwbN33ziwyNT9e5sFnsW1WxxFtYkUbYGiGts4fOLStnTL0p0Ua0N9pFybWVsiCeieekdyI7vRN9u9iNHKP6T2TNlpqu3tWbf+GJD2/lxn+fxoJfP+HFTx9g4YoaY9Pwzvxn+M3o05m3bBa9Og3i9MlX8+bcf9abr2Ws/zlY8ui8SMVrIxMprAAbqlbU+Cg0g5SuPazcGiVVy/KlzZ93TL6qxOwe5yeSchPXT7xQH/pG1NrS7Eb6vbnGwKzxoYO67R2a3LXU6Jfxqfo9CzTObqMm8k3DUVyaiiuu8eO7eCaelZZLTkYnNpbY3RN/XruArtk1G7RuPu3f3HL6c9xy+nOM7j+RUyZcur1nANjjDJRWFDGw+0jCRhBx/mKNM2CZxatDpU9+Hi57ftDufgTQXBRW/lyn9W1yZK9haM1BSMLhtM7fLTiiUrX+7+cn8fF+D3KhFdCt8+NhKwDJ3jxjUGBC6KBuo0OTu241+mZ8qkme71qB0O60gU9EeonICrE/w0ZEcpz1SSLyQ1S8AhH5W619R4nIj/Exu3Xjimv8iGvJFeCkA//Ikx/dzu0vn8/aomX8Zu/T+HTJm3y65M1G7f/mN//iqP1sN8K+A6bw9S/vcfdrl3BwVMOWWuWbQ2UvfBLe9mQ3tYoPpJnHp90dtgTXDqqepbeaVPx5fa1OdQSyvDxv4E8/TliqSr1DoOSwtfNMzt/7YH1vDnWnXG9ekr35xuDAhNCUbqNCk7sWG30zPtEkz0Jt+U9FV62cMXXTziKo6hrsr7JmOJvqDDPo8DxwSq1tpwLPNYOdbQ7X5xpHZk6btQronWg7dgWnr+oCK7JsX+LYpWp3Obb3pQuTvakjo7eFMbY9nTzHROqOPdunz3ef9u6zaEJD6S5l0M+3cnOSIf66g+bGk6C5ybey7CfvuspsIjpM4l8AemnljKm1BbEOIpIEzMcei+MCYDT2MIP/ix5EXkS+Bf5PVb921n8FfqOqLdI9sTXhllzjS/yqmHFC1QhFKj+aEyqZGbEiyybRioUVoCi0rqT2Nj++rEFmt4Wx4q9aNWpCcVGP2Q2lO5BfBj/GOV3769JPdxZPTZOiC09l67WX1gmreOEpii44haILTmHLeSey8ZB9sLaVYpUUU3zpuWw570SCn328PX7J9Zdjlhd1NoZkTwxN6T4iNKnLJqN3+hz1yfcav/7ajRrwSFUjwNXYY7lervWX7KuH8kRExgFFHVFYwRXXeDMr0QY0FlW1nL6qW8zQwkk003i08aaw4peYg6vsbwzeTzT2YCSLFx80qaoq88tYYdEkE0r7K9MnnKePfoVqzCH5Kl95Dl/vfrGCSD/1bPIef5G8x18k8/w/kjRiHzxZAYKz3iXlsKPJfegpKl98CoDQF3PwDRyKN7/zjgRSfF2NodmTQgd3HxGa2GWD0Tv9E/XJomYW2k+aEDd6mMH6eAE4UUQ82CLbrCPOtSVccY0v7yXagMZghBZ9HSp54Fenr2rdnu2tmHWVy2JW25Pwpu1l9qqnr7HI/PlHjTaMpB9ih9fkYN4fdz/TgplaWsOPbm7eSPirz0g98rgG0wjOepeUKc4sJ14fhIMQCYPHg5oGlf99jvRTzqo/gVRfN2No9sTQwd2HhyZ22WD0Sp+jPvlhN4W2CFjcmIi1hhn8k4h0ixXP8c+uxJ4W6QTgpd2wr03TYcW1sS2gUfGfdMK/c35fNJTHxY9MWUor/vrFDP+6MFjy0CKj8oOxYA5ItD27QsiqzDfVrN2wAsAYY8A40RqjNG1HLV/KvLnHdLUsWd2YfPLZ0u1hfj9yos6ag11FpmzmXWRcdBl4dv4YabCK0NwvSJloD8KScvARhOZ+ydY/X0z62RdR9fpLpBw2FUlp5AiHqb5uxp7Zk0IHdx8WntBlndEzbY56pVEiWYs5K2dMbVCcaw8ziD39/N072eV5bPfBclWNef47Ah1WXJvQAhrN1ao6yvkdsJN40bS60mtr6qvaHJRFimM+wF48/tFGv5X17ReJpOZ/t2CqoUodv20sPKjnImZOup4bl0bmvLfRk51L0qCY3ybUIPTlJyTtNQpPlj23oScjk5y/PUjeI8+RNHAooS8/JXniIWy7+xZKCq4ivDimuzgmmubrYeyVMyl0SPe9QuO7FBo90uaoV5Y0cvd6p0aqRaxhBocQNcxg1O8k4GVgL2wXQYelQ/cWaGwLqBP3SWf7f5qSx8xpsw4H3mkWg3cTy9y6JlL++mq1ig+gFXWp2l1G5Ez6ZGj2uJhfWFmo+WTyx6ss0Xpb/XPz1ny3556z9xSJPcJVLB5+tDT8xvsRrOR0P+EwVmUFKROmELj2tjpxS264guTJh5J68BF1wspm3k3y+MkYa1aDZZJy8BGU3PAncu99vLGmxEQqjDXeFWW/ejdUdRFTY822aABdVs6YWrxbGbnUS4ctuUKTWkCruSvKLfDvRmYziyZM/hYP1KrYHCp7cU542xNdW1tf1eagsPKXeqfL8SDescbAnfbjLC7qNWrVylFN+krpDxcF/O/+N99/xXMnfpl17a0V/tFjYgqrVV5G+Pv5pBwwuU6YUbgKs2gz/pH7QihouxdEILz7001puq+XMSxnUuiQ7kNCB3ZeZXZPm6Ne+SkqyieusMaXDi2uDo1pAa0m2i3QqHEDLn5kShh4a3cM3FVUQ2Xh8jfmhEofTVVj7SQSNN13vCkOrR+gqvVODb2n2XOsTz0/1RcOsGbN8PFbNvdu0jxsAIfz1v7TrPurPMHybQCVb7xM5RvbJ8Ig9NnH+Pcdh6TW9aeW/3MmGef9AYCUKYcTfPcNii8+i7STd9KwtQtoRlKfyPAooe2WOsdK93XIjv0tSUd3C4wC/o0tsJ8BY7FHmW82twDAzGmzTqIFW01VjZBRNecrM7RwGG2kS9XuckzvSxakeNPrHRR9qWf9vDn+JQ1+trv3Pm98np5eemBT87fwmA9z6WdfMv5ARFrj4CzRmECPDQeNatS8WS67Roctue5CC+ju8D9oXKPJ7mD3Vf3q81DJg5vbUl/V5mBLsLB0Z+EDrW77+tX3fUPpLPh26phIxN/4FiUHD5b3Eu6b9Bdu/smrRmPno0oUH7vCGn86rLjS9BZQqOlz/U5EGtUA4ozv+lSzH0EURmjRN3Zf1S8OBO3Z8B7ti8KKX+qOFF6LyZG9GqymqXr98+Ye09uyPLs0o/AwFg17hHMDPXR1g131EojrEmgBOrRboCWZOW3WEKDZRwcyI78ujFS840FDbb5L1e7g96SUHNv70oA0MAHhv5M/nV8l4X0aSs/nK1r91NOPdbdMfKapTJyYztnn1JxgobzcYsbfNrFpk4FpKiednM3hh2dSUmJy000bKCxKqeTC60iZdGga2J+3Zl5+bc2vsFqeUmyXQEUijegIdOSSa4ty8SNTfgI+bjBiI7GM9b8ESx6bGyl/bWRHF1aAsBXMttRs8IONKeFhjeqpH4nk9v79eaf+9OhjPUOPPtaTuXOrWLKk5qwwb7xeSp8+STz2eE/uubc7jz5SRCSifDyrnMMOy+SZx3LS8l64xZemFYtift6aGJ50hbVlcMW1ZfnH7iZgmVvXhEqf+jxc9vwAtHxMcxjVXiiNbGlwkr1umrNnhpXyVUPxRIRgsN+wFb/uMz8SUTUMpU6ZWKCySlFVqqosMjM9eL3g9QnhkBKJKGlJhn+mcfZQfebvJeknn5nocVsVmJlgGzoMrri2LK8BG3Zlx6i+ql3UKjoQ99rVYX3l8kb5uA6JDM9HGx431bIsbrjhkwOOP2617rNPKkOH1pxj7NhjA6xeFeaUk1dzwfmF/OHifDweYcqUDObOq+Qv09dz1tk5vPVGie+iYyqzr0m5d7FHzZgzIrQQ7284aFSHHKEqEbgPaAty8SNTIsD/a8o+dl/VN2dH9VVt9FdEHY3Cyl8aNUFivmYNiJ6Kuz48Hg/Tpk3jiiuu9syfHyldsaLmNybz5layxwA/L77Um0cf68lDD26hosIiI8PD7bd34+F/9GTgQD9ffVXJhInpfHTP+yN63zilc/rc/y3axUPcXdxSawviimvL8xiNmNYjalzVsBVZOhlosDW8o1MS3tRfVRvV5e3gyPCe0VNx74yUlBR69Ng3Y9ZHwRqlznffK2PC+HREMX8zogAAFEpJREFUhB49kuja1ceaNTUF+JlntnLa6dnMmlXOoEHJXPvn3KTM524bfoK+8Bmq5Y0+uN1nBQn6mKWj4oprC3PxI1PWYA9sEROnr+pnHbGvajMgQbO8UdNEZ2t6n061puKOpqKigmDQbsCKRCKsWLHSC5OyLcuzvDpO584+vl1gT2e+tdhgzZoI3brt+AiusDBCUZHJyJGphIK2z1YEwmHleF4efyeXFaVoZWMHWdld7thw0KiWnkKmQ+N2xUoAM6fNGow9jqY3ersRWvSNUflxDhgDE2NZ22dcp6Nn98nYc3Jj4pYTXP9C8uc50VNxV7Nx40Zee+01LMtCVdlrr72YNGkS8+fP3tq7zw++448PZG7ZYnDXnZspKjZA4dRTsznk0Mztadxyy0bOOy+Xnj2T2LrV5KYbN1BRYXH2OTlMnGhXRAy8kb/z5y++Y+8J2ANMx4M1wIANB42K77xgLjVwxTVBzJw26yngLAAzsuL7SMXboKERCTarzdMzbfCCA7scW+9nsABBI8SJz/2RsBFhc2Rr5Z4jhqUddNBBNeJ8/vnnLFpku0Yty2LLli1cffXVWJbFCy88Wen1lqaed16uHDjengXnhhs2cNll+eTn79qXr/PYb8H9XNXVEm/MQah3kz9sOGjUbvdUcWkarlsgcdxiGRuW2H1VXx3hCmvzsKFqxQBV3Wn1N9nr58VT7+P9855gzvnPVS1buswsLKw5JOyBBx7ItGnTmDZtGgcffDB9+vQhNTWVH374gVGjxqVddtnRc198yXbvfvlFBQMHJu+ysALsyzejH+b3KZ10Y4PdxJrIChpoRG3KwPEiMllE/ldr25MicmIz293mccU1QVz8yJTl4bLn5rh9VZsXQ8OZpho79buKCOn+NACSLE+eFTaqdhb/hx9+YNgwexwfj8eDYRisX7/HfuXl/lLTVF555f+3d+fRUVdZAse/L0ulQkICiKAhhLCIEEIM4AJKQBIUxCjOkZjB1tZuwe2gY1uNp1vbNmjbTWtHHT3dHh1FsLF7SrB1nGoH25lo2BFZRNlT7EsICVtWUkm9+eNXkXTWqsqvqEpyP+fkSJJfvd+N5+Tm1fu9d+9Z7rorvsOx96S892s8Ov52/dEqmrQM74Dniqekt/ngzs/C8aIdklyDKw9otVSe8M+Z2pJ29xLXu+uZ9t5PSX9jJrcOmWxJHJDYYgNCl8tFUVERKSlGx4HRo0fjdDpZunQpkyfdEb/o3VrnTTf1xGo171cpl79k/A5bcZSuabNMohe2YVR988arwHil1BPARCC/g/fu9kK9NFqXZrM7SvJzs18CXgh2LC05U1XNXzdspbzmPEopxg9JImP4YKrO1/Ln9Vs4XVlF75ge3DthLD0s/1wqtuRcBUvXX+jnV1ZRxbTU4UwaPhjHtzvZXXyShF5xzL4uHYBNB45QVesiY3jLnVR9cayqKLyvte0+i+Fh4Xz+k0WcrSln7se/siQdGrLNPcjarCTh7t27SUpKItpTj9VqtXL33XcDUF1dzfLlliF3zuq5OT//6NiKcjc5OfGkjGr2fMxnSRwc8jb31b6sny78nrRJtFMzoQUaY63Vqx0CWmuXUmo+sAK4WWtd6/stRWMycw2+fMDZ7lVBEKYUt6Wn8NQtN/JY1g2sKTpI8dlyCnY5uaLfJfxixhSu6HcJBTubvwvvFxfLkzdn8OTNGTwxdSKWiHBSB/SnutbFwbLT2KZNwq01x8+cw1VXz8YDR7h+2CBT4j5StdfrqmDx1p5MGJhO5f7TaUrTrGPB9u3bf1gSaKqwsJCMjEnq/SXJKQMTo078fP6lvPuuecX9I6iz/JLnJ8/j1S1Ku9vsptCCJcVT0tf4+BpvCse39gRcnow3Ick1yGx2RzXwYLDjaElctJXE3sZaojUygv5xsZyrrmH7sRNcnWzkr6uTE9l+rO3SoHtLSrkkpgd9YnqglKLObZzHd9XXEx4Wxpe79zHximTC2+mi6g23W7Pg758Musdua7btqKjsIDP//AhDXs7ktdWLAah2nefLfRv4+LvPLW++/qfYXbsuvBP/4IMP2L9/P1deeWWz+5SVlVFRUUFycjIul7YeP55m1VqdqK01P8dMYM3YPzInrI8u9bYVzSmM9kVe87Z1NkY77t5NvtYHKPXlft2BJNcQYLM7CjCaJIasU5VVHD1zlqRLelFec564aOOtb1y0lYqatns+bT10jPQk42SqNTKCtMTLePWL1fSJ6YE1MoLDp86QOqDVNlg+WbV3P/3jYqmqq272QKiXNY4FUx/nztTpLP32U25adD/Z7z9IL2tP5lxzF3PH5FhWrFhRB8ZyQHh4OMOGDcNiaX7iuKCggIbtW6NHj2bLlj3xcx441evOWfE1zS42QTxn+77BQ9feoj9didbt3ePp4inpXic7HwvH7wUSlFIjPa8dBFwFbPX2ft2FrLmGDhswAzAny5jovKuOJWs3MTM9BWukb2246urdbD92ghlpFxqQThkxlCkjhgLw4cZtTE8dzoZ9h9hdXEpCr55MTfHvDMWZqmp2Hi8ha+Qw1u0pbXbEuG9Mb/rG9KbAuY45V+fw8HWzAXh/yyfU1J0nJ3V6xF92OM653e64DRs2MHv2bCJb+XlzcnJ++HdMTAwPPPAAQFS//kVfa73uaqUCM3G5hyWTbmBl0fP6RV2rolr6H7UB8LV1bEuF4++nUeH4Rtf+DLgHeE8pZQVcwBytdZudILojmbmGCJvdcQaYF+w4mqp3u1mydhNjkwYwOtF4p9jTGsW5amPydK66hlhrVKuv31VcQmLveHq2cM3R08bvY9+eMXxz4Cg/vn4sxWfLOVnuX7nR/9q6g+y0kcbSgz7v9V+BO1KmUrj/a+5ZNp8Xbvy32HVr15WlpaW1mljbUnJi2LXHjo1Y5fMLfTCY/cPe4r6BI/T2lU2+dR6Y6+sxV63121rr3Eaf12utx2mtC7XWkVrrxEYfy7TWa7TW4z2NOq9plJRFI5JcQ4jN7vgI+DjYcTTQWvPhxm30j4tl8pVDfvh6SkJ/vjlgTGa+OXCEUQn9Wx2j8ZJAUyu+38O01OG4PWuwYOxBddX7XvZ0x7ETxEZZSOxjrBFrVRujta7z5rVxUbEsyXmJz+77D9IuGxF2dNfBiJSUFD799FM+/PBDDh/2rSXWPuc1k8+c6d808ZnKgsv6LL+e9LB+faPS7pOeLz9TPCU9WBW3RBOSXEPPIxhPbIPuQOlpNh08SlFJGa/8YxWv/GMVO4+XkDliKHtOlLLwsy/Zc6KUTM9b/LPVNbyz8sIzl9q6evacKGV0C+up3x8tZmCfeOKjrURbIhl0SS/+8LmRjxJ6xfkV645jJbzoKOCD9VsoKikNn/PxMz5PgV9bs5gFk+bFbd28pTghIYGZM2dSUFDgczzfbbtpYk1NjLcPoPyWQeE1bzCXRH1oMfBKoO8nvCe1BUJQfm52BlCArIn7paikjMLd+1ia82phv+iBk5t+/5XVi+gRGf3DmmuD/acO89Kqd3hz5gKeXfvGodL46qTU1FSWLl3asKbqk7AwV+X4CcsPhYfXjfT/p/HKSSA9K9N5LMD3ET6Q5Bqi8nOznwJ+H+w4OqOG5PrSrY+u/e5Q+fUA946ZSUlFGbcueZCK2krCVBg9IqMpmPM+PaOM4iuPfPIcT02aw+A+AymtPM2M5Q9X1dXX9bjxxht/OKHlK4ul6sS11/2tXintVSFvP2jglqxM5+cBGl/4SZJriMrPzVYY668zgx1LZxUT0etI9sCH/G4zfjDs5NYvLNvSOxpHbGzp3vQx/9NfKXxf72jf77IynU8HYFzRQbLmGqJsdofG2A7TbkdT0bLKujOJbu32q2cZwCD3penR2rK5o3FUVPS9YteujL1a49UDNh+sAp41eUxhEkmuIcyzPWsW0GbVJtG6qrqzBzry+sza1I4XCgBKTyaPO3I4td2+XT7YB8zKynQGu6OsaIUk1xBnszu2ALl40XdLNFdcfbDt42Pt8LTi3mBGLAcOjMk4dSrhKxOGKsNYZ/W13oC4iCS5dgI2u+O/gYeCHUdndKRyd5+OjjHVNfoSb1pxe2P795mTq6tjO1IQuwa4PSvTuceMeETgSHLtJGx2x7vI+prPTtYcHq617tDsta+OG9ZLx5jUIUCpzZtuu6quLnK7Hy92Az/KynSuNScWEUiSXDsRm93xG6T3vE/c1Ee53Oc7PMub6ho9AJMeSLndEdHfbJzZz+1Wvhz90sDcrEzn38yIQQSeJNfO53FgebCD6ExO1RZ3uMhqe624feVyRV+6dcuMWq3xtuDJE1mZzpCunCb+mSTXTsZmd7iBu4FlwY6lszhaubf1yjI+yKodPQyNaSUFKyv7DN25Y/I+rWmzxxXwTFam8/X2xvOl0aDn+4s939+qlNqslJrg548iWiDJtROy2R0uYDYhXgM2VByt2ptsxjixWC9PcPc2ZedAg7KypDEHD17V1pjPZ2U6f+vNWH42GpyvtU4HfgG85c19hHckuXZSNrujHpiD0VhOtKG6vvwyt3YfNWOsKa7UUWgqzBirweFDaRNLSwcWNvmyG5iXlel8zsfh/G00uBIY5uO9RBskuXZiNrtD2+yOJzG6yIo2VLhOm9ImOhpL30HuSzeZMVZjO3dMnlRVFdewC+A8cFdWptPnh5daaxdGi5dXMToLNGt304rbAClXaCJJrl2Aze5YgFEhXgpFtKK4er9pR08nuUamo2mxFbf/lNq8KXtcba11DXBzVqbzow4M5k2jwQYvK6W2YvRx8730l2iVJNcuwmZ3vIYx+5B2Gy04UrW7r1ljRREZf0X95d+aNV4DrcMPb1ifMycr0+l3oW0fGg02mO/pKHCT1rrZQy/hP0muXYjN7vg7cC2wM9ixhJrSmqPDtdbNmhb66/q6K69tqRV3B/wfcF1eXt6udq9shY+NBkWASXLtYmx2xx7gOuCTYMcSSjQ6otZds9es8SIJ7zGqfqBZf8T+BEzPy8vr6H7clhoNjqBRo8FGHzmtjiJMIfVcuyhPPdhfAQsAFeRwQkJG/1mFCT2GNutM4K963LWLo74q0Ur7WzO2AngsLy9vsVkxidAhM9cuyrOT4AVgGnCkveu7gyOVe6LNHC+cMMuYuuQDfr58HZAuibXrkuTaxdnsji8wnhovDnIoQXesqmhI+1f5Jr1+8IQwrfb78JJ6jK1zGXl5eU6z4xGhQ5YFupH83OxsjBM77T1B7rJmJf/8YLgKH2TmmN+HH1q3PnKvN0dHvwMeyMvL22jm/UVokplrN2KzOxzAKOCDYMcSLOWuU6YvkYyqHzg+QoftbuOSWozZ6jhJrN2HzFy7qfzc7OkYRyP9a2vaSaX1nrxyZK/xk8wed0/Y8Y0rLTuuaeFb64E5eXl5/tRvFZ2YzFy7KZvdsQJIAx7F6HvfLRyp2tM/EOMOd19+jUVHND4+ug+juM713iRWPytazfL8u49SaotS6icm/TjCBDJzFeTnZscBTwNPAKaU5wtVClWfkzy/SinV0+yxPa24BwIvAG/m5eV5e67fiE2pp4BhWusHlVJvAQeAvwIOrXVqk2sXAw7gC+B/gUVa6zc7/lMIs0hyFT/Iz81OBn4D/CsQHtxoAmdm0rzN1vCYsSYPexr4908sX78y73lbuT8DKKUigU0YpSTnAmOABFpPrl9h1ARYprWW6mghRpKraCY/N3so8BRwH11wJntDv38pTIwZbtZhglPAK8AbiQszznV0MKXUNGAFcLPW+gulVDKtJ9fbgXe01k919L7CfLLmKpqx2R1Om93xEDAY+C1GK+cu40jl7hgThjkG/BJITlyY8aIZidXDl4pWBcBMpVQ/k+4tTCQzV9Gu/NzsaODHGG9VxwU5nA6zhFnP3JH0eLyn0Ikv6oDPgHeAzxIXZtSbGZenotUHGAl2NUaNiCjaXnNNBO4Bpmit/VqOEIEhyVX4JD83OwXjl/lHQFKQw/HbrEE2Z3hYxFAvL9+DccJtceLCjOOBiMeT6NcCv/YsBzyGUTbwGdpIrlrr5Uqp32P80ZvhQ3FsEWCSXIVfPIVhJgP3ArOAuOBG5JubEu5b3SfqsoltXHIAsAP2xIUZWwIdj1LqQSBLa53r+Twc+Bp4EmM3wIlGl/8MuBVPcvVc/x7QA5ittXYHOl7RPkmuXYRSaiBGH6RxWutTSqnewGbgfuCPrcx8JnOhuPYirXW7HUZbkp+bbcHo13QzRqHmMYR4Ja7UXhNXjep9Q0ajL2lgG0Zd1WWJCzPWBycy0VVIcu1C/Nkn2TDzMVN+bvalwFSMZDsFo55oSIm3XLp3+oCfVmBsZyoEViYuzDC5dYvoziS5diF+7JMMSHJtKj83uw+Q3uRjJBAR6Ht7lANFGGun32C83d5ssztM7eIqRGOSXLsYH/dJNl4WuFdrfdG6f+bnZkcBwzGedg9o4aMfYAUiAYvnv42XGjRG0jzb6OMcxr7TfRjJtAgostkdZrZj8XcJ5qL8IROh42LNHMTF03if5BftXDs/WL/wNrvjPEYJPq8Ten5udkOiDQMqbHZHUGYGWuvDSqk3gYUYJ6QWYpRyNKV9t+gaJLl2IU06f65WSv1nkEMylc3ucAGuYMfh8SqwSSn1BMbDvMcwlmCEAOSEVpchnT8vLq21C5iPkWSfkP2loilJrl2HdP68+Hw5qiq6GVkW6CK01m9jrPs1fF7PhaOqkS28ZNnFiKur6upLMKLjZOYqhI9kCUZ4Q5KrEL6TJRjRLtnnKoQQASAzVyGECABJrkIIEQCSXIUQIgAkuQohRABIchVCiACQ5CqEEAEgyVUIIQJAkqsQQgSAJFchhAgASa5CCBEAklyFECIAJLkKIUQASHIVQogAkOQqhBABIMlVCCECQJKrEEIEgCRXIYQIAEmuQggRAJJchRAiACS5CiFEAEhyFUKIAPh/cmdGK3lP33sAAAAASUVORK5CYII=",
      "text/plain": [
       "<Figure size 432x288 with 1 Axes>"
=======
      "image/png": "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",
      "text/plain": [
       "<Figure size 640x480 with 1 Axes>"
>>>>>>> main
      ]
     },
     "metadata": {},
     "output_type": "display_data"
    }
   ],
   "source": [
    "label = count1.index.values\n",
    "plt.pie(count1, labels=label, autopct=\"%1.1f%%\", startangle=0, shadow=False)\n",
    "plt.title(\"Overall Volume by ETF from 2012/01/01 to 2022/01/01\")\n",
    "plt.ylabel(\"ETFs\")\n",
    "plt.show()"
   ]
  },
  {
   "cell_type": "code",
   "execution_count": null,
   "metadata": {},
   "outputs": [],
   "source": []
  }
 ],
 "metadata": {
  "kernelspec": {
   "display_name": "PythonData",
   "language": "python",
<<<<<<< HEAD
   "name": "python3"
=======
   "name": "pythondata"
>>>>>>> main
  },
  "language_info": {
   "codemirror_mode": {
    "name": "ipython",
    "version": 3
   },
   "file_extension": ".py",
   "mimetype": "text/x-python",
   "name": "python",
   "nbconvert_exporter": "python",
   "pygments_lexer": "ipython3",
<<<<<<< HEAD
   "version": "3.7.7"
=======
   "version": "3.9.13"
>>>>>>> main
  },
  "orig_nbformat": 4,
  "vscode": {
   "interpreter": {
    "hash": "9181d4b1d2d04808d14f6017d1099c4590a41d46823cefece9f54c4051394fdb"
   }
  }
 },
 "nbformat": 4,
 "nbformat_minor": 2
}
