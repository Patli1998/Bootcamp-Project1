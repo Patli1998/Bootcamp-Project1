{
 "cells": [
  {
   "cell_type": "code",
   "execution_count": 30,
   "metadata": {},
   "outputs": [],
   "source": [
    "# Import Dependencies\n",
    "import numpy as np\n",
    "import pandas as pd\n",
    "import os\n",
    "\n",
    "import yfinance as yf\n",
    "yf.pdr_override()\n",
    "from pandas_datareader import data as pdr\n",
    "import csv\n",
    "from matplotlib import pyplot as plt\n",
    "import scipy.stats as st\n",
    "import seaborn as sns"
   ]
  },
  {
   "cell_type": "code",
   "execution_count": 31,
   "metadata": {},
   "outputs": [
    {
     "name": "stdout",
     "output_type": "stream",
     "text": [
      "[*********************100%***********************]  1 of 1 completed\n",
      "[*********************100%***********************]  1 of 1 completed\n",
      "[*********************100%***********************]  1 of 1 completed\n",
      "[*********************100%***********************]  1 of 1 completed\n",
      "[*********************100%***********************]  1 of 1 completed\n",
      "[*********************100%***********************]  1 of 1 completed\n",
      "[*********************100%***********************]  1 of 1 completed\n",
      "[*********************100%***********************]  1 of 1 completed\n",
      "[*********************100%***********************]  1 of 1 completed\n",
      "[*********************100%***********************]  1 of 1 completed\n",
      "[*********************100%***********************]  1 of 1 completed\n",
      "[*********************100%***********************]  1 of 1 completed\n"
     ]
    }
   ],
   "source": [
    "# Shortened the process into a loop for pulling Stock Data\n",
    "stockstring = ['SPY', 'QQQ', 'VTI', 'XLK', 'XLY', 'XLP', 'XLV', 'XLI', 'XLF', 'VNQ', 'XLE', 'XLU']\n",
    "stockstring_expl = ['SPY - S&P500 ETF', 'QQQ - NASDAQ-100 Index', 'VTI - Vanguard Total Stock Market Index Fund', 'XLK - Technology Select Sector SPDR Fund', 'XLY - Consumer Cyclical/Consumer Discretionary', 'XLP - Consumer Defensive/Consumer Staples', 'XLV - Healthcare', 'XLI - Industrials', 'XLF - Financials', 'VNQ - Real Estate', 'XLE - Energy', 'XLU - Utilities']\n",
    "\n",
    "start = '2012-01-01'\n",
    "end = '2022-01-01'\n",
    "\n",
    "stockslist = {}\n",
    "for x in stockstring:\n",
    "    stockslist[x] = pdr.get_data_yahoo(x, start=start, end=end)\n",
    "\n",
    "#Create Individual DataFrame Variables for each Stock\n",
    "SPY, QQQ, VTI, XLK, XLY, XLP, XLV, XLI, XLF, VNQ, XLE, XLU = [stockslist[x] for x in stockstring]"
   ]
  },
  {
   "cell_type": "code",
   "execution_count": 33,
   "metadata": {},
   "outputs": [
    {
     "ename": "NameError",
     "evalue": "name 'constituents' is not defined",
     "output_type": "error",
     "traceback": [
      "\u001b[1;31m---------------------------------------------------------------------------\u001b[0m",
      "\u001b[1;31mNameError\u001b[0m                                 Traceback (most recent call last)",
      "\u001b[1;32m~\\AppData\\Local\\Temp\\ipykernel_20328\\1426302343.py\u001b[0m in \u001b[0;36m<module>\u001b[1;34m\u001b[0m\n\u001b[0;32m      1\u001b[0m \u001b[0mfile\u001b[0m \u001b[1;33m=\u001b[0m \u001b[1;34m'constituents-financials_csv.csv'\u001b[0m\u001b[1;33m\u001b[0m\u001b[1;33m\u001b[0m\u001b[0m\n\u001b[1;32m----> 2\u001b[1;33m \u001b[0mfile_path\u001b[0m \u001b[1;33m=\u001b[0m \u001b[0mos\u001b[0m\u001b[1;33m.\u001b[0m\u001b[0mpath\u001b[0m\u001b[1;33m.\u001b[0m\u001b[0mjoin\u001b[0m\u001b[1;33m(\u001b[0m\u001b[1;34m\"data\"\u001b[0m\u001b[1;33m,\u001b[0m \u001b[0mconstituents\u001b[0m\u001b[1;33m-\u001b[0m\u001b[0mfinancials_csv\u001b[0m\u001b[1;33m.\u001b[0m\u001b[0mcsv\u001b[0m\u001b[1;33m)\u001b[0m\u001b[1;33m\u001b[0m\u001b[1;33m\u001b[0m\u001b[0m\n\u001b[0m\u001b[0;32m      3\u001b[0m \u001b[0mspreadsheet\u001b[0m \u001b[1;33m=\u001b[0m \u001b[0mpd\u001b[0m\u001b[1;33m.\u001b[0m\u001b[0mread_csv\u001b[0m\u001b[1;33m(\u001b[0m\u001b[0mfile_path\u001b[0m\u001b[1;33m)\u001b[0m\u001b[1;33m\u001b[0m\u001b[1;33m\u001b[0m\u001b[0m\n",
      "\u001b[1;31mNameError\u001b[0m: name 'constituents' is not defined"
     ]
    }
   ],
   "source": [
    "file = 'constituents-financials_csv.csv'\n",
    "file_path = os.path.join(\"data\", constituents-financials_csv.csv)\n",
    "spreadsheet = pd.read_csv(file_path)"
   ]
  },
  {
   "cell_type": "code",
   "execution_count": null,
   "metadata": {},
   "outputs": [],
   "source": [
    "# Add a array of those stock sybmols for later loops.\n",
    "stockslist1 = [VTI, QQQ, SPY, XLK, XLY, XLP, XLV, XLI, XLF, VNQ, XLE, XLU]\n",
    "tickers1 = ['SPY', 'QQQ', 'VTI']"
   ]
  },
  {
   "cell_type": "code",
   "execution_count": null,
   "metadata": {},
   "outputs": [],
   "source": [
    "# Reset the index for all Stock Ticker DataFrames.\n",
    "for xyz in stockslist1:\n",
    "    xyz.reset_index(inplace=True)"
   ]
  },
  {
   "cell_type": "code",
   "execution_count": null,
   "metadata": {},
   "outputs": [],
   "source": [
    "# Adding a Column Called Ticker to Each DataFrame using the Tickers in our Libraries above.\n",
    "for xy, ticker in zip(stockslist1, stockstring):\n",
    "    xy[\"Ticker\"] = ticker"
   ]
  },
  {
   "cell_type": "code",
   "execution_count": null,
   "metadata": {},
   "outputs": [],
   "source": [
    "# Create a Column called PercentChange that tracks progress of each ETF over time.\n",
    "for o in stockslist1:\n",
    "    stock_pct_change = o['Close'].pct_change()\n",
    "    o[\"PercentChange\"] = (stock_pct_change.add(1).cumprod().subtract(1))*100\n",
    "    o.fillna(0, inplace=True)"
   ]
  },
  {
   "cell_type": "code",
   "execution_count": null,
   "metadata": {},
   "outputs": [],
   "source": [
    "# Generate the Rate of Return for all stock ETF tickers we have using the Rate of Return formula.\n",
    "SPY_end_price = SPY.Close.iloc[-1]\n",
    "SPY_start_price = SPY.Close.iloc[0]\n",
    "SPY_10_year_return = ((SPY_end_price / SPY_start_price - 1) * 100)/10\n",
    "#5 year return calculation\n",
    "SPY_5_year_return = ((SPY.Close.iloc[-1] / SPY.Close.iloc[-1260] - 1) * 100)/5\n",
    "#3 year return calculation\n",
    "SPY_3_year_return = ((SPY.Close.iloc[-1] / SPY.Close.iloc[-756] - 1) * 100)/3\n",
    "#1 year return calculation\n",
    "SPY_1_year_return = ((SPY.Close.iloc[-1] / SPY.Close.iloc[-252] - 1) * 100)\n",
    "QQQ_end_price = QQQ.Close.iloc[-1]\n",
    "QQQ_start_price = QQQ.Close.iloc[0]\n",
    "QQQ_10_year_return = ((QQQ_end_price / QQQ_start_price - 1) * 100)/10\n",
    "#5 year return calculation\n",
    "QQQ_5_year_return = ((QQQ.Close.iloc[-1] / QQQ.Close.iloc[-1260] - 1) * 100)/5\n",
    "#3 year return calculation\n",
    "QQQ_3_year_return = ((QQQ.Close.iloc[-1] / QQQ.Close.iloc[-756] - 1) * 100)/3\n",
    "#1 year return calculation\n",
    "QQQ_1_year_return = ((QQQ.Close.iloc[-1] / QQQ.Close.iloc[-252] - 1) * 100)\n",
    "# Do the same for XLK\n",
    "VTI_end_price = VTI.Close.iloc[-1]\n",
    "VTI_start_price = VTI.Close.iloc[0]\n",
    "VTI_10_year_return = ((VTI_end_price / VTI_start_price - 1) * 100)/10\n",
    "#5 year return calculation\n",
    "VTI_5_year_return = ((VTI.Close.iloc[-1] / VTI.Close.iloc[-1260] - 1) * 100)/5\n",
    "#3 year return calculation\n",
    "VTI_3_year_return = ((VTI.Close.iloc[-1] / VTI.Close.iloc[-756] - 1) * 100)/3\n",
    "#1 year return calculation\n",
    "VTI_1_year_return = ((VTI.Close.iloc[-1] / VTI.Close.iloc[-252] - 1) * 100)\n",
    "# Do the same for XLK\n",
    "XLK_end_price = XLK.Close.iloc[-1]\n",
    "XLK_start_price = XLK.Close.iloc[0]\n",
    "XLK_10_year_return = ((XLK_end_price / XLK_start_price - 1) * 100)/10\n",
    "#5 year return calculation\n",
    "XLK_5_year_return = ((XLK.Close.iloc[-1] / XLK.Close.iloc[-1260] - 1) * 100)/5\n",
    "#3 year return calculation\n",
    "XLK_3_year_return = ((XLK.Close.iloc[-1] / XLK.Close.iloc[-756] - 1) * 100)/3\n",
    "#1 year return calculation\n",
    "XLK_1_year_return = ((XLK.Close.iloc[-1] / XLK.Close.iloc[-252] - 1) * 100)\n",
    "# Do the same for XLY\n",
    "XLY_end_price = XLY.Close.iloc[-1]\n",
    "XLY_start_price = XLY.Close.iloc[0]\n",
    "XLY_10_year_return = ((XLY_end_price / XLY_start_price - 1) * 100)/10\n",
    "#5 year return calculation\n",
    "XLY_5_year_return = ((XLY.Close.iloc[-1] / XLY.Close.iloc[-1260] - 1) * 100)/5\n",
    "#3 year return calculation\n",
    "XLY_3_year_return = ((XLY.Close.iloc[-1] / XLY.Close.iloc[-756] - 1) * 100)/3\n",
    "#1 year return calculation\n",
    "XLY_1_year_return = ((XLY.Close.iloc[-1] / XLY.Close.iloc[-252] - 1) * 100)\n",
    "#Do the same for XLP\n",
    "XLP_end_price = XLP.Close.iloc[-1]\n",
    "XLP_start_price = XLP.Close.iloc[0]\n",
    "XLP_10_year_return = ((XLP_end_price / XLP_start_price - 1) * 100)/10\n",
    "#5 year return calculation\n",
    "XLP_5_year_return = ((XLP.Close.iloc[-1] / XLP.Close.iloc[-1260] - 1) * 100)/5\n",
    "#3 year return calculation\n",
    "XLP_3_year_return = ((XLP.Close.iloc[-1] / XLP.Close.iloc[-756] - 1) * 100)/3\n",
    "#1 year return calculation\n",
    "XLP_1_year_return = ((XLP.Close.iloc[-1] / XLP.Close.iloc[-252] - 1) * 100)\n",
    "#Do the same for XLV\n",
    "XLV_end_price = XLV.Close.iloc[-1]\n",
    "XLV_start_price = XLV.Close.iloc[0]\n",
    "XLV_10_year_return = ((XLV_end_price / XLV_start_price - 1) * 100)/10\n",
    "#5 year return calculation\n",
    "XLV_5_year_return = ((XLV.Close.iloc[-1] / XLV.Close.iloc[-1260] - 1) * 100)/5\n",
    "#3 year return calculation\n",
    "XLV_3_year_return = ((XLV.Close.iloc[-1] / XLV.Close.iloc[-756] - 1) * 100)/3\n",
    "#1 year return calculation\n",
    "XLV_1_year_return = ((XLV.Close.iloc[-1] / XLV.Close.iloc[-252] - 1) * 100)\n",
    "# Do the same for XLI\n",
    "XLI_end_price = XLI.Close.iloc[-1]\n",
    "XLI_start_price = XLI.Close.iloc[0]\n",
    "XLI_10_year_return = ((XLI_end_price / XLI_start_price - 1) * 100)/10\n",
    "#5 year return calculation\n",
    "XLI_5_year_return = ((XLI.Close.iloc[-1] / XLI.Close.iloc[-1260] - 1) * 100)/5\n",
    "#3 year return calculation\n",
    "XLI_3_year_return = ((XLI.Close.iloc[-1] / XLI.Close.iloc[-756] - 1) * 100)/3\n",
    "#1 year return calculation\n",
    "XLI_1_year_return = ((XLI.Close.iloc[-1] / XLI.Close.iloc[-252] - 1) * 100)\n",
    "# Do the same for XLF\n",
    "XLF_end_price = XLF.Close.iloc[-1]\n",
    "XLF_start_price = XLF.Close.iloc[0]\n",
    "XLF_10_year_return = ((XLF_end_price / XLF_start_price - 1) * 100)/10\n",
    "#5 year return calculation\n",
    "XLF_5_year_return = ((XLF.Close.iloc[-1] / XLF.Close.iloc[-1260] - 1) * 100)/5\n",
    "#3 year return calculation\n",
    "XLF_3_year_return = ((XLF.Close.iloc[-1] / XLF.Close.iloc[-756] - 1) * 100)/3\n",
    "#1 year return calculation\n",
    "XLF_1_year_return = ((XLF.Close.iloc[-1] / XLF.Close.iloc[-252] - 1) * 100)\n",
    "# Do the same for VNQ\n",
    "VNQ_end_price = VNQ.Close.iloc[-1]\n",
    "VNQ_start_price = VNQ.Close.iloc[0]\n",
    "VNQ_10_year_return = ((VNQ_end_price / VNQ_start_price - 1) * 100)/10\n",
    "#5 year return calculation\n",
    "VNQ_5_year_return = ((VNQ.Close.iloc[-1] / VNQ.Close.iloc[-1260] - 1) * 100)/5\n",
    "#3 year return calculation\n",
    "VNQ_3_year_return = ((VNQ.Close.iloc[-1] / VNQ.Close.iloc[-756] - 1) * 100)/3\n",
    "#1 year return calculation\n",
    "VNQ_1_year_return = ((VNQ.Close.iloc[-1] / VNQ.Close.iloc[-252] - 1) * 100)\n",
    "# Do the same for VNQ\n",
    "XLE_end_price = XLE.Close.iloc[-1]\n",
    "XLE_start_price = XLE.Close.iloc[0]\n",
    "XLE_10_year_return = ((XLE_end_price / XLE_start_price - 1) * 100)/10\n",
    "#5 year return calculation\n",
    "XLE_5_year_return = ((XLE.Close.iloc[-1] / XLE.Close.iloc[-1260] - 1) * 100)/5\n",
    "#3 year return calculation\n",
    "XLE_3_year_return = ((XLE.Close.iloc[-1] / XLE.Close.iloc[-756] - 1) * 100)/3\n",
    "#1 year return calculation\n",
    "XLE_1_year_return = ((XLE.Close.iloc[-1] / XLE.Close.iloc[-252] - 1) * 100)\n",
    "# Do the same for XLU\n",
    "XLU_end_price = XLU.Close.iloc[-1]\n",
    "XLU_start_price = XLU.Close.iloc[0]\n",
    "XLU_10_year_return = ((XLU_end_price / XLU_start_price - 1) * 100)/10\n",
    "#5 year return calculation\n",
    "XLU_5_year_return = ((XLU.Close.iloc[-1] / XLU.Close.iloc[-1260] - 1) * 100)/5\n",
    "#3 year return calculation\n",
    "XLU_3_year_return = ((XLU.Close.iloc[-1] / XLU.Close.iloc[-756] - 1) * 100)/3\n",
    "#1 year return calculation\n",
    "XLU_1_year_return = ((XLU.Close.iloc[-1] / XLU.Close.iloc[-252] - 1) * 100)"
   ]
  },
  {
   "cell_type": "code",
   "execution_count": null,
   "metadata": {},
   "outputs": [],
   "source": [
    "# Make a DataFrame for the returns for 10,5,3,1 years for all Tickers.\n",
    "returns_10_5_3_1 = pd.DataFrame({'10 Year Yearly Rate of Return': [SPY_10_year_return, QQQ_10_year_return, VTI_10_year_return, XLK_10_year_return, XLY_10_year_return, XLP_10_year_return, XLV_10_year_return, XLI_10_year_return, XLF_10_year_return, VNQ_10_year_return, XLE_10_year_return, XLU_10_year_return],\n",
    "                        '5 Year Yearly Rate of Return': [SPY_5_year_return, QQQ_5_year_return, VTI_5_year_return, XLK_5_year_return, XLY_5_year_return, XLP_5_year_return, XLV_5_year_return, XLI_5_year_return, XLF_5_year_return, VNQ_5_year_return, XLE_5_year_return, XLU_5_year_return],\n",
    "                        '3 Year Yearly Rate of Return': [SPY_3_year_return, QQQ_3_year_return, VTI_3_year_return, XLK_3_year_return, XLY_3_year_return, XLP_3_year_return, XLV_3_year_return, XLI_3_year_return, XLF_3_year_return, VNQ_3_year_return, XLE_3_year_return, XLU_3_year_return],\n",
    "                        '1 Year Yearly Rate of Return': [SPY_1_year_return, QQQ_1_year_return, VTI_1_year_return, XLK_1_year_return, XLY_1_year_return, XLP_1_year_return, XLV_1_year_return, XLI_1_year_return, XLF_1_year_return, VNQ_1_year_return, XLE_1_year_return, XLU_1_year_return]})\n",
    "\n",
    "returns_10_5_3_1.index = ['SPY', 'QQQ', 'VTI', 'XLK', 'XLY', 'XLP', 'XLV', 'XLI', 'XLF', 'VNQ', 'XLE', 'XLU']\n",
    "\n",
    "returns_10_5_3_1.head(12)"
   ]
  },
  {
   "cell_type": "code",
   "execution_count": null,
   "metadata": {},
   "outputs": [],
   "source": [
    "# Merge all the ETFs into a one DataFrame for later use for our charting.\n",
    "data = pd.concat(stockslist1)\n",
    "data.sample(10)"
   ]
  },
  {
   "cell_type": "code",
   "execution_count": null,
   "metadata": {},
   "outputs": [],
   "source": [
    "#Test that we have the correct amount of Unique tickers added to the DataFrame\n",
    "Ticker_count = len(data.groupby(\"Ticker\").nunique())\n",
    "print(Ticker_count)"
   ]
  },
  {
   "cell_type": "code",
   "execution_count": null,
   "metadata": {},
   "outputs": [],
   "source": [
    "# Seems like we have all of the data points matching one another meaning that our initial 3 ETFs and the other ETF representing Indexes in the market are in line with one another.\n",
    "data.count()"
   ]
  },
  {
   "cell_type": "code",
   "execution_count": null,
   "metadata": {},
   "outputs": [],
   "source": [
    "# Extract the 10 Year Rate of Return and Plot it in a Bar Chart\n",
    "return_10 = returns_10_5_3_1['10 Year Yearly Rate of Return']\n",
    "color=['deepskyblue', 'tomato', 'forestgreen', 'darkgoldenrod', 'darkorange','blueviolet', 'lawngreen', 'magenta', 'gold' ,'mediumblue', 'slategrey', 'salmon']\n",
    "# Plot a bar chart using the extracted data from return_10 sourced from returns_10_5_3_1 \n",
    "plt.bar(return_10.index, return_10.values, color=color)\n",
    "\n",
    "# Set the title of the chart\n",
    "plt.title(\"10 Year Rate of Return Per Year from Jan 2012 to Dec 2021\")\n",
    "\n",
    "# Add labels to the x and y axes\n",
    "plt.xlabel(\"Stock Symbol\")\n",
    "plt.ylabel(\"Yearly Rate of Return %\")\n",
    "plt.grid(linestyle='-', linewidth=1, alpha=0.2, axis = 'y')\n",
    "\n",
    "# Show the plot\n",
    "plt.show()"
   ]
  },
  {
   "cell_type": "code",
   "execution_count": null,
   "metadata": {},
   "outputs": [],
   "source": [
    "# Extract the 5 Year Rate of Return and Plot it in a Bar Chart\n",
    "return_5 = returns_10_5_3_1['5 Year Yearly Rate of Return']\n",
    "\n",
    "# Plot a bar chart using the extracted data from return_5 sourced from returns_10_5_3_1 \n",
    "plt.bar(return_5.index, return_5.values, color=color)\n",
    "\n",
    "# Set the title of the chart\n",
    "plt.title(\"5 Year Rate of Return Per Year from Jan 2017 to Dec 2021\")\n",
    "\n",
    "# Add labels to the x and y axes\n",
    "plt.xlabel(\"Stock Symbol\")\n",
    "plt.ylabel(\"Yearly Rate of Return %\")\n",
    "plt.grid(linestyle='-', linewidth=1, alpha=0.2, axis = 'y')\n",
    "\n",
    "# Show the plot\n",
    "plt.show()"
   ]
  },
  {
   "cell_type": "code",
   "execution_count": null,
   "metadata": {},
   "outputs": [],
   "source": [
    "# Extract the 3 Year Rate of Return and Plot it in a Bar Chart\n",
    "return_3 = returns_10_5_3_1['3 Year Yearly Rate of Return']\n",
    "\n",
    "# Plot a bar chart using the extracted data from return_3 sourced from returns_10_5_3_1 \n",
    "plt.bar(return_3.index, return_3.values, color=color)\n",
    "\n",
    "# Set the title of the chart\n",
    "plt.title(\"3 Year Rate of Return Per Year from Jan 2019 to Dec 2021\")\n",
    "\n",
    "# Add labels to the x and y axes\n",
    "plt.xlabel(\"Stock Symbol\")\n",
    "plt.ylabel(\"Yearly Rate of Return %\")\n",
    "plt.grid(linestyle='-', linewidth=1, alpha=0.2, axis = 'y')\n",
    "\n",
    "# Show the plot\n",
    "plt.show()"
   ]
  },
  {
   "cell_type": "code",
   "execution_count": null,
   "metadata": {},
   "outputs": [],
   "source": [
    "# Extract the 1 Year Rate of Return and Plot it in a Bar Chart\n",
    "return_1 = returns_10_5_3_1['1 Year Yearly Rate of Return']\n",
    "\n",
    "# Plot a bar chart using the extracted data from return_1 sourced from returns_10_5_3_1 \n",
    "plt.bar(return_1.index, return_1.values, color=color)\n",
    "\n",
    "# Set the title of the chart\n",
    "plt.title(\"1 Year Rate of Return Per Year from Jan 2021 to Dec 2021.\")\n",
    "\n",
    "# Add labels to the x and y axes\n",
    "plt.xlabel(\"Stock Symbol\")\n",
    "plt.ylabel(\"Yearly Rate of Return %\")\n",
    "plt.grid(linestyle='-', linewidth=1, alpha=0.2, axis = 'y')\n",
    "\n",
    "# Show the plot\n",
    "plt.show()"
   ]
  },
  {
   "cell_type": "code",
   "execution_count": null,
   "metadata": {},
   "outputs": [],
   "source": [
    "#Plot out the initial info we have to see what we are working with.\n",
    "marker='o'\n",
    "color1=['tomato', 'darkorange', 'forestgreen']\n",
    "for i, ticker in enumerate(tickers1):\n",
    "    line = data.loc[data[\"Ticker\"] == ticker]\n",
    "    color2 = color1[i % len(color1)]\n",
    "    plt.plot(line[\"Date\"], line[\"Close\"], marker=marker, color=color2, markersize=0.5)\n",
    "    \n",
    "plt.xlabel(\"Time - Daily Stock Movement since 2012 to end of 2021\")\n",
    "plt.ylabel(\"Closing Price\")\n",
    "plt.title(f\"The journey of the stock market - {' vs '.join(tickers1)}\")\n",
    "plt.legend(stockstring_expl, loc=\"center left\", bbox_to_anchor=(1.0, 0.5))\n",
    "plt.grid(linestyle='-', linewidth=1, alpha=0.35)\n",
    "plt.show()"
   ]
  },
  {
   "cell_type": "code",
   "execution_count": null,
   "metadata": {},
   "outputs": [],
   "source": [
    "#Plot out the new Cumulative change we calcuated into a Graph that starts at the same point.\n",
    "\n",
    "color1=['deepskyblue', 'tomato', 'forestgreen']\n",
    "for i, ticker in enumerate(tickers1):\n",
    "    line = data.loc[data[\"Ticker\"] == ticker]\n",
    "    color2 = color1[i % len(color1)]\n",
    "    plt.plot(line[\"Date\"], line[\"PercentChange\"], marker=marker, color=color2, markersize=0.5)\n",
    "    \n",
    "plt.xlabel(\"Time - Daily Stock Movement since 2012 to end of 2021\")\n",
    "plt.ylabel(\"Percentage Change (%)\")\n",
    "plt.title(f\"The journey of the stock market - {' vs '.join(stockstring)}\")\n",
    "plt.grid(linestyle='-', linewidth=1, alpha=0.35)\n",
    "plt.legend(stockstring_expl, loc=\"center left\", bbox_to_anchor=(1.0, 0.5))\n",
    "plt.show()"
   ]
  },
  {
   "cell_type": "code",
   "execution_count": null,
   "metadata": {},
   "outputs": [],
   "source": [
    "# Starting graphing cumulative change line for all ETFs by different sectors since 2012/01/01.\n",
    "lines = [data.loc[data[\"Ticker\"] == ticker] for ticker in stockstring]\n",
    "color=['deepskyblue', 'tomato', 'forestgreen', 'darkgoldenrod', 'darkorange','blueviolet', 'lawngreen', 'magenta', 'gold' ,'mediumblue', 'slategrey', 'salmon']\n",
    "for i, ticker in enumerate(stockstring):\n",
    "    line = data.loc[data[\"Ticker\"] == ticker]\n",
    "    color3 = color[i % len(color)]\n",
    "    plt.plot(line[\"Date\"], line[\"PercentChange\"], marker=marker, color=color3, markersize=1)\n",
    "\n",
    "plt.xlabel(\"Time - Daily Stock Movement since 2012 to end of 2021\")\n",
    "plt.ylabel(\"Percentage Change (%)\")\n",
    "plt.title(f\"The journey of the stock market - {' vs '.join(stockstring)}\")\n",
    "plt.grid(linestyle='-', linewidth=1, alpha = 0.35)\n",
    "plt.legend(stockstring_expl, loc=\"center left\", bbox_to_anchor=(1.0, 0.5))\n",
    "plt.show()"
   ]
  },
  {
   "cell_type": "code",
   "execution_count": null,
   "metadata": {},
   "outputs": [],
   "source": [
    "# Create a count of Volumes by ETF so that we can incorporate that into making a Bar chart later.\n",
    "count = data.groupby(\"Ticker\")\n",
    "count1 = count[\"Volume\"].sum()\n",
    "count1"
   ]
  },
  {
   "cell_type": "code",
   "execution_count": null,
   "metadata": {},
   "outputs": [],
   "source": [
    "label = count1.index.values\n",
    "color=['deepskyblue', 'tomato', 'forestgreen', 'darkgoldenrod', 'darkorange','blueviolet', 'lawngreen', 'magenta', 'gold' ,'mediumblue', 'slategrey', 'salmon']\n",
    "plt.pie(count1, labels=label, autopct=\"%1.1f%%\", pctdistance=1.20, labeldistance=1.35, startangle=0, shadow=False, colors=color)\n",
    "plt.title(\"Overall Volume by ETF from 2012/01/01 to 2022/01/01\")\n",
    "plt.ylabel(\"ETFs\")\n",
    "plt.legend(stockstring_expl, loc=\"center left\", bbox_to_anchor=(1.2, 0.5))\n",
    "plt.show()"
   ]
  },
  {
   "cell_type": "code",
   "execution_count": null,
   "metadata": {},
   "outputs": [],
   "source": [
    "data.head()"
   ]
  },
  {
   "cell_type": "code",
   "execution_count": null,
   "metadata": {},
   "outputs": [],
   "source": [
    "data.tail()"
   ]
  },
  {
   "cell_type": "code",
   "execution_count": null,
   "metadata": {},
   "outputs": [],
   "source": [
    "returns_10_5_3_1.info()"
   ]
  },
  {
   "cell_type": "code",
   "execution_count": null,
   "metadata": {},
   "outputs": [],
   "source": [
    "data.info()"
   ]
  },
  {
   "cell_type": "code",
   "execution_count": null,
   "metadata": {},
   "outputs": [],
   "source": [
    "# look at stats to see if anything additional pops out from our data set.\n",
    "returns_10_5_3_1.describe()"
   ]
  },
  {
   "cell_type": "code",
   "execution_count": null,
   "metadata": {},
   "outputs": [],
   "source": [
    "# Last check of Data to make sure counts etc arent out of order and nothing jumps out as an error.\n",
    "data.describe()"
   ]
  },
  {
   "cell_type": "code",
   "execution_count": null,
   "metadata": {},
   "outputs": [],
   "source": [
    "QQQ.tail(252)"
   ]
  },
  {
   "cell_type": "code",
   "execution_count": null,
   "metadata": {},
   "outputs": [],
   "source": [
    "# Attempts to figure out some kind of correlation but not successful in terms of knowledge of the scope about how to do this. If we were to proceed to find correlation/\n",
    "# in the future we would have to find out more about how that works and what variables to use to make it meaningful.\n",
    "\n",
    "# # Calculate the correlation coefficient and linear regression model\n",
    "# correlation = st.pearsonr(data['PercentChange'],data['Volume'])\n",
    "# print(f\"The correlation between the Percent Change and the Volume is {round(correlation[0],2)}\")\n",
    "# #Correlation graph\n",
    "# (slope, intercept,rvalue, pvalue, stderr)= st.linregress(data['PercentChange'],data['Volume'])\n",
    "# regress_values=data[\"PercentChange\"]* slope + intercept\n",
    "# line_eq= f\"y = {round(slope, 2)} x + {round(intercept, 2)}\"\n",
    "# plt.scatter(data[\"PercentChange\"],data[\"Volume\"],color='b')\n",
    "# plt.plot(data[\"PercentChange\"], regress_values, color='red')\n",
    "# plt.annotate(line_eq,(20,36), fontsize=15)\n",
    "# plt.xlabel(\"PercentChange\")\n",
    "# plt.ylabel(\"Volume\")\n",
    "# plt.title(\"Percent Change vs Volume\")\n",
    "# print(f\"The r-squared is: {round(rvalue**2,3)}\")\n",
    "# plt.show()"
   ]
  },
  {
   "cell_type": "code",
   "execution_count": null,
   "metadata": {},
   "outputs": [],
   "source": [
    "spreadsheet.head()"
   ]
  },
  {
   "cell_type": "code",
   "execution_count": null,
   "metadata": {},
   "outputs": [],
   "source": [
    "narrowspreadsheet = spreadsheet[['Name', 'Sector', 'Market Cap']]\n",
    "\n",
    "narrowspreadsheet"
   ]
  },
  {
   "cell_type": "code",
   "execution_count": null,
   "metadata": {},
   "outputs": [],
   "source": [
    "top10 = narrowspreadsheet[['Name', 'Sector', 'Market Cap']]\n",
    "top_10_sectors = narrowspreadsheet.groupby('Sector').agg({'Name': 'first', 'Market Cap': 'sum'}).nlargest(10, 'Market Cap')\n",
    "\n",
    "print(top_10_sectors)"
   ]
  },
  {
   "cell_type": "code",
   "execution_count": null,
   "metadata": {},
   "outputs": [],
   "source": [
    "sns.set_style(\"whitegrid\")\n",
    "top_10_sectors = narrowspreadsheet.groupby('Sector').sum().nlargest(10, 'Market Cap')\n",
    "sns.barplot(x=top_10_sectors.index, y='Market Cap', data=top_10_sectors)\n",
    "plt.xlabel(\"Sector\", fontsize=12)\n",
    "plt.ylabel(\"Market Cap (in Billions)\", fontsize=12)\n",
    "plt.xticks(rotation=90, fontsize=12)\n",
    "plt.title(\"Top 10 Sectors by Market Cap\", fontsize=16)\n",
    "plt.show()"
   ]
  },
  {
   "cell_type": "code",
   "execution_count": null,
   "metadata": {},
   "outputs": [],
   "source": [
    "\n",
    "dividend_yield = spreadsheet\n",
    "\n",
    "dividend_yield"
   ]
  },
  {
   "cell_type": "code",
   "execution_count": null,
   "metadata": {},
   "outputs": [],
   "source": [
    "\n",
    "dividend = dividend_yield.groupby('Sector')['Dividend Yield'].mean()"
   ]
  },
  {
   "cell_type": "code",
   "execution_count": null,
   "metadata": {},
   "outputs": [],
   "source": [
    "\n",
    "dividend.sort_values(ascending=False, inplace=True)"
   ]
  },
  {
   "cell_type": "code",
   "execution_count": null,
   "metadata": {},
   "outputs": [],
   "source": [
    "\n",
    "dividend.sort_values(ascending=False, inplace=True)\n",
    "print(dividend)"
   ]
  },
  {
   "cell_type": "code",
   "execution_count": null,
   "metadata": {},
   "outputs": [],
   "source": [
    "# Create a bar plot using seaborn\n",
    "\n",
    "colors = ['deepskyblue', 'tomato', 'forestgreen', 'darkgoldenrod', 'darkorange','blueviolet', 'lawngreen', 'magenta', 'gold' ,'mediumblue']\n",
    "\n",
    "\n",
    "fig, ax = plt.subplots()\n",
    "\n",
    "ax.bar(dividend.keys(), dividend.values, color=colors)\n",
    "\n",
    "plt.title('Mean Dividend Yield by Sector')\n",
    "plt.xlabel('Sector')\n",
    "plt.ylabel('Mean Dividend Yield')\n",
    "\n",
    "# Rotate the x-axis labels for better readability\n",
    "plt.xticks(rotation=90)\n",
    "\n",
    "plt.show()"
   ]
  },
  {
   "cell_type": "code",
   "execution_count": null,
   "metadata": {},
   "outputs": [],
   "source": [
    "\n",
    "price_to_book = spreadsheet.groupby('Sector')['Price/Book'].mean()"
   ]
  },
  {
   "cell_type": "code",
   "execution_count": null,
   "metadata": {},
   "outputs": [],
   "source": [
    "\n",
    "price_to_book.sort_values(ascending=False, inplace=True)"
   ]
  },
  {
   "cell_type": "code",
   "execution_count": null,
   "metadata": {},
   "outputs": [],
   "source": [
    "sns.barplot(x=price_to_book.index, y=price_to_book.values)\n",
    "\n",
    "plt.title('Mean Price/Book Ratio by Sector')\n",
    "plt.xlabel('Sector')\n",
    "plt.ylabel('Mean Price/Book Ratio')\n",
    "plt.xticks(rotation=90)\n",
    "\n",
    "plt.show()"
   ]
  },
  {
   "cell_type": "code",
   "execution_count": null,
   "metadata": {},
   "outputs": [],
   "source": [
    "\n",
    "spreadsheet"
   ]
  },
  {
   "cell_type": "code",
   "execution_count": null,
   "metadata": {},
   "outputs": [],
   "source": [
    "color = ['deepskyblue', 'tomato', 'forestgreen', 'darkgoldenrod', 'darkorange', 'blueviolet', 'lawngreen', 'magenta', 'gold' ,'mediumblue']\n",
    "\n",
    "top_10_sectors = narrowspreadsheet.groupby('Sector').sum().nlargest(10, 'Market Cap')\n",
    "top_10_sectors_sum = top_10_sectors['Market Cap'].sum()\n",
    "top_10_sectors['Percentage'] = top_10_sectors['Market Cap'] / top_10_sectors_sum * 100\n",
    "top_10_sectors = top_10_sectors.reset_index()\n",
    "\n",
    "fig, ax = plt.subplots()\n",
    "ax.pie(top_10_sectors['Percentage'], labels=top_10_sectors['Sector'], autopct='%1.1f%%', colors=color)\n",
    "plt.title(\"Top 10 Sectors by Market Cap\", fontsize=16)\n",
    "ax.legend(loc='center left', bbox_to_anchor=(1.3, 0.5), labels=top_10_sectors['Sector'])\n",
    "plt.show()"
   ]
  }
 ],
 "metadata": {
  "kernelspec": {
   "display_name": "base",
   "language": "python",
   "name": "python3"
  },
  "language_info": {
   "codemirror_mode": {
    "name": "ipython",
    "version": 3
   },
   "file_extension": ".py",
   "mimetype": "text/x-python",
   "name": "python",
   "nbconvert_exporter": "python",
   "pygments_lexer": "ipython3",
   "version": "3.9.13"
  },
  "orig_nbformat": 4,
  "vscode": {
   "interpreter": {
    "hash": "a4df7a6600e22bae99e6e8f837be5af686fd7a404512ca9c2620376f38fe7d31"
   }
  }
 },
 "nbformat": 4,
 "nbformat_minor": 2
}
